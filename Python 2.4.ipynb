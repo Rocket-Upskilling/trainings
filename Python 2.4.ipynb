{
 "cells": [
  {
   "cell_type": "code",
   "execution_count": 19,
   "metadata": {},
   "outputs": [],
   "source": [
    "import pandas as pd\n",
    "import numpy as np\n",
    "import random\n",
    "from sklearn.ensemble import GradientBoostingClassifier\n",
    "from sklearn import svm\n",
    "from sklearn.svm import LinearSVC\n",
    "from sklearn.metrics import accuracy_score\n",
    "from sklearn.metrics import confusion_matrix\n",
    "from sklearn.model_selection import ShuffleSplit\n",
    "from sklearn.model_selection import train_test_split\n",
    "from sklearn import preprocessing"
   ]
  },
  {
   "cell_type": "code",
   "execution_count": 20,
   "metadata": {},
   "outputs": [],
   "source": [
    "churn_2_classes = pd.read_csv('./data/churn_2_classes.csv', index_col=0)\n",
    "churn_3_classes = pd.read_csv('./data/churn_3_classes.csv', index_col=0)"
   ]
  },
  {
   "cell_type": "code",
   "execution_count": 21,
   "metadata": {},
   "outputs": [
    {
     "data": {
      "text/html": [
       "<div>\n",
       "<style scoped>\n",
       "    .dataframe tbody tr th:only-of-type {\n",
       "        vertical-align: middle;\n",
       "    }\n",
       "\n",
       "    .dataframe tbody tr th {\n",
       "        vertical-align: top;\n",
       "    }\n",
       "\n",
       "    .dataframe thead th {\n",
       "        text-align: right;\n",
       "    }\n",
       "</style>\n",
       "<table border=\"1\" class=\"dataframe\">\n",
       "  <thead>\n",
       "    <tr style=\"text-align: right;\">\n",
       "      <th></th>\n",
       "      <th>days_since_last_order</th>\n",
       "      <th>median_order_type</th>\n",
       "      <th>days_since_last_contact</th>\n",
       "      <th>monthly_mean_order_vol</th>\n",
       "      <th>yearly_mean_cust_rev</th>\n",
       "      <th>status</th>\n",
       "    </tr>\n",
       "  </thead>\n",
       "  <tbody>\n",
       "    <tr>\n",
       "      <th>2288</th>\n",
       "      <td>1</td>\n",
       "      <td>raw_ingredients</td>\n",
       "      <td>12</td>\n",
       "      <td>1483</td>\n",
       "      <td>1466</td>\n",
       "      <td>active</td>\n",
       "    </tr>\n",
       "    <tr>\n",
       "      <th>869</th>\n",
       "      <td>4</td>\n",
       "      <td>finished_goods</td>\n",
       "      <td>6</td>\n",
       "      <td>1400</td>\n",
       "      <td>1279</td>\n",
       "      <td>active</td>\n",
       "    </tr>\n",
       "    <tr>\n",
       "      <th>4619</th>\n",
       "      <td>4</td>\n",
       "      <td>raw_ingredients</td>\n",
       "      <td>1</td>\n",
       "      <td>1419</td>\n",
       "      <td>1218</td>\n",
       "      <td>active</td>\n",
       "    </tr>\n",
       "    <tr>\n",
       "      <th>5651</th>\n",
       "      <td>12</td>\n",
       "      <td>raw_ingredients</td>\n",
       "      <td>9</td>\n",
       "      <td>1184</td>\n",
       "      <td>1443</td>\n",
       "      <td>active</td>\n",
       "    </tr>\n",
       "    <tr>\n",
       "      <th>6237</th>\n",
       "      <td>11</td>\n",
       "      <td>raw_ingredients</td>\n",
       "      <td>4</td>\n",
       "      <td>614</td>\n",
       "      <td>914</td>\n",
       "      <td>active</td>\n",
       "    </tr>\n",
       "    <tr>\n",
       "      <th>...</th>\n",
       "      <td>...</td>\n",
       "      <td>...</td>\n",
       "      <td>...</td>\n",
       "      <td>...</td>\n",
       "      <td>...</td>\n",
       "      <td>...</td>\n",
       "    </tr>\n",
       "    <tr>\n",
       "      <th>3841</th>\n",
       "      <td>7</td>\n",
       "      <td>raw_ingredients</td>\n",
       "      <td>2</td>\n",
       "      <td>1362</td>\n",
       "      <td>1277</td>\n",
       "      <td>active</td>\n",
       "    </tr>\n",
       "    <tr>\n",
       "      <th>4279</th>\n",
       "      <td>5</td>\n",
       "      <td>raw_ingredients</td>\n",
       "      <td>7</td>\n",
       "      <td>637</td>\n",
       "      <td>635</td>\n",
       "      <td>active</td>\n",
       "    </tr>\n",
       "    <tr>\n",
       "      <th>8813</th>\n",
       "      <td>7</td>\n",
       "      <td>finished_goods</td>\n",
       "      <td>12</td>\n",
       "      <td>641</td>\n",
       "      <td>777</td>\n",
       "      <td>active</td>\n",
       "    </tr>\n",
       "    <tr>\n",
       "      <th>8294</th>\n",
       "      <td>5</td>\n",
       "      <td>raw_ingredients</td>\n",
       "      <td>2</td>\n",
       "      <td>519</td>\n",
       "      <td>1290</td>\n",
       "      <td>active</td>\n",
       "    </tr>\n",
       "    <tr>\n",
       "      <th>7855</th>\n",
       "      <td>8</td>\n",
       "      <td>finished_goods</td>\n",
       "      <td>6</td>\n",
       "      <td>522</td>\n",
       "      <td>947</td>\n",
       "      <td>active</td>\n",
       "    </tr>\n",
       "  </tbody>\n",
       "</table>\n",
       "<p>11000 rows × 6 columns</p>\n",
       "</div>"
      ],
      "text/plain": [
       "      days_since_last_order median_order_type  days_since_last_contact  \\\n",
       "2288                      1   raw_ingredients                       12   \n",
       "869                       4    finished_goods                        6   \n",
       "4619                      4   raw_ingredients                        1   \n",
       "5651                     12   raw_ingredients                        9   \n",
       "6237                     11   raw_ingredients                        4   \n",
       "...                     ...               ...                      ...   \n",
       "3841                      7   raw_ingredients                        2   \n",
       "4279                      5   raw_ingredients                        7   \n",
       "8813                      7    finished_goods                       12   \n",
       "8294                      5   raw_ingredients                        2   \n",
       "7855                      8    finished_goods                        6   \n",
       "\n",
       "      monthly_mean_order_vol  yearly_mean_cust_rev  status  \n",
       "2288                    1483                  1466  active  \n",
       "869                     1400                  1279  active  \n",
       "4619                    1419                  1218  active  \n",
       "5651                    1184                  1443  active  \n",
       "6237                     614                   914  active  \n",
       "...                      ...                   ...     ...  \n",
       "3841                    1362                  1277  active  \n",
       "4279                     637                   635  active  \n",
       "8813                     641                   777  active  \n",
       "8294                     519                  1290  active  \n",
       "7855                     522                   947  active  \n",
       "\n",
       "[11000 rows x 6 columns]"
      ]
     },
     "execution_count": 21,
     "metadata": {},
     "output_type": "execute_result"
    }
   ],
   "source": [
    "churn_2_classes"
   ]
  },
  {
   "cell_type": "code",
   "execution_count": 22,
   "metadata": {},
   "outputs": [
    {
     "data": {
      "text/html": [
       "<div>\n",
       "<style scoped>\n",
       "    .dataframe tbody tr th:only-of-type {\n",
       "        vertical-align: middle;\n",
       "    }\n",
       "\n",
       "    .dataframe tbody tr th {\n",
       "        vertical-align: top;\n",
       "    }\n",
       "\n",
       "    .dataframe thead th {\n",
       "        text-align: right;\n",
       "    }\n",
       "</style>\n",
       "<table border=\"1\" class=\"dataframe\">\n",
       "  <thead>\n",
       "    <tr style=\"text-align: right;\">\n",
       "      <th></th>\n",
       "      <th>days_since_last_order</th>\n",
       "      <th>median_order_type</th>\n",
       "      <th>days_since_last_contact</th>\n",
       "      <th>monthly_mean_order_vol</th>\n",
       "      <th>yearly_mean_cust_rev</th>\n",
       "      <th>status</th>\n",
       "    </tr>\n",
       "  </thead>\n",
       "  <tbody>\n",
       "    <tr>\n",
       "      <th>9728</th>\n",
       "      <td>2</td>\n",
       "      <td>raw_ingredients</td>\n",
       "      <td>10</td>\n",
       "      <td>813</td>\n",
       "      <td>1206</td>\n",
       "      <td>active</td>\n",
       "    </tr>\n",
       "    <tr>\n",
       "      <th>3374</th>\n",
       "      <td>10</td>\n",
       "      <td>raw_ingredients</td>\n",
       "      <td>4</td>\n",
       "      <td>1402</td>\n",
       "      <td>1246</td>\n",
       "      <td>active</td>\n",
       "    </tr>\n",
       "    <tr>\n",
       "      <th>884</th>\n",
       "      <td>11</td>\n",
       "      <td>finished_goods</td>\n",
       "      <td>7</td>\n",
       "      <td>635</td>\n",
       "      <td>1479</td>\n",
       "      <td>active</td>\n",
       "    </tr>\n",
       "    <tr>\n",
       "      <th>8910</th>\n",
       "      <td>12</td>\n",
       "      <td>raw_ingredients</td>\n",
       "      <td>14</td>\n",
       "      <td>771</td>\n",
       "      <td>809</td>\n",
       "      <td>active</td>\n",
       "    </tr>\n",
       "    <tr>\n",
       "      <th>9075</th>\n",
       "      <td>10</td>\n",
       "      <td>raw_ingredients</td>\n",
       "      <td>6</td>\n",
       "      <td>1362</td>\n",
       "      <td>1185</td>\n",
       "      <td>active</td>\n",
       "    </tr>\n",
       "    <tr>\n",
       "      <th>...</th>\n",
       "      <td>...</td>\n",
       "      <td>...</td>\n",
       "      <td>...</td>\n",
       "      <td>...</td>\n",
       "      <td>...</td>\n",
       "      <td>...</td>\n",
       "    </tr>\n",
       "    <tr>\n",
       "      <th>8113</th>\n",
       "      <td>12</td>\n",
       "      <td>raw_ingredients</td>\n",
       "      <td>12</td>\n",
       "      <td>1127</td>\n",
       "      <td>560</td>\n",
       "      <td>active</td>\n",
       "    </tr>\n",
       "    <tr>\n",
       "      <th>9809</th>\n",
       "      <td>6</td>\n",
       "      <td>raw_ingredients</td>\n",
       "      <td>5</td>\n",
       "      <td>1280</td>\n",
       "      <td>897</td>\n",
       "      <td>active</td>\n",
       "    </tr>\n",
       "    <tr>\n",
       "      <th>7739</th>\n",
       "      <td>9</td>\n",
       "      <td>raw_ingredients</td>\n",
       "      <td>4</td>\n",
       "      <td>1147</td>\n",
       "      <td>549</td>\n",
       "      <td>active</td>\n",
       "    </tr>\n",
       "    <tr>\n",
       "      <th>256</th>\n",
       "      <td>9</td>\n",
       "      <td>finished_goods</td>\n",
       "      <td>11</td>\n",
       "      <td>1100</td>\n",
       "      <td>1322</td>\n",
       "      <td>active</td>\n",
       "    </tr>\n",
       "    <tr>\n",
       "      <th>2355</th>\n",
       "      <td>7</td>\n",
       "      <td>raw_ingredients</td>\n",
       "      <td>4</td>\n",
       "      <td>1497</td>\n",
       "      <td>1018</td>\n",
       "      <td>active</td>\n",
       "    </tr>\n",
       "  </tbody>\n",
       "</table>\n",
       "<p>12000 rows × 6 columns</p>\n",
       "</div>"
      ],
      "text/plain": [
       "      days_since_last_order median_order_type  days_since_last_contact  \\\n",
       "9728                      2   raw_ingredients                       10   \n",
       "3374                     10   raw_ingredients                        4   \n",
       "884                      11    finished_goods                        7   \n",
       "8910                     12   raw_ingredients                       14   \n",
       "9075                     10   raw_ingredients                        6   \n",
       "...                     ...               ...                      ...   \n",
       "8113                     12   raw_ingredients                       12   \n",
       "9809                      6   raw_ingredients                        5   \n",
       "7739                      9   raw_ingredients                        4   \n",
       "256                       9    finished_goods                       11   \n",
       "2355                      7   raw_ingredients                        4   \n",
       "\n",
       "      monthly_mean_order_vol  yearly_mean_cust_rev  status  \n",
       "9728                     813                  1206  active  \n",
       "3374                    1402                  1246  active  \n",
       "884                      635                  1479  active  \n",
       "8910                     771                   809  active  \n",
       "9075                    1362                  1185  active  \n",
       "...                      ...                   ...     ...  \n",
       "8113                    1127                   560  active  \n",
       "9809                    1280                   897  active  \n",
       "7739                    1147                   549  active  \n",
       "256                     1100                  1322  active  \n",
       "2355                    1497                  1018  active  \n",
       "\n",
       "[12000 rows x 6 columns]"
      ]
     },
     "execution_count": 22,
     "metadata": {},
     "output_type": "execute_result"
    }
   ],
   "source": [
    "churn_3_classes"
   ]
  },
  {
   "cell_type": "code",
   "execution_count": 23,
   "metadata": {},
   "outputs": [
    {
     "name": "stderr",
     "output_type": "stream",
     "text": [
      "/home/benjamin/anaconda3/lib/python3.7/site-packages/sklearn/preprocessing/label.py:219: DataConversionWarning: A column-vector y was passed when a 1d array was expected. Please change the shape of y to (n_samples, ), for example using ravel().\n",
      "  y = column_or_1d(y, warn=True)\n",
      "/home/benjamin/anaconda3/lib/python3.7/site-packages/pandas/core/indexing.py:1843: SettingWithCopyWarning: \n",
      "A value is trying to be set on a copy of a slice from a DataFrame.\n",
      "Try using .loc[row_indexer,col_indexer] = value instead\n",
      "\n",
      "See the caveats in the documentation: https://pandas.pydata.org/pandas-docs/stable/user_guide/indexing.html#returning-a-view-versus-a-copy\n",
      "  self.obj[item_labels[indexer[info_axis]]] = value\n"
     ]
    }
   ],
   "source": [
    "X = churn_2_classes[['days_since_last_order', 'days_since_last_contact', 'monthly_mean_order_vol', 'yearly_mean_cust_rev']]\n",
    "y = churn_2_classes[['status']]\n",
    "le = preprocessing.LabelEncoder()\n",
    "le.fit(y)\n",
    "y.loc[:,'status'] = le.transform(churn_2_classes['status'])\n",
    "y = y['status']"
   ]
  },
  {
   "cell_type": "code",
   "execution_count": 24,
   "metadata": {},
   "outputs": [
    {
     "data": {
      "text/html": [
       "<div>\n",
       "<style scoped>\n",
       "    .dataframe tbody tr th:only-of-type {\n",
       "        vertical-align: middle;\n",
       "    }\n",
       "\n",
       "    .dataframe tbody tr th {\n",
       "        vertical-align: top;\n",
       "    }\n",
       "\n",
       "    .dataframe thead th {\n",
       "        text-align: right;\n",
       "    }\n",
       "</style>\n",
       "<table border=\"1\" class=\"dataframe\">\n",
       "  <thead>\n",
       "    <tr style=\"text-align: right;\">\n",
       "      <th></th>\n",
       "      <th>days_since_last_order</th>\n",
       "      <th>days_since_last_contact</th>\n",
       "      <th>monthly_mean_order_vol</th>\n",
       "      <th>yearly_mean_cust_rev</th>\n",
       "    </tr>\n",
       "  </thead>\n",
       "  <tbody>\n",
       "    <tr>\n",
       "      <th>2288</th>\n",
       "      <td>1</td>\n",
       "      <td>12</td>\n",
       "      <td>1483</td>\n",
       "      <td>1466</td>\n",
       "    </tr>\n",
       "    <tr>\n",
       "      <th>869</th>\n",
       "      <td>4</td>\n",
       "      <td>6</td>\n",
       "      <td>1400</td>\n",
       "      <td>1279</td>\n",
       "    </tr>\n",
       "    <tr>\n",
       "      <th>4619</th>\n",
       "      <td>4</td>\n",
       "      <td>1</td>\n",
       "      <td>1419</td>\n",
       "      <td>1218</td>\n",
       "    </tr>\n",
       "    <tr>\n",
       "      <th>5651</th>\n",
       "      <td>12</td>\n",
       "      <td>9</td>\n",
       "      <td>1184</td>\n",
       "      <td>1443</td>\n",
       "    </tr>\n",
       "    <tr>\n",
       "      <th>6237</th>\n",
       "      <td>11</td>\n",
       "      <td>4</td>\n",
       "      <td>614</td>\n",
       "      <td>914</td>\n",
       "    </tr>\n",
       "    <tr>\n",
       "      <th>...</th>\n",
       "      <td>...</td>\n",
       "      <td>...</td>\n",
       "      <td>...</td>\n",
       "      <td>...</td>\n",
       "    </tr>\n",
       "    <tr>\n",
       "      <th>3841</th>\n",
       "      <td>7</td>\n",
       "      <td>2</td>\n",
       "      <td>1362</td>\n",
       "      <td>1277</td>\n",
       "    </tr>\n",
       "    <tr>\n",
       "      <th>4279</th>\n",
       "      <td>5</td>\n",
       "      <td>7</td>\n",
       "      <td>637</td>\n",
       "      <td>635</td>\n",
       "    </tr>\n",
       "    <tr>\n",
       "      <th>8813</th>\n",
       "      <td>7</td>\n",
       "      <td>12</td>\n",
       "      <td>641</td>\n",
       "      <td>777</td>\n",
       "    </tr>\n",
       "    <tr>\n",
       "      <th>8294</th>\n",
       "      <td>5</td>\n",
       "      <td>2</td>\n",
       "      <td>519</td>\n",
       "      <td>1290</td>\n",
       "    </tr>\n",
       "    <tr>\n",
       "      <th>7855</th>\n",
       "      <td>8</td>\n",
       "      <td>6</td>\n",
       "      <td>522</td>\n",
       "      <td>947</td>\n",
       "    </tr>\n",
       "  </tbody>\n",
       "</table>\n",
       "<p>11000 rows × 4 columns</p>\n",
       "</div>"
      ],
      "text/plain": [
       "      days_since_last_order  days_since_last_contact  monthly_mean_order_vol  \\\n",
       "2288                      1                       12                    1483   \n",
       "869                       4                        6                    1400   \n",
       "4619                      4                        1                    1419   \n",
       "5651                     12                        9                    1184   \n",
       "6237                     11                        4                     614   \n",
       "...                     ...                      ...                     ...   \n",
       "3841                      7                        2                    1362   \n",
       "4279                      5                        7                     637   \n",
       "8813                      7                       12                     641   \n",
       "8294                      5                        2                     519   \n",
       "7855                      8                        6                     522   \n",
       "\n",
       "      yearly_mean_cust_rev  \n",
       "2288                  1466  \n",
       "869                   1279  \n",
       "4619                  1218  \n",
       "5651                  1443  \n",
       "6237                   914  \n",
       "...                    ...  \n",
       "3841                  1277  \n",
       "4279                   635  \n",
       "8813                   777  \n",
       "8294                  1290  \n",
       "7855                   947  \n",
       "\n",
       "[11000 rows x 4 columns]"
      ]
     },
     "execution_count": 24,
     "metadata": {},
     "output_type": "execute_result"
    }
   ],
   "source": [
    "X"
   ]
  },
  {
   "cell_type": "code",
   "execution_count": 25,
   "metadata": {},
   "outputs": [
    {
     "data": {
      "text/plain": [
       "2288    0\n",
       "869     0\n",
       "4619    0\n",
       "5651    0\n",
       "6237    0\n",
       "       ..\n",
       "3841    0\n",
       "4279    0\n",
       "8813    0\n",
       "8294    0\n",
       "7855    0\n",
       "Name: status, Length: 11000, dtype: int64"
      ]
     },
     "execution_count": 25,
     "metadata": {},
     "output_type": "execute_result"
    }
   ],
   "source": [
    "y"
   ]
  },
  {
   "cell_type": "code",
   "execution_count": 26,
   "metadata": {},
   "outputs": [],
   "source": [
    "ss = ShuffleSplit(n_splits=3, test_size=0.25, random_state=0)\n",
    "gbc = GradientBoostingClassifier(n_estimators=100, max_depth=20)\n",
    "svc = LinearSVC(max_iter=10000)\n",
    "\n",
    "gbc_scores = []\n",
    "svc_scores = []"
   ]
  },
  {
   "cell_type": "code",
   "execution_count": 27,
   "metadata": {},
   "outputs": [
    {
     "name": "stderr",
     "output_type": "stream",
     "text": [
      "/home/benjamin/anaconda3/lib/python3.7/site-packages/sklearn/svm/base.py:929: ConvergenceWarning: Liblinear failed to converge, increase the number of iterations.\n",
      "  \"the number of iterations.\", ConvergenceWarning)\n",
      "/home/benjamin/anaconda3/lib/python3.7/site-packages/sklearn/svm/base.py:929: ConvergenceWarning: Liblinear failed to converge, increase the number of iterations.\n",
      "  \"the number of iterations.\", ConvergenceWarning)\n",
      "/home/benjamin/anaconda3/lib/python3.7/site-packages/sklearn/svm/base.py:929: ConvergenceWarning: Liblinear failed to converge, increase the number of iterations.\n",
      "  \"the number of iterations.\", ConvergenceWarning)\n"
     ]
    }
   ],
   "source": [
    "for train_index, test_index in ss.split(X):\n",
    "    X_train, X_test = X.iloc[train_index], X.iloc[test_index]\n",
    "    y_train, y_test = y.iloc[train_index], y.iloc[test_index]\n",
    "    \n",
    "    gbc.fit(X_train, y_train)\n",
    "    svc.fit(X_train, y_train)\n",
    "    \n",
    "    gbc_y_pred = gbc.predict( X_test )\n",
    "    svc_y_pred = svc.predict( X_test )\n",
    "\n",
    "    gbc_scores.append(accuracy_score(gbc_y_pred, y_test))\n",
    "    svc_scores.append(accuracy_score(svc_y_pred, y_test))"
   ]
  },
  {
   "cell_type": "code",
   "execution_count": 28,
   "metadata": {},
   "outputs": [
    {
     "data": {
      "text/plain": [
       "[0.9665454545454546, 0.9672727272727273, 0.972]"
      ]
     },
     "execution_count": 28,
     "metadata": {},
     "output_type": "execute_result"
    }
   ],
   "source": [
    "gbc_scores"
   ]
  },
  {
   "cell_type": "code",
   "execution_count": 29,
   "metadata": {},
   "outputs": [
    {
     "data": {
      "text/plain": [
       "[0.5218181818181818, 0.9101818181818182, 0.7916363636363636]"
      ]
     },
     "execution_count": 29,
     "metadata": {},
     "output_type": "execute_result"
    }
   ],
   "source": [
    "svc_scores"
   ]
  },
  {
   "cell_type": "code",
   "execution_count": 30,
   "metadata": {},
   "outputs": [
    {
     "data": {
      "text/plain": [
       "array([[2485,   66],\n",
       "       [  11,  188]])"
      ]
     },
     "execution_count": 30,
     "metadata": {},
     "output_type": "execute_result"
    }
   ],
   "source": [
    "confusion_matrix(gbc_y_pred, y_test)"
   ]
  },
  {
   "cell_type": "code",
   "execution_count": 31,
   "metadata": {},
   "outputs": [
    {
     "data": {
      "text/plain": [
       "array([[1954,   31],\n",
       "       [ 542,  223]])"
      ]
     },
     "execution_count": 31,
     "metadata": {},
     "output_type": "execute_result"
    }
   ],
   "source": [
    "confusion_matrix(svc_y_pred, y_test)"
   ]
  },
  {
   "cell_type": "code",
   "execution_count": 32,
   "metadata": {},
   "outputs": [
    {
     "name": "stderr",
     "output_type": "stream",
     "text": [
      "/home/benjamin/anaconda3/lib/python3.7/site-packages/sklearn/preprocessing/label.py:219: DataConversionWarning: A column-vector y was passed when a 1d array was expected. Please change the shape of y to (n_samples, ), for example using ravel().\n",
      "  y = column_or_1d(y, warn=True)\n",
      "/home/benjamin/anaconda3/lib/python3.7/site-packages/pandas/core/indexing.py:1843: SettingWithCopyWarning: \n",
      "A value is trying to be set on a copy of a slice from a DataFrame.\n",
      "Try using .loc[row_indexer,col_indexer] = value instead\n",
      "\n",
      "See the caveats in the documentation: https://pandas.pydata.org/pandas-docs/stable/user_guide/indexing.html#returning-a-view-versus-a-copy\n",
      "  self.obj[item_labels[indexer[info_axis]]] = value\n"
     ]
    }
   ],
   "source": [
    "X = churn_3_classes[['days_since_last_order', 'days_since_last_contact', 'monthly_mean_order_vol', 'yearly_mean_cust_rev']]\n",
    "y = churn_3_classes[['status']]\n",
    "le = preprocessing.LabelEncoder()\n",
    "le.fit(y)\n",
    "y.loc[:,'status'] = le.transform(churn_3_classes['status'])\n",
    "y = y['status']"
   ]
  },
  {
   "cell_type": "code",
   "execution_count": 33,
   "metadata": {},
   "outputs": [],
   "source": [
    "ss = ShuffleSplit(n_splits=3, test_size=0.25, random_state=0)\n",
    "gbc = GradientBoostingClassifier(n_estimators=100, max_depth=20)\n",
    "svc = LinearSVC(max_iter=10000)\n",
    "\n",
    "gbc_scores = []\n",
    "svc_scores = []"
   ]
  },
  {
   "cell_type": "code",
   "execution_count": 34,
   "metadata": {},
   "outputs": [
    {
     "name": "stderr",
     "output_type": "stream",
     "text": [
      "/home/benjamin/anaconda3/lib/python3.7/site-packages/sklearn/svm/base.py:929: ConvergenceWarning: Liblinear failed to converge, increase the number of iterations.\n",
      "  \"the number of iterations.\", ConvergenceWarning)\n",
      "/home/benjamin/anaconda3/lib/python3.7/site-packages/sklearn/svm/base.py:929: ConvergenceWarning: Liblinear failed to converge, increase the number of iterations.\n",
      "  \"the number of iterations.\", ConvergenceWarning)\n",
      "/home/benjamin/anaconda3/lib/python3.7/site-packages/sklearn/svm/base.py:929: ConvergenceWarning: Liblinear failed to converge, increase the number of iterations.\n",
      "  \"the number of iterations.\", ConvergenceWarning)\n"
     ]
    }
   ],
   "source": [
    "for train_index, test_index in ss.split(X):\n",
    "    X_train, X_test = X.iloc[train_index], X.iloc[test_index]\n",
    "    y_train, y_test = y.iloc[train_index], y.iloc[test_index]\n",
    "    \n",
    "    gbc.fit(X_train, y_train)\n",
    "    svc.fit(X_train, y_train)\n",
    "    \n",
    "    gbc_y_pred = gbc.predict( X_test )\n",
    "    svc_y_pred = svc.predict( X_test )\n",
    "\n",
    "    gbc_scores.append(accuracy_score(gbc_y_pred, y_test))\n",
    "    svc_scores.append(accuracy_score(svc_y_pred, y_test))"
   ]
  },
  {
   "cell_type": "code",
   "execution_count": 35,
   "metadata": {},
   "outputs": [
    {
     "data": {
      "text/plain": [
       "[0.96, 0.9583333333333334, 0.9563333333333334]"
      ]
     },
     "execution_count": 35,
     "metadata": {},
     "output_type": "execute_result"
    }
   ],
   "source": [
    "gbc_scores"
   ]
  },
  {
   "cell_type": "code",
   "execution_count": 36,
   "metadata": {},
   "outputs": [
    {
     "data": {
      "text/plain": [
       "[0.898, 0.8956666666666667, 0.8993333333333333]"
      ]
     },
     "execution_count": 36,
     "metadata": {},
     "output_type": "execute_result"
    }
   ],
   "source": [
    "svc_scores"
   ]
  },
  {
   "cell_type": "code",
   "execution_count": 37,
   "metadata": {},
   "outputs": [
    {
     "data": {
      "text/plain": [
       "array([[2498,   90,    4],\n",
       "       [   8,  161,   16],\n",
       "       [   0,   13,  210]])"
      ]
     },
     "execution_count": 37,
     "metadata": {},
     "output_type": "execute_result"
    }
   ],
   "source": [
    "confusion_matrix(gbc_y_pred, y_test)"
   ]
  },
  {
   "cell_type": "code",
   "execution_count": 38,
   "metadata": {},
   "outputs": [
    {
     "data": {
      "text/plain": [
       "array([[2506,  243,   38],\n",
       "       [   0,    0,    0],\n",
       "       [   0,   21,  192]])"
      ]
     },
     "execution_count": 38,
     "metadata": {},
     "output_type": "execute_result"
    }
   ],
   "source": [
    "confusion_matrix(svc_y_pred, y_test)"
   ]
  },
  {
   "cell_type": "code",
   "execution_count": 39,
   "metadata": {},
   "outputs": [],
   "source": [
    "ss = ShuffleSplit(n_splits=3, test_size=0.25, random_state=0)\n",
    "gbc = GradientBoostingClassifier(n_estimators=100, max_depth=20)\n",
    "svc = LinearSVC(max_iter=10000, class_weight='balanced')\n",
    "\n",
    "gbc_scores = []\n",
    "svc_scores = []"
   ]
  },
  {
   "cell_type": "code",
   "execution_count": 40,
   "metadata": {},
   "outputs": [
    {
     "name": "stderr",
     "output_type": "stream",
     "text": [
      "/home/benjamin/anaconda3/lib/python3.7/site-packages/sklearn/svm/base.py:929: ConvergenceWarning: Liblinear failed to converge, increase the number of iterations.\n",
      "  \"the number of iterations.\", ConvergenceWarning)\n",
      "/home/benjamin/anaconda3/lib/python3.7/site-packages/sklearn/svm/base.py:929: ConvergenceWarning: Liblinear failed to converge, increase the number of iterations.\n",
      "  \"the number of iterations.\", ConvergenceWarning)\n",
      "/home/benjamin/anaconda3/lib/python3.7/site-packages/sklearn/svm/base.py:929: ConvergenceWarning: Liblinear failed to converge, increase the number of iterations.\n",
      "  \"the number of iterations.\", ConvergenceWarning)\n"
     ]
    }
   ],
   "source": [
    "for train_index, test_index in ss.split(X):\n",
    "    X_train, X_test = X.iloc[train_index], X.iloc[test_index]\n",
    "    y_train, y_test = y.iloc[train_index], y.iloc[test_index]\n",
    "    \n",
    "    gbc.fit(X_train, y_train)\n",
    "    svc.fit(X_train, y_train)\n",
    "    \n",
    "    gbc_y_pred = gbc.predict( X_test )\n",
    "    svc_y_pred = svc.predict( X_test )\n",
    "\n",
    "    gbc_scores.append(accuracy_score(gbc_y_pred, y_test))\n",
    "    svc_scores.append(accuracy_score(svc_y_pred, y_test))"
   ]
  },
  {
   "cell_type": "code",
   "execution_count": 41,
   "metadata": {},
   "outputs": [
    {
     "data": {
      "text/plain": [
       "[0.958, 0.9576666666666667, 0.9556666666666667]"
      ]
     },
     "execution_count": 41,
     "metadata": {},
     "output_type": "execute_result"
    }
   ],
   "source": [
    "gbc_scores"
   ]
  },
  {
   "cell_type": "code",
   "execution_count": 42,
   "metadata": {},
   "outputs": [
    {
     "data": {
      "text/plain": [
       "[0.8963333333333333, 0.8846666666666667, 0.8916666666666667]"
      ]
     },
     "execution_count": 42,
     "metadata": {},
     "output_type": "execute_result"
    }
   ],
   "source": [
    "svc_scores"
   ]
  },
  {
   "cell_type": "code",
   "execution_count": null,
   "metadata": {},
   "outputs": [],
   "source": []
  },
  {
   "cell_type": "code",
   "execution_count": 43,
   "metadata": {},
   "outputs": [
    {
     "data": {
      "text/plain": [
       "array([[2506,  260,   61],\n",
       "       [   0,    0,    0],\n",
       "       [   0,    4,  169]])"
      ]
     },
     "execution_count": 43,
     "metadata": {},
     "output_type": "execute_result"
    }
   ],
   "source": [
    "confusion_matrix(svc_y_pred, y_test)"
   ]
  },
  {
   "cell_type": "code",
   "execution_count": 44,
   "metadata": {},
   "outputs": [],
   "source": [
    "#complete a model selection for this gbc vs linearsvc..."
   ]
  },
  {
   "cell_type": "code",
   "execution_count": null,
   "metadata": {},
   "outputs": [],
   "source": [
    "#plot decision boundary using example here\n",
    "https://scikit-learn.org/stable/auto_examples/tree/plot_iris_dtc.html"
   ]
  },
  {
   "cell_type": "code",
   "execution_count": null,
   "metadata": {},
   "outputs": [],
   "source": []
  },
  {
   "cell_type": "code",
   "execution_count": null,
   "metadata": {},
   "outputs": [],
   "source": []
  }
 ],
 "metadata": {
  "kernelspec": {
   "display_name": "Python 3",
   "language": "python",
   "name": "python3"
  },
  "language_info": {
   "codemirror_mode": {
    "name": "ipython",
    "version": 3
   },
   "file_extension": ".py",
   "mimetype": "text/x-python",
   "name": "python",
   "nbconvert_exporter": "python",
   "pygments_lexer": "ipython3",
   "version": "3.7.6"
  }
 },
 "nbformat": 4,
 "nbformat_minor": 5
}
