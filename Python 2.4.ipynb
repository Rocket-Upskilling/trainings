{
 "cells": [
  {
   "cell_type": "code",
   "execution_count": 2,
   "id": "4f61ef77",
   "metadata": {},
   "outputs": [],
   "source": [
    "import pandas as pd\n",
    "import numpy as np\n",
    "import random\n",
    "from sklearn.ensemble import GradientBoostingClassifier\n",
    "from sklearn import svm\n",
    "from sklearn.svm import LinearSVC\n",
    "from sklearn.metrics import accuracy_score\n",
    "from sklearn.metrics import confusion_matrix\n",
    "from sklearn.model_selection import ShuffleSplit\n",
    "from sklearn.model_selection import train_test_split\n",
    "from sklearn import preprocessing"
   ]
  },
  {
   "cell_type": "code",
   "execution_count": 26,
   "id": "fb1e170b",
   "metadata": {},
   "outputs": [],
   "source": [
    "churn_2_classes = pd.read_csv('https://www.dropbox.com/s/4l8l5u9k5bpbk77/churn_2_classes.csv?dl=1', index_col=0)\n",
    "churn_3_classes = pd.read_csv('https://www.dropbox.com/s/6lzrfy4afncpcta/churn_3_classes.csv?dl=1', index_col=0)"
   ]
  },
  {
   "cell_type": "code",
   "execution_count": 4,
   "id": "3be0352e",
   "metadata": {},
   "outputs": [
    {
     "data": {
      "text/html": [
       "<div>\n",
       "<style scoped>\n",
       "    .dataframe tbody tr th:only-of-type {\n",
       "        vertical-align: middle;\n",
       "    }\n",
       "\n",
       "    .dataframe tbody tr th {\n",
       "        vertical-align: top;\n",
       "    }\n",
       "\n",
       "    .dataframe thead th {\n",
       "        text-align: right;\n",
       "    }\n",
       "</style>\n",
       "<table border=\"1\" class=\"dataframe\">\n",
       "  <thead>\n",
       "    <tr style=\"text-align: right;\">\n",
       "      <th></th>\n",
       "      <th>days_since_last_order</th>\n",
       "      <th>median_order_type</th>\n",
       "      <th>days_since_last_contact</th>\n",
       "      <th>monthly_mean_order_vol</th>\n",
       "      <th>yearly_mean_cust_rev</th>\n",
       "      <th>status</th>\n",
       "    </tr>\n",
       "  </thead>\n",
       "  <tbody>\n",
       "    <tr>\n",
       "      <th>2288</th>\n",
       "      <td>1</td>\n",
       "      <td>raw_ingredients</td>\n",
       "      <td>12</td>\n",
       "      <td>1483</td>\n",
       "      <td>1466</td>\n",
       "      <td>active</td>\n",
       "    </tr>\n",
       "    <tr>\n",
       "      <th>869</th>\n",
       "      <td>4</td>\n",
       "      <td>finished_goods</td>\n",
       "      <td>6</td>\n",
       "      <td>1400</td>\n",
       "      <td>1279</td>\n",
       "      <td>active</td>\n",
       "    </tr>\n",
       "    <tr>\n",
       "      <th>4619</th>\n",
       "      <td>4</td>\n",
       "      <td>raw_ingredients</td>\n",
       "      <td>1</td>\n",
       "      <td>1419</td>\n",
       "      <td>1218</td>\n",
       "      <td>active</td>\n",
       "    </tr>\n",
       "    <tr>\n",
       "      <th>5651</th>\n",
       "      <td>12</td>\n",
       "      <td>raw_ingredients</td>\n",
       "      <td>9</td>\n",
       "      <td>1184</td>\n",
       "      <td>1443</td>\n",
       "      <td>active</td>\n",
       "    </tr>\n",
       "    <tr>\n",
       "      <th>6237</th>\n",
       "      <td>11</td>\n",
       "      <td>raw_ingredients</td>\n",
       "      <td>4</td>\n",
       "      <td>614</td>\n",
       "      <td>914</td>\n",
       "      <td>active</td>\n",
       "    </tr>\n",
       "    <tr>\n",
       "      <th>...</th>\n",
       "      <td>...</td>\n",
       "      <td>...</td>\n",
       "      <td>...</td>\n",
       "      <td>...</td>\n",
       "      <td>...</td>\n",
       "      <td>...</td>\n",
       "    </tr>\n",
       "    <tr>\n",
       "      <th>3841</th>\n",
       "      <td>7</td>\n",
       "      <td>raw_ingredients</td>\n",
       "      <td>2</td>\n",
       "      <td>1362</td>\n",
       "      <td>1277</td>\n",
       "      <td>active</td>\n",
       "    </tr>\n",
       "    <tr>\n",
       "      <th>4279</th>\n",
       "      <td>5</td>\n",
       "      <td>raw_ingredients</td>\n",
       "      <td>7</td>\n",
       "      <td>637</td>\n",
       "      <td>635</td>\n",
       "      <td>active</td>\n",
       "    </tr>\n",
       "    <tr>\n",
       "      <th>8813</th>\n",
       "      <td>7</td>\n",
       "      <td>finished_goods</td>\n",
       "      <td>12</td>\n",
       "      <td>641</td>\n",
       "      <td>777</td>\n",
       "      <td>active</td>\n",
       "    </tr>\n",
       "    <tr>\n",
       "      <th>8294</th>\n",
       "      <td>5</td>\n",
       "      <td>raw_ingredients</td>\n",
       "      <td>2</td>\n",
       "      <td>519</td>\n",
       "      <td>1290</td>\n",
       "      <td>active</td>\n",
       "    </tr>\n",
       "    <tr>\n",
       "      <th>7855</th>\n",
       "      <td>8</td>\n",
       "      <td>finished_goods</td>\n",
       "      <td>6</td>\n",
       "      <td>522</td>\n",
       "      <td>947</td>\n",
       "      <td>active</td>\n",
       "    </tr>\n",
       "  </tbody>\n",
       "</table>\n",
       "<p>11000 rows × 6 columns</p>\n",
       "</div>"
      ],
      "text/plain": [
       "      days_since_last_order median_order_type  days_since_last_contact  \\\n",
       "2288                      1   raw_ingredients                       12   \n",
       "869                       4    finished_goods                        6   \n",
       "4619                      4   raw_ingredients                        1   \n",
       "5651                     12   raw_ingredients                        9   \n",
       "6237                     11   raw_ingredients                        4   \n",
       "...                     ...               ...                      ...   \n",
       "3841                      7   raw_ingredients                        2   \n",
       "4279                      5   raw_ingredients                        7   \n",
       "8813                      7    finished_goods                       12   \n",
       "8294                      5   raw_ingredients                        2   \n",
       "7855                      8    finished_goods                        6   \n",
       "\n",
       "      monthly_mean_order_vol  yearly_mean_cust_rev  status  \n",
       "2288                    1483                  1466  active  \n",
       "869                     1400                  1279  active  \n",
       "4619                    1419                  1218  active  \n",
       "5651                    1184                  1443  active  \n",
       "6237                     614                   914  active  \n",
       "...                      ...                   ...     ...  \n",
       "3841                    1362                  1277  active  \n",
       "4279                     637                   635  active  \n",
       "8813                     641                   777  active  \n",
       "8294                     519                  1290  active  \n",
       "7855                     522                   947  active  \n",
       "\n",
       "[11000 rows x 6 columns]"
      ]
     },
     "execution_count": 4,
     "metadata": {},
     "output_type": "execute_result"
    }
   ],
   "source": [
    "churn_2_classes"
   ]
  },
  {
   "cell_type": "code",
   "execution_count": 5,
   "id": "9f3ba5a0",
   "metadata": {},
   "outputs": [
    {
     "data": {
      "text/html": [
       "<div>\n",
       "<style scoped>\n",
       "    .dataframe tbody tr th:only-of-type {\n",
       "        vertical-align: middle;\n",
       "    }\n",
       "\n",
       "    .dataframe tbody tr th {\n",
       "        vertical-align: top;\n",
       "    }\n",
       "\n",
       "    .dataframe thead th {\n",
       "        text-align: right;\n",
       "    }\n",
       "</style>\n",
       "<table border=\"1\" class=\"dataframe\">\n",
       "  <thead>\n",
       "    <tr style=\"text-align: right;\">\n",
       "      <th></th>\n",
       "      <th>days_since_last_order</th>\n",
       "      <th>median_order_type</th>\n",
       "      <th>days_since_last_contact</th>\n",
       "      <th>monthly_mean_order_vol</th>\n",
       "      <th>yearly_mean_cust_rev</th>\n",
       "      <th>status</th>\n",
       "    </tr>\n",
       "  </thead>\n",
       "  <tbody>\n",
       "    <tr>\n",
       "      <th>9728</th>\n",
       "      <td>2</td>\n",
       "      <td>raw_ingredients</td>\n",
       "      <td>10</td>\n",
       "      <td>813</td>\n",
       "      <td>1206</td>\n",
       "      <td>active</td>\n",
       "    </tr>\n",
       "    <tr>\n",
       "      <th>3374</th>\n",
       "      <td>10</td>\n",
       "      <td>raw_ingredients</td>\n",
       "      <td>4</td>\n",
       "      <td>1402</td>\n",
       "      <td>1246</td>\n",
       "      <td>active</td>\n",
       "    </tr>\n",
       "    <tr>\n",
       "      <th>884</th>\n",
       "      <td>11</td>\n",
       "      <td>finished_goods</td>\n",
       "      <td>7</td>\n",
       "      <td>635</td>\n",
       "      <td>1479</td>\n",
       "      <td>active</td>\n",
       "    </tr>\n",
       "    <tr>\n",
       "      <th>8910</th>\n",
       "      <td>12</td>\n",
       "      <td>raw_ingredients</td>\n",
       "      <td>14</td>\n",
       "      <td>771</td>\n",
       "      <td>809</td>\n",
       "      <td>active</td>\n",
       "    </tr>\n",
       "    <tr>\n",
       "      <th>9075</th>\n",
       "      <td>10</td>\n",
       "      <td>raw_ingredients</td>\n",
       "      <td>6</td>\n",
       "      <td>1362</td>\n",
       "      <td>1185</td>\n",
       "      <td>active</td>\n",
       "    </tr>\n",
       "    <tr>\n",
       "      <th>...</th>\n",
       "      <td>...</td>\n",
       "      <td>...</td>\n",
       "      <td>...</td>\n",
       "      <td>...</td>\n",
       "      <td>...</td>\n",
       "      <td>...</td>\n",
       "    </tr>\n",
       "    <tr>\n",
       "      <th>8113</th>\n",
       "      <td>12</td>\n",
       "      <td>raw_ingredients</td>\n",
       "      <td>12</td>\n",
       "      <td>1127</td>\n",
       "      <td>560</td>\n",
       "      <td>active</td>\n",
       "    </tr>\n",
       "    <tr>\n",
       "      <th>9809</th>\n",
       "      <td>6</td>\n",
       "      <td>raw_ingredients</td>\n",
       "      <td>5</td>\n",
       "      <td>1280</td>\n",
       "      <td>897</td>\n",
       "      <td>active</td>\n",
       "    </tr>\n",
       "    <tr>\n",
       "      <th>7739</th>\n",
       "      <td>9</td>\n",
       "      <td>raw_ingredients</td>\n",
       "      <td>4</td>\n",
       "      <td>1147</td>\n",
       "      <td>549</td>\n",
       "      <td>active</td>\n",
       "    </tr>\n",
       "    <tr>\n",
       "      <th>256</th>\n",
       "      <td>9</td>\n",
       "      <td>finished_goods</td>\n",
       "      <td>11</td>\n",
       "      <td>1100</td>\n",
       "      <td>1322</td>\n",
       "      <td>active</td>\n",
       "    </tr>\n",
       "    <tr>\n",
       "      <th>2355</th>\n",
       "      <td>7</td>\n",
       "      <td>raw_ingredients</td>\n",
       "      <td>4</td>\n",
       "      <td>1497</td>\n",
       "      <td>1018</td>\n",
       "      <td>active</td>\n",
       "    </tr>\n",
       "  </tbody>\n",
       "</table>\n",
       "<p>12000 rows × 6 columns</p>\n",
       "</div>"
      ],
      "text/plain": [
       "      days_since_last_order median_order_type  days_since_last_contact  \\\n",
       "9728                      2   raw_ingredients                       10   \n",
       "3374                     10   raw_ingredients                        4   \n",
       "884                      11    finished_goods                        7   \n",
       "8910                     12   raw_ingredients                       14   \n",
       "9075                     10   raw_ingredients                        6   \n",
       "...                     ...               ...                      ...   \n",
       "8113                     12   raw_ingredients                       12   \n",
       "9809                      6   raw_ingredients                        5   \n",
       "7739                      9   raw_ingredients                        4   \n",
       "256                       9    finished_goods                       11   \n",
       "2355                      7   raw_ingredients                        4   \n",
       "\n",
       "      monthly_mean_order_vol  yearly_mean_cust_rev  status  \n",
       "9728                     813                  1206  active  \n",
       "3374                    1402                  1246  active  \n",
       "884                      635                  1479  active  \n",
       "8910                     771                   809  active  \n",
       "9075                    1362                  1185  active  \n",
       "...                      ...                   ...     ...  \n",
       "8113                    1127                   560  active  \n",
       "9809                    1280                   897  active  \n",
       "7739                    1147                   549  active  \n",
       "256                     1100                  1322  active  \n",
       "2355                    1497                  1018  active  \n",
       "\n",
       "[12000 rows x 6 columns]"
      ]
     },
     "execution_count": 5,
     "metadata": {},
     "output_type": "execute_result"
    }
   ],
   "source": [
    "churn_3_classes"
   ]
  },
  {
   "cell_type": "code",
   "execution_count": 6,
   "id": "a9932e8b",
   "metadata": {},
   "outputs": [
    {
     "name": "stderr",
     "output_type": "stream",
     "text": [
      "/Users/antonio/miniconda3/envs/trainings/lib/python3.9/site-packages/sklearn/utils/validation.py:63: DataConversionWarning: A column-vector y was passed when a 1d array was expected. Please change the shape of y to (n_samples, ), for example using ravel().\n",
      "  return f(*args, **kwargs)\n",
      "/Users/antonio/miniconda3/envs/trainings/lib/python3.9/site-packages/pandas/core/indexing.py:1843: SettingWithCopyWarning: \n",
      "A value is trying to be set on a copy of a slice from a DataFrame.\n",
      "Try using .loc[row_indexer,col_indexer] = value instead\n",
      "\n",
      "See the caveats in the documentation: https://pandas.pydata.org/pandas-docs/stable/user_guide/indexing.html#returning-a-view-versus-a-copy\n",
      "  self.obj[item_labels[indexer[info_axis]]] = value\n"
     ]
    }
   ],
   "source": [
    "X = churn_2_classes[['days_since_last_order', 'days_since_last_contact', 'monthly_mean_order_vol', 'yearly_mean_cust_rev']]\n",
    "y = churn_2_classes[['status']]\n",
    "le = preprocessing.LabelEncoder()\n",
    "le.fit(y)\n",
    "y.loc[:,'status'] = le.transform(churn_2_classes['status'])\n",
    "y = y['status']"
   ]
  },
  {
   "cell_type": "code",
   "execution_count": 7,
   "id": "1f85bd46",
   "metadata": {},
   "outputs": [
    {
     "data": {
      "text/html": [
       "<div>\n",
       "<style scoped>\n",
       "    .dataframe tbody tr th:only-of-type {\n",
       "        vertical-align: middle;\n",
       "    }\n",
       "\n",
       "    .dataframe tbody tr th {\n",
       "        vertical-align: top;\n",
       "    }\n",
       "\n",
       "    .dataframe thead th {\n",
       "        text-align: right;\n",
       "    }\n",
       "</style>\n",
       "<table border=\"1\" class=\"dataframe\">\n",
       "  <thead>\n",
       "    <tr style=\"text-align: right;\">\n",
       "      <th></th>\n",
       "      <th>days_since_last_order</th>\n",
       "      <th>days_since_last_contact</th>\n",
       "      <th>monthly_mean_order_vol</th>\n",
       "      <th>yearly_mean_cust_rev</th>\n",
       "    </tr>\n",
       "  </thead>\n",
       "  <tbody>\n",
       "    <tr>\n",
       "      <th>2288</th>\n",
       "      <td>1</td>\n",
       "      <td>12</td>\n",
       "      <td>1483</td>\n",
       "      <td>1466</td>\n",
       "    </tr>\n",
       "    <tr>\n",
       "      <th>869</th>\n",
       "      <td>4</td>\n",
       "      <td>6</td>\n",
       "      <td>1400</td>\n",
       "      <td>1279</td>\n",
       "    </tr>\n",
       "    <tr>\n",
       "      <th>4619</th>\n",
       "      <td>4</td>\n",
       "      <td>1</td>\n",
       "      <td>1419</td>\n",
       "      <td>1218</td>\n",
       "    </tr>\n",
       "    <tr>\n",
       "      <th>5651</th>\n",
       "      <td>12</td>\n",
       "      <td>9</td>\n",
       "      <td>1184</td>\n",
       "      <td>1443</td>\n",
       "    </tr>\n",
       "    <tr>\n",
       "      <th>6237</th>\n",
       "      <td>11</td>\n",
       "      <td>4</td>\n",
       "      <td>614</td>\n",
       "      <td>914</td>\n",
       "    </tr>\n",
       "    <tr>\n",
       "      <th>...</th>\n",
       "      <td>...</td>\n",
       "      <td>...</td>\n",
       "      <td>...</td>\n",
       "      <td>...</td>\n",
       "    </tr>\n",
       "    <tr>\n",
       "      <th>3841</th>\n",
       "      <td>7</td>\n",
       "      <td>2</td>\n",
       "      <td>1362</td>\n",
       "      <td>1277</td>\n",
       "    </tr>\n",
       "    <tr>\n",
       "      <th>4279</th>\n",
       "      <td>5</td>\n",
       "      <td>7</td>\n",
       "      <td>637</td>\n",
       "      <td>635</td>\n",
       "    </tr>\n",
       "    <tr>\n",
       "      <th>8813</th>\n",
       "      <td>7</td>\n",
       "      <td>12</td>\n",
       "      <td>641</td>\n",
       "      <td>777</td>\n",
       "    </tr>\n",
       "    <tr>\n",
       "      <th>8294</th>\n",
       "      <td>5</td>\n",
       "      <td>2</td>\n",
       "      <td>519</td>\n",
       "      <td>1290</td>\n",
       "    </tr>\n",
       "    <tr>\n",
       "      <th>7855</th>\n",
       "      <td>8</td>\n",
       "      <td>6</td>\n",
       "      <td>522</td>\n",
       "      <td>947</td>\n",
       "    </tr>\n",
       "  </tbody>\n",
       "</table>\n",
       "<p>11000 rows × 4 columns</p>\n",
       "</div>"
      ],
      "text/plain": [
       "      days_since_last_order  days_since_last_contact  monthly_mean_order_vol  \\\n",
       "2288                      1                       12                    1483   \n",
       "869                       4                        6                    1400   \n",
       "4619                      4                        1                    1419   \n",
       "5651                     12                        9                    1184   \n",
       "6237                     11                        4                     614   \n",
       "...                     ...                      ...                     ...   \n",
       "3841                      7                        2                    1362   \n",
       "4279                      5                        7                     637   \n",
       "8813                      7                       12                     641   \n",
       "8294                      5                        2                     519   \n",
       "7855                      8                        6                     522   \n",
       "\n",
       "      yearly_mean_cust_rev  \n",
       "2288                  1466  \n",
       "869                   1279  \n",
       "4619                  1218  \n",
       "5651                  1443  \n",
       "6237                   914  \n",
       "...                    ...  \n",
       "3841                  1277  \n",
       "4279                   635  \n",
       "8813                   777  \n",
       "8294                  1290  \n",
       "7855                   947  \n",
       "\n",
       "[11000 rows x 4 columns]"
      ]
     },
     "execution_count": 7,
     "metadata": {},
     "output_type": "execute_result"
    }
   ],
   "source": [
    "X"
   ]
  },
  {
   "cell_type": "code",
   "execution_count": 8,
   "id": "d9caa80c",
   "metadata": {},
   "outputs": [
    {
     "data": {
      "text/plain": [
       "2288    0\n",
       "869     0\n",
       "4619    0\n",
       "5651    0\n",
       "6237    0\n",
       "       ..\n",
       "3841    0\n",
       "4279    0\n",
       "8813    0\n",
       "8294    0\n",
       "7855    0\n",
       "Name: status, Length: 11000, dtype: int64"
      ]
     },
     "execution_count": 8,
     "metadata": {},
     "output_type": "execute_result"
    }
   ],
   "source": [
    "y"
   ]
  },
  {
   "cell_type": "code",
   "execution_count": 9,
   "id": "53b44f59",
   "metadata": {},
   "outputs": [],
   "source": [
    "ss = ShuffleSplit(n_splits=3, test_size=0.25, random_state=0)\n",
    "gbc = GradientBoostingClassifier(n_estimators=100, max_depth=20)\n",
    "svc = LinearSVC(max_iter=10000)\n",
    "\n",
    "gbc_scores = []\n",
    "svc_scores = []"
   ]
  },
  {
   "cell_type": "code",
   "execution_count": 10,
   "id": "8d56edea",
   "metadata": {},
   "outputs": [
    {
     "name": "stderr",
     "output_type": "stream",
     "text": [
      "/Users/antonio/miniconda3/envs/trainings/lib/python3.9/site-packages/sklearn/svm/_base.py:985: ConvergenceWarning: Liblinear failed to converge, increase the number of iterations.\n",
      "  warnings.warn(\"Liblinear failed to converge, increase \"\n",
      "/Users/antonio/miniconda3/envs/trainings/lib/python3.9/site-packages/sklearn/svm/_base.py:985: ConvergenceWarning: Liblinear failed to converge, increase the number of iterations.\n",
      "  warnings.warn(\"Liblinear failed to converge, increase \"\n",
      "/Users/antonio/miniconda3/envs/trainings/lib/python3.9/site-packages/sklearn/svm/_base.py:985: ConvergenceWarning: Liblinear failed to converge, increase the number of iterations.\n",
      "  warnings.warn(\"Liblinear failed to converge, increase \"\n"
     ]
    }
   ],
   "source": [
    "for train_index, test_index in ss.split(X):\n",
    "    X_train, X_test = X.iloc[train_index], X.iloc[test_index]\n",
    "    y_train, y_test = y.iloc[train_index], y.iloc[test_index]\n",
    "    \n",
    "    gbc.fit(X_train, y_train)\n",
    "    svc.fit(X_train, y_train)\n",
    "    \n",
    "    gbc_y_pred = gbc.predict( X_test )\n",
    "    svc_y_pred = svc.predict( X_test )\n",
    "\n",
    "    gbc_scores.append(accuracy_score(gbc_y_pred, y_test))\n",
    "    svc_scores.append(accuracy_score(svc_y_pred, y_test))"
   ]
  },
  {
   "cell_type": "code",
   "execution_count": 11,
   "id": "34ae49ae",
   "metadata": {},
   "outputs": [
    {
     "data": {
      "text/plain": [
       "[0.9643636363636363, 0.9669090909090909, 0.9705454545454546]"
      ]
     },
     "execution_count": 11,
     "metadata": {},
     "output_type": "execute_result"
    }
   ],
   "source": [
    "gbc_scores"
   ]
  },
  {
   "cell_type": "code",
   "execution_count": 12,
   "id": "9f668661",
   "metadata": {},
   "outputs": [
    {
     "data": {
      "text/plain": [
       "[0.2701818181818182, 0.9301818181818182, 0.9087272727272727]"
      ]
     },
     "execution_count": 12,
     "metadata": {},
     "output_type": "execute_result"
    }
   ],
   "source": [
    "svc_scores"
   ]
  },
  {
   "cell_type": "code",
   "execution_count": 13,
   "id": "73f7d46c",
   "metadata": {},
   "outputs": [
    {
     "data": {
      "text/plain": [
       "array([[2480,   65],\n",
       "       [  16,  189]])"
      ]
     },
     "execution_count": 13,
     "metadata": {},
     "output_type": "execute_result"
    }
   ],
   "source": [
    "confusion_matrix(gbc_y_pred, y_test)"
   ]
  },
  {
   "cell_type": "code",
   "execution_count": 14,
   "id": "122c5158",
   "metadata": {},
   "outputs": [
    {
     "data": {
      "text/plain": [
       "array([[2496,  251],\n",
       "       [   0,    3]])"
      ]
     },
     "execution_count": 14,
     "metadata": {},
     "output_type": "execute_result"
    }
   ],
   "source": [
    "confusion_matrix(svc_y_pred, y_test)"
   ]
  },
  {
   "cell_type": "code",
   "execution_count": 15,
   "id": "a5581dae",
   "metadata": {},
   "outputs": [
    {
     "name": "stderr",
     "output_type": "stream",
     "text": [
      "/Users/antonio/miniconda3/envs/trainings/lib/python3.9/site-packages/sklearn/utils/validation.py:63: DataConversionWarning: A column-vector y was passed when a 1d array was expected. Please change the shape of y to (n_samples, ), for example using ravel().\n",
      "  return f(*args, **kwargs)\n",
      "/Users/antonio/miniconda3/envs/trainings/lib/python3.9/site-packages/pandas/core/indexing.py:1843: SettingWithCopyWarning: \n",
      "A value is trying to be set on a copy of a slice from a DataFrame.\n",
      "Try using .loc[row_indexer,col_indexer] = value instead\n",
      "\n",
      "See the caveats in the documentation: https://pandas.pydata.org/pandas-docs/stable/user_guide/indexing.html#returning-a-view-versus-a-copy\n",
      "  self.obj[item_labels[indexer[info_axis]]] = value\n"
     ]
    }
   ],
   "source": [
    "X = churn_3_classes[['days_since_last_order', 'days_since_last_contact', 'monthly_mean_order_vol', 'yearly_mean_cust_rev']]\n",
    "y = churn_3_classes[['status']]\n",
    "le = preprocessing.LabelEncoder()\n",
    "le.fit(y)\n",
    "y.loc[:,'status'] = le.transform(churn_3_classes['status'])\n",
    "y = y['status']"
   ]
  },
  {
   "cell_type": "code",
   "execution_count": 16,
   "id": "4a7306c7",
   "metadata": {},
   "outputs": [],
   "source": [
    "ss = ShuffleSplit(n_splits=3, test_size=0.25, random_state=0)\n",
    "gbc = GradientBoostingClassifier(n_estimators=100, max_depth=20)\n",
    "svc = LinearSVC(max_iter=10000)\n",
    "\n",
    "gbc_scores = []\n",
    "svc_scores = []"
   ]
  },
  {
   "cell_type": "code",
   "execution_count": 17,
   "id": "7ffc6169",
   "metadata": {},
   "outputs": [
    {
     "name": "stderr",
     "output_type": "stream",
     "text": [
      "/Users/antonio/miniconda3/envs/trainings/lib/python3.9/site-packages/sklearn/svm/_base.py:985: ConvergenceWarning: Liblinear failed to converge, increase the number of iterations.\n",
      "  warnings.warn(\"Liblinear failed to converge, increase \"\n",
      "/Users/antonio/miniconda3/envs/trainings/lib/python3.9/site-packages/sklearn/svm/_base.py:985: ConvergenceWarning: Liblinear failed to converge, increase the number of iterations.\n",
      "  warnings.warn(\"Liblinear failed to converge, increase \"\n",
      "/Users/antonio/miniconda3/envs/trainings/lib/python3.9/site-packages/sklearn/svm/_base.py:985: ConvergenceWarning: Liblinear failed to converge, increase the number of iterations.\n",
      "  warnings.warn(\"Liblinear failed to converge, increase \"\n"
     ]
    }
   ],
   "source": [
    "for train_index, test_index in ss.split(X):\n",
    "    X_train, X_test = X.iloc[train_index], X.iloc[test_index]\n",
    "    y_train, y_test = y.iloc[train_index], y.iloc[test_index]\n",
    "    \n",
    "    gbc.fit(X_train, y_train)\n",
    "    svc.fit(X_train, y_train)\n",
    "    \n",
    "    gbc_y_pred = gbc.predict( X_test )\n",
    "    svc_y_pred = svc.predict( X_test )\n",
    "\n",
    "    gbc_scores.append(accuracy_score(gbc_y_pred, y_test))\n",
    "    svc_scores.append(accuracy_score(svc_y_pred, y_test))"
   ]
  },
  {
   "cell_type": "code",
   "execution_count": 18,
   "id": "ef1714a4",
   "metadata": {},
   "outputs": [
    {
     "data": {
      "text/plain": [
       "[0.9573333333333334, 0.9596666666666667, 0.9556666666666667]"
      ]
     },
     "execution_count": 18,
     "metadata": {},
     "output_type": "execute_result"
    }
   ],
   "source": [
    "gbc_scores"
   ]
  },
  {
   "cell_type": "code",
   "execution_count": 19,
   "id": "bfffe1f8",
   "metadata": {},
   "outputs": [
    {
     "data": {
      "text/plain": [
       "[0.9043333333333333, 0.902, 0.8996666666666666]"
      ]
     },
     "execution_count": 19,
     "metadata": {},
     "output_type": "execute_result"
    }
   ],
   "source": [
    "svc_scores"
   ]
  },
  {
   "cell_type": "code",
   "execution_count": 20,
   "id": "c78b8a41",
   "metadata": {},
   "outputs": [
    {
     "data": {
      "text/plain": [
       "array([[2497,   92,    4],\n",
       "       [   9,  161,   17],\n",
       "       [   0,   11,  209]])"
      ]
     },
     "execution_count": 20,
     "metadata": {},
     "output_type": "execute_result"
    }
   ],
   "source": [
    "confusion_matrix(gbc_y_pred, y_test)"
   ]
  },
  {
   "cell_type": "code",
   "execution_count": 21,
   "id": "c862e158",
   "metadata": {},
   "outputs": [
    {
     "data": {
      "text/plain": [
       "array([[2506,  242,   30],\n",
       "       [   0,    9,   16],\n",
       "       [   0,   13,  184]])"
      ]
     },
     "execution_count": 21,
     "metadata": {},
     "output_type": "execute_result"
    }
   ],
   "source": [
    "confusion_matrix(svc_y_pred, y_test)"
   ]
  },
  {
   "cell_type": "code",
   "execution_count": 22,
   "id": "46f99bd8",
   "metadata": {},
   "outputs": [],
   "source": [
    "ss = ShuffleSplit(n_splits=3, test_size=0.25, random_state=0)\n",
    "gbc = GradientBoostingClassifier(n_estimators=100, max_depth=20)\n",
    "svc = LinearSVC(max_iter=10000, class_weight='balanced')\n",
    "\n",
    "gbc_scores = []\n",
    "svc_scores = []"
   ]
  },
  {
   "cell_type": "code",
   "execution_count": 23,
   "id": "327d070a",
   "metadata": {},
   "outputs": [
    {
     "name": "stderr",
     "output_type": "stream",
     "text": [
      "/Users/antonio/miniconda3/envs/trainings/lib/python3.9/site-packages/sklearn/svm/_base.py:985: ConvergenceWarning: Liblinear failed to converge, increase the number of iterations.\n",
      "  warnings.warn(\"Liblinear failed to converge, increase \"\n",
      "/Users/antonio/miniconda3/envs/trainings/lib/python3.9/site-packages/sklearn/svm/_base.py:985: ConvergenceWarning: Liblinear failed to converge, increase the number of iterations.\n",
      "  warnings.warn(\"Liblinear failed to converge, increase \"\n",
      "/Users/antonio/miniconda3/envs/trainings/lib/python3.9/site-packages/sklearn/svm/_base.py:985: ConvergenceWarning: Liblinear failed to converge, increase the number of iterations.\n",
      "  warnings.warn(\"Liblinear failed to converge, increase \"\n"
     ]
    }
   ],
   "source": [
    "for train_index, test_index in ss.split(X):\n",
    "    X_train, X_test = X.iloc[train_index], X.iloc[test_index]\n",
    "    y_train, y_test = y.iloc[train_index], y.iloc[test_index]\n",
    "    \n",
    "    gbc.fit(X_train, y_train)\n",
    "    svc.fit(X_train, y_train)\n",
    "    \n",
    "    gbc_y_pred = gbc.predict( X_test )\n",
    "    svc_y_pred = svc.predict( X_test )\n",
    "\n",
    "    gbc_scores.append(accuracy_score(gbc_y_pred, y_test))\n",
    "    svc_scores.append(accuracy_score(svc_y_pred, y_test))"
   ]
  },
  {
   "cell_type": "code",
   "execution_count": 24,
   "id": "72aaf28b",
   "metadata": {},
   "outputs": [
    {
     "data": {
      "text/plain": [
       "[0.959, 0.959, 0.9563333333333334]"
      ]
     },
     "execution_count": 24,
     "metadata": {},
     "output_type": "execute_result"
    }
   ],
   "source": [
    "gbc_scores"
   ]
  },
  {
   "cell_type": "code",
   "execution_count": 42,
   "id": "e3fe62fc",
   "metadata": {},
   "outputs": [
    {
     "data": {
      "text/plain": [
       "[0.8963333333333333, 0.8846666666666667, 0.8916666666666667]"
      ]
     },
     "execution_count": 42,
     "metadata": {},
     "output_type": "execute_result"
    }
   ],
   "source": [
    "svc_scores"
   ]
  },
  {
   "cell_type": "code",
   "execution_count": null,
   "id": "8b89a62f",
   "metadata": {},
   "outputs": [],
   "source": []
  },
  {
   "cell_type": "code",
   "execution_count": 25,
   "id": "be1176fc",
   "metadata": {},
   "outputs": [
    {
     "data": {
      "text/plain": [
       "array([[2506,  237,   29],\n",
       "       [   0,    2,    1],\n",
       "       [   0,   25,  200]])"
      ]
     },
     "execution_count": 25,
     "metadata": {},
     "output_type": "execute_result"
    }
   ],
   "source": [
    "confusion_matrix(svc_y_pred, y_test)"
   ]
  },
  {
   "cell_type": "code",
   "execution_count": 44,
   "id": "dc2ef675",
   "metadata": {},
   "outputs": [],
   "source": [
    "#complete a model selection for this gbc vs linearsvc..."
   ]
  },
  {
   "cell_type": "code",
   "execution_count": null,
   "id": "a999eb20",
   "metadata": {},
   "outputs": [],
   "source": [
    "#plot decision boundary using example here\n",
    "https://scikit-learn.org/stable/auto_examples/tree/plot_iris_dtc.html"
   ]
  },
  {
   "cell_type": "code",
   "execution_count": null,
   "id": "b98b3ac9",
   "metadata": {},
   "outputs": [],
   "source": []
  },
  {
   "cell_type": "code",
   "execution_count": null,
   "id": "576298d6",
   "metadata": {},
   "outputs": [],
   "source": []
  }
 ],
 "metadata": {
  "kernelspec": {
   "display_name": "Python 3",
   "language": "python",
   "name": "python3"
  },
  "language_info": {
   "codemirror_mode": {
    "name": "ipython",
    "version": 3
   },
   "file_extension": ".py",
   "mimetype": "text/x-python",
   "name": "python",
   "nbconvert_exporter": "python",
   "pygments_lexer": "ipython3",
   "version": "3.9.4"
  }
 },
 "nbformat": 4,
 "nbformat_minor": 5
}
