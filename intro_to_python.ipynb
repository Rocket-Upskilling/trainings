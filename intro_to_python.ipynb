{
 "cells": [
  {
   "cell_type": "markdown",
   "metadata": {},
   "source": [
    "# To loop or not to loop, that is the question\n",
    "\n",
    "Hi everyone, welcome to this seminar about unique iteration stratagies in Python!\n",
    "\n",
    "I'm Benjamin and I'm giving todays talk, thanks to Marta d'Angelo for the invitation!\n",
    "\n",
    "Python is a uniquely intuitive language, today we're going to look at ways to simplify looping in Python using two features comprehensions and slices.\n",
    "\n",
    "This notebook is available here: .\n",
    "Let's all get the notebook up and running, so we can all click through the cells together.\n",
    "\n",
    "## Basic iteration"
   ]
  },
  {
   "cell_type": "markdown",
   "metadata": {},
   "source": [
    "For loops in Python are a nice, intuitive way to iterate over a set/list of things.\n",
    "\n",
    "A very large number of \"imperative programming\" techniques require this type of design pattern.\n",
    "\n",
    "Let's look at a few simple examples in Python."
   ]
  },
  {
   "cell_type": "code",
   "execution_count": null,
   "metadata": {},
   "outputs": [],
   "source": [
    "#how we define a list in python\n",
    "\n",
    "L = [1, 2, 3]\n",
    "\n",
    "# Simple for loop over list using \"for + in\".\n",
    "# Note that in python, a tab (not \"{ }\" or \"end\" like c/c++java/matlab) defines what's inside the loop.\n",
    "\n",
    "for k in L:\n",
    "    print(k)\n",
    "    \n",
    "print(\"not\")"
   ]
  },
  {
   "cell_type": "markdown",
   "metadata": {},
   "source": [
    "Lists in python are \"polymorphic\" (from greek, meaning something like \"many shapes\").\n",
    "\n",
    "Ultimately, this means we can put anything we want in the same list. Numbers, strings, other lists. Lists of lists of lists....\n",
    "\n",
    "This is unlike many other langauges, like C++, where typically simple list can't do this."
   ]
  },
  {
   "cell_type": "code",
   "execution_count": null,
   "metadata": {
    "scrolled": true
   },
   "outputs": [],
   "source": [
    "L = [1, 2, 3, 'blahblah', 'pineapple', [1,2,3], True, 999]\n",
    "\n",
    "for k in L:\n",
    "    print(k)\n",
    "    #print(type(k))"
   ]
  },
  {
   "cell_type": "markdown",
   "metadata": {},
   "source": [
    "MATLAB :\n",
    "\n",
    "    for r = 1:s\n",
    "        fprintf(r);\n",
    "    end\n",
    "\n",
    "C++ :\n",
    "\n",
    "    for (int i = 0; i <= 20; i = i + 2) {\n",
    "      cout << i << \"\\n\";\n",
    "    }"
   ]
  },
  {
   "cell_type": "markdown",
   "metadata": {},
   "source": [
    "In Python, we can \"iterate\" (loop) over anything which is \"iterable\".\n",
    "\n",
    "This includes sets, strings, lists, dictionaries, tuples and more."
   ]
  },
  {
   "cell_type": "code",
   "execution_count": null,
   "metadata": {},
   "outputs": [],
   "source": [
    "S = {1, 2, 3, 'blahblah', 'pineapple', 999}\n",
    "\n",
    "for k in S:\n",
    "    print(k)"
   ]
  },
  {
   "cell_type": "markdown",
   "metadata": {},
   "source": [
    "Note though, a set cannot contain \"duplicates\", unlike a list."
   ]
  },
  {
   "cell_type": "code",
   "execution_count": null,
   "metadata": {},
   "outputs": [],
   "source": [
    "# anthing of the form {1,2,3...} within braces, separated by commas is a set\n",
    "\n",
    "{1, 1, 1, 2}"
   ]
  },
  {
   "cell_type": "code",
   "execution_count": null,
   "metadata": {},
   "outputs": [],
   "source": [
    "[1, 1, 1, 2]"
   ]
  },
  {
   "cell_type": "markdown",
   "metadata": {},
   "source": [
    "We can also loop over strings in python like they were lists. This loops over the charecters in the string."
   ]
  },
  {
   "cell_type": "code",
   "execution_count": null,
   "metadata": {},
   "outputs": [],
   "source": [
    "S = \"a python string\"\n",
    "\n",
    "for k in S:\n",
    "    print(k)"
   ]
  },
  {
   "cell_type": "markdown",
   "metadata": {},
   "source": [
    "If we want select a subset of the list we iterate over, we need to use an if.\n",
    "\n",
    "For example, to select all even numbers between 1, 20:"
   ]
  },
  {
   "cell_type": "code",
   "execution_count": null,
   "metadata": {},
   "outputs": [],
   "source": [
    "res = []\n",
    "\n",
    "for k in range(1, 21):\n",
    "    if k % 2 == 0:\n",
    "        res.append(k)\n",
    "\n",
    "res"
   ]
  },
  {
   "cell_type": "markdown",
   "metadata": {},
   "source": [
    "The % symbol in Python is the modulo operation (like many langauges)\n",
    "You can think of this as like \"remainder\" from long division if you never saw it before."
   ]
  },
  {
   "cell_type": "code",
   "execution_count": null,
   "metadata": {},
   "outputs": [],
   "source": [
    "10%2, 11%2, 3%10, 3%13, 21%20, 20%3, 54325%8239467382"
   ]
  },
  {
   "cell_type": "markdown",
   "metadata": {},
   "source": [
    "Specifically, x%2, tests if x is even or odd. I.e., does x divide by 2 or not."
   ]
  },
  {
   "cell_type": "code",
   "execution_count": null,
   "metadata": {},
   "outputs": [],
   "source": [
    "1%2, 2%2, 3%2, 4%2, 5%2, 6%2"
   ]
  },
  {
   "cell_type": "code",
   "execution_count": null,
   "metadata": {},
   "outputs": [],
   "source": [
    "# create list of all odd numbers from 1 to 20"
   ]
  },
  {
   "cell_type": "code",
   "execution_count": null,
   "metadata": {},
   "outputs": [],
   "source": []
  },
  {
   "cell_type": "code",
   "execution_count": null,
   "metadata": {},
   "outputs": [],
   "source": [
    "# create list of all multiples of 11 and 7 from 1 to 100. Use two ifs."
   ]
  },
  {
   "cell_type": "code",
   "execution_count": null,
   "metadata": {},
   "outputs": [],
   "source": []
  },
  {
   "cell_type": "markdown",
   "metadata": {},
   "source": [
    "## List comprehensions\n",
    "\n",
    "Many times when we loop through a list of objects, we want to act on them or transform them one by one. For example if I wanted all the squares of a list of numbers I COULD do it like this:"
   ]
  },
  {
   "cell_type": "code",
   "execution_count": null,
   "metadata": {},
   "outputs": [],
   "source": [
    "L = [1, 2, 3, 4, 5, 6]\n",
    "\n",
    "#create an empty list to store the result\n",
    "res = []\n",
    "\n",
    "#loop through L, square each number and append to result list\n",
    "for k in L:\n",
    "    res.append(k**2)\n",
    "    \n",
    "res"
   ]
  },
  {
   "cell_type": "markdown",
   "metadata": {},
   "source": [
    "However, this requires creating another list to which we append one by one... Waste is bad.\n",
    "\n",
    "Python offers a neat syntax for implimenting this pattern. The form may be familiar to those with math backgrounds as being close to \"set builder\" notation.\n",
    "\n",
    "NB in Python ** is raise to a power. NOT ^ which does an entirely different thing!\n",
    "\n",
    "(Just try running with the ^)"
   ]
  },
  {
   "cell_type": "code",
   "execution_count": null,
   "metadata": {},
   "outputs": [],
   "source": [
    "# raise to a power\n",
    "10**2"
   ]
  },
  {
   "cell_type": "code",
   "execution_count": null,
   "metadata": {},
   "outputs": [],
   "source": [
    "#I'll leave it to you to figure out what this does...\n",
    "# not obvious from a few examples, but it's definitely not **\n",
    "\n",
    "10 ^ 2, 2 ^ 10, 100 ^ 9"
   ]
  },
  {
   "cell_type": "code",
   "execution_count": null,
   "metadata": {
    "scrolled": true
   },
   "outputs": [],
   "source": [
    "# we can define a list derectly as before\n",
    "L = [1, 2, 3, 4, 5, 6]\n",
    "\n",
    "# or we can use a range object, another iteratble in Python.\n",
    "# Note upper limit not inclusive.\n",
    "# A range object is more efficient, as doesn't \"presave\" all the elements before you loop.\n",
    "L = range(1, 7)\n",
    "\n",
    "# our first list comprehension\n",
    "# enclosed between [], we use the pattern:\n",
    "# [ operation(x) for x in our_list ]\n",
    "\n",
    "[ k**2 for k in L ]"
   ]
  },
  {
   "cell_type": "markdown",
   "metadata": {},
   "source": [
    "or even..."
   ]
  },
  {
   "cell_type": "code",
   "execution_count": null,
   "metadata": {},
   "outputs": [],
   "source": [
    "#no need to store the range outside the comprehension\n",
    "\n",
    "[ k**2 for k in range(1 ,7) ]"
   ]
  },
  {
   "cell_type": "markdown",
   "metadata": {},
   "source": [
    "The is an example of a list \"comprehension\".\n",
    "\n",
    "We can use comprehensions for more than just numerical operations."
   ]
  },
  {
   "cell_type": "code",
   "execution_count": null,
   "metadata": {},
   "outputs": [],
   "source": [
    "#note python we can concatinate strings with +\n",
    "\n",
    "L = [\"python\", \"clear\", \"readable\"]\n",
    "\n",
    "[ k + \" code\" for k in L ]"
   ]
  },
  {
   "cell_type": "code",
   "execution_count": null,
   "metadata": {},
   "outputs": [],
   "source": [
    "[ k + \" code\" for k in [\"python\", \"clear\", \"readable\"] ]"
   ]
  },
  {
   "cell_type": "markdown",
   "metadata": {},
   "source": [
    "or"
   ]
  },
  {
   "cell_type": "code",
   "execution_count": null,
   "metadata": {},
   "outputs": [],
   "source": [
    "# k[0] extracts the first element of a list or string. More on this later.\n",
    "\n",
    "[ k[0] for k in L ]"
   ]
  },
  {
   "cell_type": "markdown",
   "metadata": {},
   "source": [
    "So, often you need to do more that just act on every element of a list. Sometimes we need to SELECT ellements to act on also.\n",
    "\n",
    "Let's look at a \"monkey puzzle\" to understand this!\n",
    "\n",
    "    100 monkeys line up, each holding a sign showing a number.\n",
    "    Each monkey holds a number that is the square of their position in line plus 6.\n",
    "    What is the sum of the numbers held by monkeys in even positions in line?\n",
    "\n",
    "Ok, so we can clearly solve this with a loop and and if...."
   ]
  },
  {
   "cell_type": "code",
   "execution_count": null,
   "metadata": {},
   "outputs": [],
   "source": [
    "res = []\n",
    "\n",
    "# recall that % in python is modulo\n",
    "# ** is power (NOT ^)\n",
    "# the monkeies start at zero\n",
    "\n",
    "for k in range(100):\n",
    "    if k % 2 == 0:\n",
    "        res.append(k**2 + 6)\n",
    "\n",
    "#can use the built in sum function to avoid looping again\n",
    "sum(res)"
   ]
  },
  {
   "cell_type": "markdown",
   "metadata": {},
   "source": [
    "Ok, so that works. I wouldn't call it beautiful though.\n",
    "\n",
    "We can also include an \"if\" condition in our comprehension.\n",
    "\n",
    "The if goes after the for.\n",
    "\n",
    "Now the code reads almost like an sentence!"
   ]
  },
  {
   "cell_type": "code",
   "execution_count": null,
   "metadata": {},
   "outputs": [],
   "source": [
    "sum( [ k**2 + 6 for k in range(100) if k%2==0 ] )"
   ]
  },
  {
   "cell_type": "markdown",
   "metadata": {},
   "source": [
    "So, that's better.\n",
    "\n",
    "I find this syntax far clearer, and I'm confident with a little practice you will too.\n",
    "\n",
    "It can also be more efficient."
   ]
  },
  {
   "cell_type": "markdown",
   "metadata": {},
   "source": [
    "We can also apply custom functions to comprehensions."
   ]
  },
  {
   "cell_type": "code",
   "execution_count": null,
   "metadata": {},
   "outputs": [],
   "source": [
    "# we use def in python to create our own function\n",
    "\n",
    "def f(k):\n",
    "    return k**2 + 6"
   ]
  },
  {
   "cell_type": "code",
   "execution_count": null,
   "metadata": {},
   "outputs": [],
   "source": [
    "f(99)"
   ]
  },
  {
   "cell_type": "code",
   "execution_count": null,
   "metadata": {},
   "outputs": [],
   "source": [
    "sum( [ f(k) for k in range(100) if k%2==0 ] )"
   ]
  },
  {
   "cell_type": "markdown",
   "metadata": {},
   "source": [
    "Even better now.\n",
    "\n",
    "But we can go one further with Python and use a tool borrowed from functional programming called a lambda funtion."
   ]
  },
  {
   "cell_type": "code",
   "execution_count": null,
   "metadata": {},
   "outputs": [],
   "source": [
    "#lambda is a shorthand for quickly defining simple functions in one line\n",
    "\n",
    "f = lambda k : k**2 + 6\n",
    "\n",
    "sum([ f(k) for k in range(100) if k%2==0 ])"
   ]
  },
  {
   "cell_type": "markdown",
   "metadata": {},
   "source": [
    "This is a pattern you can use again and again. Lambda + comprehension."
   ]
  },
  {
   "cell_type": "markdown",
   "metadata": {},
   "source": [
    "Let's look at another harder \"monkey puzzle\" to practice!\n",
    "\n",
    "    10001 monkeys line up, each holding a sign showing a number.\n",
    "    Each monkey holds a number that is the cube of their position in line minus his/her position mod 1001.\n",
    "    \n",
    "    What is the sum of the numbers held by monkeys in even positions in line, minus the sum of the numbers in odd positions.\n",
    "\n",
    "Hmmmm, so that's trickier!\n",
    "\n",
    "With a classic loop type solution, things look like this:"
   ]
  },
  {
   "cell_type": "code",
   "execution_count": null,
   "metadata": {},
   "outputs": [],
   "source": [
    "res = []\n",
    "\n",
    "for k in range(10001):\n",
    "    # even monkies\n",
    "    if k % 2 == 0:\n",
    "        res.append( k**3 - (k%1001) )\n",
    "\n",
    "    # odd monkies\n",
    "    if k % 2 == 1:\n",
    "        res.append( -( k**3 - (k%1001) ) )\n",
    "\n",
    "sum(res)"
   ]
  },
  {
   "cell_type": "markdown",
   "metadata": {},
   "source": [
    "I find it far clearer and easier to test as:"
   ]
  },
  {
   "cell_type": "code",
   "execution_count": null,
   "metadata": {},
   "outputs": [],
   "source": [
    "sum( [ (-1)**(k % 2) * (k**3 - (k%1001)) for k in range(10001) ] )"
   ]
  },
  {
   "cell_type": "markdown",
   "metadata": {},
   "source": [
    "or even"
   ]
  },
  {
   "cell_type": "code",
   "execution_count": null,
   "metadata": {},
   "outputs": [],
   "source": [
    "# using (-1)**0 = 1, (-1)**1 = 1\n",
    "# we'll see later how to make this neater\n",
    "\n",
    "f = lambda k : ((-1)**(k % 2)) * ((k**3 - (k%1001)))\n",
    "\n",
    "sum( [ f(k) for k in range(10001) ] )"
   ]
  },
  {
   "cell_type": "code",
   "execution_count": null,
   "metadata": {},
   "outputs": [],
   "source": [
    "# create list of all odd numbers from 1 to 20 using a comprehension"
   ]
  },
  {
   "cell_type": "code",
   "execution_count": null,
   "metadata": {},
   "outputs": [],
   "source": []
  },
  {
   "cell_type": "code",
   "execution_count": null,
   "metadata": {},
   "outputs": [],
   "source": [
    "# create list of all multiples of 11 and multiples of 7 from 1 to 1000 using a comprehension"
   ]
  },
  {
   "cell_type": "code",
   "execution_count": null,
   "metadata": {},
   "outputs": [],
   "source": []
  },
  {
   "cell_type": "code",
   "execution_count": null,
   "metadata": {},
   "outputs": [],
   "source": [
    "# create list of all multiples of 11 or 7 from 1 to 1000 using a comprehension"
   ]
  },
  {
   "cell_type": "code",
   "execution_count": null,
   "metadata": {},
   "outputs": [],
   "source": []
  },
  {
   "cell_type": "markdown",
   "metadata": {},
   "source": [
    "## Dictionary comprehensions"
   ]
  },
  {
   "cell_type": "markdown",
   "metadata": {},
   "source": [
    "Let's see how a dictionary works in Python.\n",
    "\n",
    "A dict is a data structure which links \"keys\" to \"values\""
   ]
  },
  {
   "cell_type": "code",
   "execution_count": null,
   "metadata": {},
   "outputs": [],
   "source": [
    "d = { 1 : 'a', 3 : 'z' }"
   ]
  },
  {
   "cell_type": "code",
   "execution_count": null,
   "metadata": {},
   "outputs": [],
   "source": [
    "d[1]"
   ]
  },
  {
   "cell_type": "code",
   "execution_count": null,
   "metadata": {},
   "outputs": [],
   "source": [
    "d[2]"
   ]
  },
  {
   "cell_type": "code",
   "execution_count": null,
   "metadata": {},
   "outputs": [],
   "source": [
    "d[3]"
   ]
  },
  {
   "cell_type": "markdown",
   "metadata": {},
   "source": [
    "We can also use a comprehension with a dict!\n",
    "\n",
    "For example, if I wanted to create \n",
    "\n",
    "{0:0, 1:1, 2:4, 3:9, 4:16...}\n",
    "\n",
    "I could create it with a loop:"
   ]
  },
  {
   "cell_type": "code",
   "execution_count": null,
   "metadata": {},
   "outputs": [],
   "source": [
    "d = {}\n",
    "\n",
    "for k in range(10):\n",
    "    d[k] = k**2\n",
    "    \n",
    "d"
   ]
  },
  {
   "cell_type": "markdown",
   "metadata": {},
   "source": [
    "but it's far neater to use:"
   ]
  },
  {
   "cell_type": "code",
   "execution_count": null,
   "metadata": {},
   "outputs": [],
   "source": [
    "{ k : k**2 for k in range(10) }"
   ]
  },
  {
   "cell_type": "code",
   "execution_count": null,
   "metadata": {},
   "outputs": [],
   "source": [
    "# Create a dict mapping numbers from 1 to 10 to their cubes"
   ]
  },
  {
   "cell_type": "code",
   "execution_count": null,
   "metadata": {},
   "outputs": [],
   "source": []
  },
  {
   "cell_type": "code",
   "execution_count": null,
   "metadata": {},
   "outputs": [],
   "source": [
    "# Create a dict mapping a list of strings to their lengths\n",
    "L = ['string1', 'more strings', 'the last string']"
   ]
  },
  {
   "cell_type": "code",
   "execution_count": null,
   "metadata": {},
   "outputs": [],
   "source": [
    "{ s : len(s) for s in L }"
   ]
  },
  {
   "cell_type": "markdown",
   "metadata": {},
   "source": [
    "## The super difficult puzzle of 'Prof Genius'"
   ]
  },
  {
   "cell_type": "markdown",
   "metadata": {},
   "source": [
    "    Professor Genius is a strange person ;)\n",
    "\n",
    "    The Prof. likes to walk up and down a math dept corridor with exactly 100 doors.\n",
    "\n",
    "    When the day ends all the doors are shut. For \"fun\" each night, Prof. Genius walks up and down the corridor exactly 100 times.\n",
    "\n",
    "    On the first time walking up and back, the Prof opens/shuts every door. 1, 2, 3, 4, ...., 100\n",
    "    On the second time walking up and back, the Prof opens/shuts every second door. 2, 4, 6 ..., 100\n",
    "    On the third time walking up and back, the Prof opens/shuts every third door. 3, 6, 9 ..., 99\n",
    "    .\n",
    "    .\n",
    "    .\n",
    "    On the nth time walking up and back, the Prof opens every/shuts nth door. n, 2n, 3n....\n",
    "\n",
    "    opens/shuts means: opens it if it's close, closes it if its open.\n",
    "\n",
    "    Which doors are open in the morning?"
   ]
  },
  {
   "cell_type": "markdown",
   "metadata": {},
   "source": [
    "Try to solve this puzzle with a loop (or a few loops). Then try to figure out how/where you could use a comprehension!\n",
    "\n",
    "This is a tricky one for sure and there are multiple ways to solve it. Just go for it and try things. This is the best way to learn this stuff!\n",
    "\n",
    "DON'T SCROLL DOWN TO THE END. SPOILER!!!!!!\n",
    "\n",
    "You may wish to go and research the zip function (for two lists) and d.items() (for a dictionary) before tackling this.\n",
    "\n",
    "## How you might try it\n",
    "\n",
    "Try create a dictionary to store the state of each door: {1: False, 2: False, ..., 100: False}\n",
    "\n",
    "Then try to find a way to modify it the way the Prof does each time they walk down the corridor."
   ]
  },
  {
   "cell_type": "markdown",
   "metadata": {},
   "source": [
    "## List slices"
   ]
  },
  {
   "cell_type": "markdown",
   "metadata": {},
   "source": [
    "Python also provides some nice simple methods for selecting subsets of data from iteratbles called \"slices\". This is another way to avoid unneeded or unclear looping."
   ]
  },
  {
   "cell_type": "code",
   "execution_count": null,
   "metadata": {},
   "outputs": [],
   "source": [
    "L = ['a', 'b', 'c', 'd', 'e', 'f']"
   ]
  },
  {
   "cell_type": "markdown",
   "metadata": {},
   "source": [
    "To extract the nth element."
   ]
  },
  {
   "cell_type": "code",
   "execution_count": null,
   "metadata": {},
   "outputs": [],
   "source": [
    "L[3]"
   ]
  },
  {
   "cell_type": "code",
   "execution_count": null,
   "metadata": {},
   "outputs": [],
   "source": [
    "L[0] #NB we always start at 0....."
   ]
  },
  {
   "cell_type": "markdown",
   "metadata": {},
   "source": [
    "We can select the last element (nb ,its not \"-0\" as you might guess) as -0 == 0."
   ]
  },
  {
   "cell_type": "code",
   "execution_count": null,
   "metadata": {},
   "outputs": [],
   "source": [
    "L[-1]"
   ]
  },
  {
   "cell_type": "code",
   "execution_count": null,
   "metadata": {},
   "outputs": [],
   "source": [
    "L[-2]"
   ]
  },
  {
   "cell_type": "code",
   "execution_count": null,
   "metadata": {},
   "outputs": [],
   "source": [
    "L[-100]"
   ]
  },
  {
   "cell_type": "markdown",
   "metadata": {},
   "source": [
    "We can also select ranges using a slice."
   ]
  },
  {
   "cell_type": "code",
   "execution_count": null,
   "metadata": {},
   "outputs": [],
   "source": [
    "L[2:5] # upper limit not included"
   ]
  },
  {
   "cell_type": "code",
   "execution_count": null,
   "metadata": {},
   "outputs": [],
   "source": [
    "L[5]"
   ]
  },
  {
   "cell_type": "markdown",
   "metadata": {},
   "source": [
    "Omit a number to select from the start or to the end ..."
   ]
  },
  {
   "cell_type": "code",
   "execution_count": null,
   "metadata": {},
   "outputs": [],
   "source": [
    "L[:4]"
   ]
  },
  {
   "cell_type": "code",
   "execution_count": null,
   "metadata": {},
   "outputs": [],
   "source": [
    "L[2:]"
   ]
  },
  {
   "cell_type": "markdown",
   "metadata": {},
   "source": [
    "Adding a third number and : symbol within the slice decides how you \"step\" through the list."
   ]
  },
  {
   "cell_type": "code",
   "execution_count": null,
   "metadata": {},
   "outputs": [],
   "source": [
    "L[::2] #start at the start, go to the end, in steps of 2"
   ]
  },
  {
   "cell_type": "code",
   "execution_count": null,
   "metadata": {},
   "outputs": [],
   "source": [
    "L[1:4:2] #start at position 1, go to position 4 (not inclusive), in steps of 2"
   ]
  },
  {
   "cell_type": "markdown",
   "metadata": {},
   "source": [
    "Setting the last value, the \"step\" to -1, will take you backwards through a list!"
   ]
  },
  {
   "cell_type": "code",
   "execution_count": null,
   "metadata": {},
   "outputs": [],
   "source": [
    "L[::-1]"
   ]
  },
  {
   "cell_type": "markdown",
   "metadata": {},
   "source": [
    "furthermore, we can use all these stratagies with a string too."
   ]
  },
  {
   "cell_type": "code",
   "execution_count": null,
   "metadata": {},
   "outputs": [],
   "source": [
    "s = \"murder for a jar of red rum\""
   ]
  },
  {
   "cell_type": "code",
   "execution_count": null,
   "metadata": {},
   "outputs": [],
   "source": [
    "s[::-1]"
   ]
  },
  {
   "cell_type": "code",
   "execution_count": null,
   "metadata": {},
   "outputs": [],
   "source": [
    "# Use a string slice to select every second letter of this string\n",
    "s = \"ae ghriydpdlegnd zmseasvsbangmef\""
   ]
  },
  {
   "cell_type": "code",
   "execution_count": null,
   "metadata": {},
   "outputs": [],
   "source": [
    "s[::2]"
   ]
  },
  {
   "cell_type": "code",
   "execution_count": null,
   "metadata": {},
   "outputs": [],
   "source": [
    "# Use a list to reverse this list\n",
    "L = ['a', 'b', 'c', 'd']"
   ]
  },
  {
   "cell_type": "code",
   "execution_count": null,
   "metadata": {},
   "outputs": [],
   "source": [
    "L[::-1]"
   ]
  },
  {
   "cell_type": "markdown",
   "metadata": {},
   "source": [
    "We can use slices to solve the monkey puzzle another way."
   ]
  },
  {
   "cell_type": "markdown",
   "metadata": {},
   "source": [
    "\n",
    "Let's look at another harder \"monkey puzzle\" to practice!\n",
    "\n",
    "    10001 monkeys line up, each holding a sign showing a number.\n",
    "    Each monkey holds a number that is the cube of their position in line minus his/her position mod 1001.\n",
    "    \n",
    "    What is the sum of the numbers held by monkeys in even positions in line, minus the sum of the numbers in odd positions.\n"
   ]
  },
  {
   "cell_type": "code",
   "execution_count": null,
   "metadata": {},
   "outputs": [],
   "source": [
    "# L[::2], start at start, move in steps of 2. This selects all the even monkies\n",
    "# L[1::2], start at 1, move in steps of 2. This selects all the odd monkies\n",
    "\n",
    "# a comprehension to find all the values on each monkies sign\n",
    "\n",
    "# This solution I find by far the easiest to read, and check.\n",
    "# It combines both comprehensions and slices neatly so solve te problem.\n",
    "\n",
    "signs = [ k**3 - (k%1001) for k in range(10001) ]\n",
    "sum(signs[::2]) - sum(signs[1::2])"
   ]
  },
  {
   "cell_type": "markdown",
   "metadata": {},
   "source": [
    "So, we saw how to use comprehensions and slices to solve problems in Python!\n",
    "These two methods are part of the reason Python is so popular.\n",
    "They make code far clearer and simpler, which also helps you check it's working correctly!"
   ]
  },
  {
   "cell_type": "markdown",
   "metadata": {},
   "source": [
    "## Slices of ranges\n",
    "In python, for optimized speed, range objects also obey the rules for slices.\n",
    "\n",
    "If I slice a range, I get another range."
   ]
  },
  {
   "cell_type": "code",
   "execution_count": null,
   "metadata": {},
   "outputs": [],
   "source": [
    "range(10, 20)[::2]"
   ]
  },
  {
   "cell_type": "code",
   "execution_count": null,
   "metadata": {},
   "outputs": [],
   "source": [
    "range(10, 20)[::-1]"
   ]
  },
  {
   "cell_type": "code",
   "execution_count": null,
   "metadata": {},
   "outputs": [],
   "source": [
    "range(1, 101, 2)[::2]"
   ]
  },
  {
   "cell_type": "code",
   "execution_count": null,
   "metadata": {},
   "outputs": [],
   "source": [
    "range(1, 101, 2)[10:50:2]"
   ]
  },
  {
   "cell_type": "markdown",
   "metadata": {},
   "source": [
    "Try to work out, without running, what the following will do.\n",
    "\n",
    "It's not really a pattern I'd suggest using too much, but it's a good test of understanding."
   ]
  },
  {
   "cell_type": "code",
   "execution_count": null,
   "metadata": {},
   "outputs": [],
   "source": [
    "range(1, 100)[::5]"
   ]
  },
  {
   "cell_type": "code",
   "execution_count": null,
   "metadata": {},
   "outputs": [],
   "source": [
    "range(100, 1, -1)[::2]"
   ]
  },
  {
   "cell_type": "code",
   "execution_count": null,
   "metadata": {},
   "outputs": [],
   "source": [
    "range(1, 100)[::3]"
   ]
  },
  {
   "cell_type": "code",
   "execution_count": null,
   "metadata": {},
   "outputs": [],
   "source": [
    "range(1, 100)[10:20:3]"
   ]
  },
  {
   "cell_type": "code",
   "execution_count": null,
   "metadata": {},
   "outputs": [],
   "source": [
    "range(100, 50, -2)[10:60:3]"
   ]
  },
  {
   "cell_type": "markdown",
   "metadata": {},
   "source": [
    "## Conclusion"
   ]
  },
  {
   "cell_type": "markdown",
   "metadata": {},
   "source": [
    "Using for loops isn't inherantly bad.\n",
    "Sometimes it's essential, as not everything can be solved by a comprehension in fact.\n",
    "\n",
    "You should use them to replace unneeded or confusing loops into more compact forms, and to avoid creating unneeded intermediate variables.\n",
    "\n",
    "This can help make your code more readable and intuitive for others."
   ]
  },
  {
   "cell_type": "code",
   "execution_count": null,
   "metadata": {},
   "outputs": [],
   "source": []
  },
  {
   "cell_type": "code",
   "execution_count": null,
   "metadata": {},
   "outputs": [],
   "source": []
  },
  {
   "cell_type": "code",
   "execution_count": null,
   "metadata": {},
   "outputs": [],
   "source": []
  },
  {
   "cell_type": "code",
   "execution_count": null,
   "metadata": {},
   "outputs": [],
   "source": []
  },
  {
   "cell_type": "code",
   "execution_count": null,
   "metadata": {},
   "outputs": [],
   "source": []
  },
  {
   "cell_type": "code",
   "execution_count": null,
   "metadata": {},
   "outputs": [],
   "source": []
  },
  {
   "cell_type": "code",
   "execution_count": null,
   "metadata": {},
   "outputs": [],
   "source": []
  },
  {
   "cell_type": "code",
   "execution_count": null,
   "metadata": {},
   "outputs": [],
   "source": []
  },
  {
   "cell_type": "code",
   "execution_count": null,
   "metadata": {},
   "outputs": [],
   "source": []
  },
  {
   "cell_type": "code",
   "execution_count": null,
   "metadata": {},
   "outputs": [],
   "source": []
  },
  {
   "cell_type": "code",
   "execution_count": null,
   "metadata": {},
   "outputs": [],
   "source": []
  },
  {
   "cell_type": "code",
   "execution_count": null,
   "metadata": {},
   "outputs": [],
   "source": []
  },
  {
   "cell_type": "code",
   "execution_count": null,
   "metadata": {},
   "outputs": [],
   "source": []
  },
  {
   "cell_type": "code",
   "execution_count": null,
   "metadata": {},
   "outputs": [],
   "source": []
  },
  {
   "cell_type": "code",
   "execution_count": null,
   "metadata": {},
   "outputs": [],
   "source": []
  },
  {
   "cell_type": "code",
   "execution_count": null,
   "metadata": {},
   "outputs": [],
   "source": []
  },
  {
   "cell_type": "code",
   "execution_count": null,
   "metadata": {},
   "outputs": [],
   "source": []
  },
  {
   "cell_type": "code",
   "execution_count": null,
   "metadata": {},
   "outputs": [],
   "source": []
  },
  {
   "cell_type": "markdown",
   "metadata": {},
   "source": [
    "## The shortest solution I could find for the \"Prof Genius\" problem\n",
    "### There will be many simper solutions also,"
   ]
  },
  {
   "cell_type": "code",
   "execution_count": null,
   "metadata": {},
   "outputs": [],
   "source": [
    "state = dict(zip(range(100), [ False ]*100 ) )\n",
    "\n",
    "for day in range(1, 101):\n",
    "    state = (lambda d : { k : (not v if k%day == 0 else v) for (k, v) in d.items() })( state )\n",
    "\n",
    "[v for v, k in state.items() if k ]"
   ]
  },
  {
   "cell_type": "code",
   "execution_count": null,
   "metadata": {},
   "outputs": [],
   "source": []
  }
 ],
 "metadata": {
  "kernelspec": {
   "display_name": "Python 3",
   "language": "python",
   "name": "python3"
  },
  "language_info": {
   "codemirror_mode": {
    "name": "ipython",
    "version": 3
   },
   "file_extension": ".py",
   "mimetype": "text/x-python",
   "name": "python",
   "nbconvert_exporter": "python",
   "pygments_lexer": "ipython3",
   "version": "3.8.1"
  }
 },
 "nbformat": 4,
 "nbformat_minor": 4
}
