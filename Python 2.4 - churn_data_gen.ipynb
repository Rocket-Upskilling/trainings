{
 "cells": [
  {
   "cell_type": "code",
   "execution_count": 1,
   "id": "a4a98474",
   "metadata": {},
   "outputs": [],
   "source": [
    "import pandas as pd\n",
    "import numpy as np\n",
    "import random\n",
    "from sklearn.ensemble import GradientBoostingClassifier\n",
    "from sklearn.model_selection import train_test_split\n",
    "from sklearn import preprocessing"
   ]
  },
  {
   "cell_type": "code",
   "execution_count": 2,
   "id": "d677f29c",
   "metadata": {},
   "outputs": [],
   "source": [
    "df1 = pd.DataFrame()\n",
    "df1['days_since_last_order'] = [np.random.randint(1, 15) for _ in range(10000)]\n",
    "df1['median_order_type'] = random.choices(['raw_ingredients', 'finished_goods'], weights=[70, 30], k=10000)\n",
    "df1['days_since_last_contact'] = [np.random.randint(1, 15) for _ in range(10000)]\n",
    "df1['monthly_mean_order_vol'] = [np.random.randint(500, 1500) for _ in range(10000)]\n",
    "df1['yearly_mean_cust_rev'] = [np.random.randint(500, 1500) for _ in range(10000)]\n",
    "df1['status'] = 'active' \n",
    "\n",
    "df2 = pd.DataFrame()\n",
    "df2['days_since_last_order'] = [np.random.randint(7, 20) for _ in range(1000)]\n",
    "df2['median_order_type'] = random.choices(['raw_ingredients', 'finished_goods'], weights=[30, 70], k=1000)\n",
    "df2['days_since_last_contact'] = [np.random.randint(7, 20) for _ in range(1000)]\n",
    "df2['monthly_mean_order_vol'] = [np.random.randint(400, 1400) for _ in range(1000)]\n",
    "df2['yearly_mean_cust_rev'] = [np.random.randint(400, 1400) for _ in range(1000)]\n",
    "df2['status'] = 'cancelled'\n",
    "\n",
    "df3 = pd.DataFrame()\n",
    "df3['days_since_last_order'] = [np.random.randint(10, 40) for _ in range(1000)]\n",
    "df3['median_order_type'] = random.choices(['raw_ingredients', 'finished_goods'], weights=[60, 40], k=1000)\n",
    "df3['days_since_last_contact'] = [np.random.randint(7, 40) for _ in range(1000)]\n",
    "df3['monthly_mean_order_vol'] = [np.random.randint(450, 1450) for _ in range(1000)]\n",
    "df3['yearly_mean_cust_rev'] = [np.random.randint(200, 1400) for _ in range(1000)]\n",
    "df3['status'] = 'paused'"
   ]
  },
  {
   "cell_type": "code",
   "execution_count": 3,
   "id": "f6655e6d",
   "metadata": {},
   "outputs": [
    {
     "data": {
      "text/html": [
       "<div>\n",
       "<style scoped>\n",
       "    .dataframe tbody tr th:only-of-type {\n",
       "        vertical-align: middle;\n",
       "    }\n",
       "\n",
       "    .dataframe tbody tr th {\n",
       "        vertical-align: top;\n",
       "    }\n",
       "\n",
       "    .dataframe thead th {\n",
       "        text-align: right;\n",
       "    }\n",
       "</style>\n",
       "<table border=\"1\" class=\"dataframe\">\n",
       "  <thead>\n",
       "    <tr style=\"text-align: right;\">\n",
       "      <th></th>\n",
       "      <th>days_since_last_order</th>\n",
       "      <th>median_order_type</th>\n",
       "      <th>days_since_last_contact</th>\n",
       "      <th>monthly_mean_order_vol</th>\n",
       "      <th>yearly_mean_cust_rev</th>\n",
       "      <th>status</th>\n",
       "    </tr>\n",
       "  </thead>\n",
       "  <tbody>\n",
       "    <tr>\n",
       "      <th>0</th>\n",
       "      <td>4</td>\n",
       "      <td>finished_goods</td>\n",
       "      <td>1</td>\n",
       "      <td>657</td>\n",
       "      <td>1398</td>\n",
       "      <td>active</td>\n",
       "    </tr>\n",
       "    <tr>\n",
       "      <th>1</th>\n",
       "      <td>10</td>\n",
       "      <td>raw_ingredients</td>\n",
       "      <td>10</td>\n",
       "      <td>1061</td>\n",
       "      <td>636</td>\n",
       "      <td>active</td>\n",
       "    </tr>\n",
       "    <tr>\n",
       "      <th>2</th>\n",
       "      <td>1</td>\n",
       "      <td>finished_goods</td>\n",
       "      <td>2</td>\n",
       "      <td>801</td>\n",
       "      <td>1449</td>\n",
       "      <td>active</td>\n",
       "    </tr>\n",
       "    <tr>\n",
       "      <th>3</th>\n",
       "      <td>9</td>\n",
       "      <td>finished_goods</td>\n",
       "      <td>5</td>\n",
       "      <td>841</td>\n",
       "      <td>1255</td>\n",
       "      <td>active</td>\n",
       "    </tr>\n",
       "    <tr>\n",
       "      <th>4</th>\n",
       "      <td>6</td>\n",
       "      <td>finished_goods</td>\n",
       "      <td>3</td>\n",
       "      <td>1149</td>\n",
       "      <td>1021</td>\n",
       "      <td>active</td>\n",
       "    </tr>\n",
       "  </tbody>\n",
       "</table>\n",
       "</div>"
      ],
      "text/plain": [
       "   days_since_last_order median_order_type  days_since_last_contact  \\\n",
       "0                      4    finished_goods                        1   \n",
       "1                     10   raw_ingredients                       10   \n",
       "2                      1    finished_goods                        2   \n",
       "3                      9    finished_goods                        5   \n",
       "4                      6    finished_goods                        3   \n",
       "\n",
       "   monthly_mean_order_vol  yearly_mean_cust_rev  status  \n",
       "0                     657                  1398  active  \n",
       "1                    1061                   636  active  \n",
       "2                     801                  1449  active  \n",
       "3                     841                  1255  active  \n",
       "4                    1149                  1021  active  "
      ]
     },
     "execution_count": 3,
     "metadata": {},
     "output_type": "execute_result"
    }
   ],
   "source": [
    "df1.head()"
   ]
  },
  {
   "cell_type": "code",
   "execution_count": 4,
   "id": "fcbb79e1",
   "metadata": {},
   "outputs": [],
   "source": [
    "boom1 = pd.concat([df1, df2], ignore_index=True).sample(frac=1)\n",
    "boom1.to_csv('./data/churn_2_classes.csv')"
   ]
  },
  {
   "cell_type": "code",
   "execution_count": 5,
   "id": "50fd3b00",
   "metadata": {},
   "outputs": [],
   "source": [
    "boom2 = pd.concat([df1, df2, df3], ignore_index=True).sample(frac=1)\n",
    "boom2.to_csv('./data/churn_3_classes.csv')"
   ]
  },
  {
   "cell_type": "code",
   "execution_count": 6,
   "id": "51ceb162",
   "metadata": {},
   "outputs": [],
   "source": [
    "X = boom1[['days_since_last_order', 'days_since_last_contact', 'monthly_mean_order_vol', 'yearly_mean_cust_rev']]\n",
    "y = boom1['status']\n",
    "le = preprocessing.LabelEncoder()\n",
    "le.fit(y)\n",
    "y = le.transform(boom1['status'])"
   ]
  },
  {
   "cell_type": "code",
   "execution_count": 7,
   "id": "5b6a75b3",
   "metadata": {},
   "outputs": [
    {
     "data": {
      "text/plain": [
       "0.9690909090909091"
      ]
     },
     "execution_count": 7,
     "metadata": {},
     "output_type": "execute_result"
    }
   ],
   "source": [
    "X_train, X_test, y_train, y_test = train_test_split(\n",
    "    X, y, random_state=0)\n",
    "reg = GradientBoostingClassifier(random_state=0)\n",
    "reg.fit(X_train, y_train)\n",
    "\n",
    "reg.predict(X_test)\n",
    "\n",
    "reg.score(X_test, y_test)\n"
   ]
  },
  {
   "cell_type": "code",
   "execution_count": 8,
   "id": "73b39a12",
   "metadata": {},
   "outputs": [],
   "source": [
    "X = boom2[['days_since_last_order', 'days_since_last_contact', 'monthly_mean_order_vol', 'yearly_mean_cust_rev']]\n",
    "y = boom2['status']"
   ]
  },
  {
   "cell_type": "code",
   "execution_count": 9,
   "id": "24ed6e9d",
   "metadata": {},
   "outputs": [
    {
     "data": {
      "text/plain": [
       "3"
      ]
     },
     "execution_count": 9,
     "metadata": {},
     "output_type": "execute_result"
    }
   ],
   "source": [
    "boom2['status'].nunique()"
   ]
  },
  {
   "cell_type": "code",
   "execution_count": null,
   "id": "ac5ab9d2",
   "metadata": {},
   "outputs": [],
   "source": []
  }
 ],
 "metadata": {
  "kernelspec": {
   "display_name": "Python 3",
   "language": "python",
   "name": "python3"
  },
  "language_info": {
   "codemirror_mode": {
    "name": "ipython",
    "version": 3
   },
   "file_extension": ".py",
   "mimetype": "text/x-python",
   "name": "python",
   "nbconvert_exporter": "python",
   "pygments_lexer": "ipython3",
   "version": "3.9.4"
  }
 },
 "nbformat": 4,
 "nbformat_minor": 5
}
