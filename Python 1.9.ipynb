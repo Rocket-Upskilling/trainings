{
 "cells": [
  {
   "cell_type": "code",
   "execution_count": null,
   "metadata": {},
   "outputs": [],
   "source": [
    "from random import randint\n",
    "import numpy as np\n",
    "\n",
    "import pandas as pd\n",
    "\n",
    "from sklearn.linear_model import LinearRegression"
   ]
  },
  {
   "cell_type": "code",
   "execution_count": null,
   "metadata": {},
   "outputs": [],
   "source": [
    "df = pd.read_csv(\"https://www.dropbox.com/s/vz1l18qa9xxvhy3/demand_trend.csv?dl=1\", index_col=0)\n",
    "\n",
    "df['date'] = pd.to_datetime(df['date'])\n",
    "q = df[ ['date', 'demand'] ]\n",
    "q.plot(x='date', y='demand', figsize=(10,10))"
   ]
  },
  {
   "cell_type": "code",
   "execution_count": null,
   "metadata": {},
   "outputs": [],
   "source": [
    "q"
   ]
  },
  {
   "cell_type": "code",
   "execution_count": null,
   "metadata": {},
   "outputs": [],
   "source": [
    "df =  df.fillna( method='ffill' ).fillna( method='bfill' )\n",
    "q = df #a copy for safe-keeping"
   ]
  },
  {
   "cell_type": "code",
   "execution_count": null,
   "metadata": {},
   "outputs": [],
   "source": [
    "#a neat hack to create a simple increaseing col\n",
    "df = df.reset_index()"
   ]
  },
  {
   "cell_type": "code",
   "execution_count": null,
   "metadata": {},
   "outputs": [],
   "source": [
    "df = df.rename(columns={'index' : 'sic'})\n",
    "df"
   ]
  },
  {
   "cell_type": "code",
   "execution_count": null,
   "metadata": {},
   "outputs": [],
   "source": [
    "X = df[['sic']].values"
   ]
  },
  {
   "cell_type": "code",
   "execution_count": null,
   "metadata": {},
   "outputs": [],
   "source": [
    "X"
   ]
  },
  {
   "cell_type": "code",
   "execution_count": null,
   "metadata": {},
   "outputs": [],
   "source": [
    "y = df['demand']"
   ]
  },
  {
   "cell_type": "code",
   "execution_count": null,
   "metadata": {},
   "outputs": [],
   "source": [
    "reg = LinearRegression().fit(X, y)"
   ]
  },
  {
   "cell_type": "code",
   "execution_count": null,
   "metadata": {},
   "outputs": [],
   "source": [
    "pred_rng = [ [x] for x in range(1066, 2000) ] # "
   ]
  },
  {
   "cell_type": "code",
   "execution_count": null,
   "metadata": {},
   "outputs": [],
   "source": [
    "preds = reg.predict(pred_rng)"
   ]
  },
  {
   "cell_type": "code",
   "execution_count": null,
   "metadata": {},
   "outputs": [],
   "source": [
    "end_date = pd.Timestamp(\"2021-12-01\") + pd.Timedelta(days=933)\n",
    "\n",
    "preds_daterange = pd.date_range( pd.Timestamp(\"2021-12-01\"), end_date)"
   ]
  },
  {
   "cell_type": "code",
   "execution_count": null,
   "metadata": {},
   "outputs": [],
   "source": [
    "preds_df = pd.DataFrame( columns=[\"demand_pred\", \"date\"] )"
   ]
  },
  {
   "cell_type": "code",
   "execution_count": null,
   "metadata": {},
   "outputs": [],
   "source": [
    "preds_df"
   ]
  },
  {
   "cell_type": "code",
   "execution_count": null,
   "metadata": {},
   "outputs": [],
   "source": [
    "preds_df['date'] = preds_daterange\n",
    "preds_df['demand_pred'] = preds"
   ]
  },
  {
   "cell_type": "code",
   "execution_count": null,
   "metadata": {},
   "outputs": [],
   "source": [
    "preds_df"
   ]
  },
  {
   "cell_type": "code",
   "execution_count": null,
   "metadata": {},
   "outputs": [],
   "source": [
    "total_df = pd.concat( [q, preds_df], axis=0 )"
   ]
  },
  {
   "cell_type": "code",
   "execution_count": null,
   "metadata": {},
   "outputs": [],
   "source": [
    "total_df"
   ]
  },
  {
   "cell_type": "code",
   "execution_count": null,
   "metadata": {},
   "outputs": [],
   "source": [
    "total_df = total_df.set_index(\"date\")"
   ]
  },
  {
   "cell_type": "code",
   "execution_count": null,
   "metadata": {},
   "outputs": [],
   "source": [
    "#a very simple forecast\n",
    "total_df.plot(figsize=(20,20))"
   ]
  },
  {
   "cell_type": "code",
   "execution_count": null,
   "metadata": {},
   "outputs": [],
   "source": [
    "#adding features!\n",
    "#let's first see if including holiday date improves the prediction\n"
   ]
  },
  {
   "cell_type": "code",
   "execution_count": null,
   "metadata": {},
   "outputs": [],
   "source": [
    "from pandas.tseries.holiday import USFederalHolidayCalendar as calendar\n",
    "\n",
    "cal = calendar()\n",
    "holidays = cal.holidays(start=df['date'].min(), end=df['date'].max())\n",
    "\n",
    "df['holiday'] = df['date'].isin(holidays)"
   ]
  },
  {
   "cell_type": "code",
   "execution_count": null,
   "metadata": {},
   "outputs": [],
   "source": [
    "#we need numbers tho!\n",
    "df"
   ]
  },
  {
   "cell_type": "code",
   "execution_count": null,
   "metadata": {},
   "outputs": [],
   "source": [
    "df['holiday'] = df['holiday'].astype(float)"
   ]
  },
  {
   "cell_type": "code",
   "execution_count": null,
   "metadata": {},
   "outputs": [],
   "source": [
    "#bingo\n",
    "df"
   ]
  },
  {
   "cell_type": "code",
   "execution_count": null,
   "metadata": {},
   "outputs": [],
   "source": [
    "X = df[['sic', 'holiday']].values\n",
    "X"
   ]
  },
  {
   "cell_type": "code",
   "execution_count": null,
   "metadata": {},
   "outputs": [],
   "source": [
    "y = df['demand'].values"
   ]
  },
  {
   "cell_type": "code",
   "execution_count": null,
   "metadata": {},
   "outputs": [],
   "source": [
    "reg.fit(X, y)"
   ]
  },
  {
   "cell_type": "code",
   "execution_count": null,
   "metadata": {},
   "outputs": [],
   "source": [
    "pred_rng_df = pd.DataFrame()\n",
    "\n",
    "pred_rng = [ x for x in range(1066, 2000) ]\n",
    "pred_rng_df['sic'] = pred_rng\n",
    "\n",
    "end_date = pd.Timestamp(\"2021-12-01\") + pd.Timedelta(days=933)\n",
    "preds_daterange = pd.date_range( pd.Timestamp(\"2021-12-01\"), end_date)\n",
    "pred_rng_df['date'] = preds_daterange\n",
    "\n",
    "cal = calendar()\n",
    "holidays = cal.holidays(start=pred_rng_df['date'].min(), end=pred_rng_df['date'].max())\n",
    "\n",
    "pred_rng_df['holiday'] = pred_rng_df['date'].isin(holidays).astype(float)\n",
    "\n",
    "pred_rng_df"
   ]
  },
  {
   "cell_type": "code",
   "execution_count": null,
   "metadata": {},
   "outputs": [],
   "source": [
    "X_pred = pred_rng_df[['sic', 'holiday']].values\n",
    "\n",
    "preds = reg.predict(X_pred)\n",
    "\n",
    "preds_df['date'] = preds_daterange\n",
    "preds_df['demand_pred'] = preds"
   ]
  },
  {
   "cell_type": "code",
   "execution_count": null,
   "metadata": {},
   "outputs": [],
   "source": [
    "total_df = pd.concat( [q, preds_df], axis=0 )"
   ]
  },
  {
   "cell_type": "code",
   "execution_count": null,
   "metadata": {},
   "outputs": [],
   "source": [
    "total_df"
   ]
  },
  {
   "cell_type": "code",
   "execution_count": null,
   "metadata": {},
   "outputs": [],
   "source": [
    "total_df.set_index('date').plot(figsize=(20,20))"
   ]
  },
  {
   "cell_type": "code",
   "execution_count": null,
   "metadata": {},
   "outputs": [],
   "source": [
    "#homework \n",
    "#let's try adding day of week (one-hot-encoding)\n",
    "\n",
    "df['day_of_week_0'] = df['date'].apply( lambda x : x.day_of_week == 0 ).astype(float)\n",
    "df['day_of_week_1'] = df['date'].apply( lambda x : x.day_of_week == 1 ).astype(float)\n",
    "df['day_of_week_2'] = df['date'].apply( lambda x : x.day_of_week == 2 ).astype(float)\n",
    "df['day_of_week_3'] = df['date'].apply( lambda x : x.day_of_week == 3 ).astype(float)\n",
    "df['day_of_week_4'] = df['date'].apply( lambda x : x.day_of_week == 4 ).astype(float)\n",
    "df['day_of_week_5'] = df['date'].apply( lambda x : x.day_of_week == 5 ).astype(float)\n",
    "df['day_of_week_6'] = df['date'].apply( lambda x : x.day_of_week == 6 ).astype(float)\n",
    "\n",
    "df"
   ]
  },
  {
   "cell_type": "code",
   "execution_count": null,
   "metadata": {},
   "outputs": [],
   "source": [
    "X = df[['sic', 'holiday', 'day_of_week_0', 'day_of_week_1', 'day_of_week_2', 'day_of_week_3', 'day_of_week_4', 'day_of_week_5', 'day_of_week_6']].values\n",
    "X"
   ]
  },
  {
   "cell_type": "code",
   "execution_count": null,
   "metadata": {},
   "outputs": [],
   "source": [
    "y = df['demand'].values"
   ]
  },
  {
   "cell_type": "code",
   "execution_count": null,
   "metadata": {},
   "outputs": [],
   "source": [
    "reg.fit(X, y)"
   ]
  },
  {
   "cell_type": "code",
   "execution_count": null,
   "metadata": {},
   "outputs": [],
   "source": [
    "pred_rng_df['day_of_week_0'] = pred_rng_df['date'].apply( lambda x : x.day_of_week == 0 ).astype(float)\n",
    "pred_rng_df['day_of_week_1'] = pred_rng_df['date'].apply( lambda x : x.day_of_week == 1 ).astype(float)\n",
    "pred_rng_df['day_of_week_2'] = pred_rng_df['date'].apply( lambda x : x.day_of_week == 2 ).astype(float)\n",
    "pred_rng_df['day_of_week_3'] = pred_rng_df['date'].apply( lambda x : x.day_of_week == 3 ).astype(float)\n",
    "pred_rng_df['day_of_week_4'] = pred_rng_df['date'].apply( lambda x : x.day_of_week == 4 ).astype(float)\n",
    "pred_rng_df['day_of_week_5'] = pred_rng_df['date'].apply( lambda x : x.day_of_week == 5 ).astype(float)\n",
    "pred_rng_df['day_of_week_6'] = pred_rng_df['date'].apply( lambda x : x.day_of_week == 6 ).astype(float)\n",
    "\n",
    "pred_rng_df"
   ]
  },
  {
   "cell_type": "code",
   "execution_count": null,
   "metadata": {},
   "outputs": [],
   "source": [
    "X_pred = pred_rng_df.drop('date', axis=1).values #just faster than selecting one by one\n",
    "\n",
    "preds = reg.predict(X_pred)\n",
    "\n",
    "preds_df['date'] = preds_daterange\n",
    "preds_df['demand_pred'] = preds\n"
   ]
  },
  {
   "cell_type": "code",
   "execution_count": null,
   "metadata": {},
   "outputs": [],
   "source": [
    "total_df = pd.concat( [q, preds_df], axis=0 )"
   ]
  },
  {
   "cell_type": "code",
   "execution_count": null,
   "metadata": {},
   "outputs": [],
   "source": [
    "total_df.set_index(\"date\").plot(figsize=(20,20))"
   ]
  },
  {
   "cell_type": "code",
   "execution_count": null,
   "metadata": {},
   "outputs": [],
   "source": [
    "#accuracy\n",
    "\n",
    "df['retro_pred'] = reg.predict(X)\n",
    "df[['demand', 'retro_pred']].plot(figsize=(20,20))"
   ]
  },
  {
   "cell_type": "code",
   "execution_count": null,
   "metadata": {},
   "outputs": [],
   "source": [
    "from sklearn.metrics import r2_score\n",
    "\n",
    "r2_score(df['demand'], df['retro_pred'])"
   ]
  },
  {
   "cell_type": "code",
   "execution_count": null,
   "metadata": {},
   "outputs": [],
   "source": [
    "r2_score( df['demand'], [df['demand'].mean()]*len(df) )"
   ]
  },
  {
   "cell_type": "code",
   "execution_count": null,
   "metadata": {},
   "outputs": [],
   "source": [
    "r2_score( df['demand'], df['demand'] )"
   ]
  },
  {
   "cell_type": "markdown",
   "metadata": {},
   "source": [
    "homework\n",
    "1) try to repeat the same analysis but with the sgd regressor\n",
    "\n",
    "https://scikit-learn.org/stable/modules/generated/sklearn.linear_model.SGDRegressor.html\n",
    "\n",
    "2) try to work out which large effect is still missing from the model, and add a good guess at the missing feature \n",
    "clue, look at the three \"unexplained\" peaks, which date based function does that match ;)"
   ]
  }
 ],
 "metadata": {
  "kernelspec": {
   "display_name": "Python 3",
   "language": "python",
   "name": "python3"
  },
  "language_info": {
   "codemirror_mode": {
    "name": "ipython",
    "version": 3
   },
   "file_extension": ".py",
   "mimetype": "text/x-python",
   "name": "python",
   "nbconvert_exporter": "python",
   "pygments_lexer": "ipython3",
   "version": "3.8.10"
  }
 },
 "nbformat": 4,
 "nbformat_minor": 4
}
