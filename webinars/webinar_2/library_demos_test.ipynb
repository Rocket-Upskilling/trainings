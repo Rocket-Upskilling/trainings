{
 "cells": [
  {
   "cell_type": "markdown",
   "metadata": {},
   "source": [
    "# Pandas"
   ]
  },
  {
   "cell_type": "code",
   "execution_count": 1,
   "metadata": {},
   "outputs": [],
   "source": [
    "import numpy as np\n",
    "import pandas as pd"
   ]
  },
  {
   "cell_type": "code",
   "execution_count": 2,
   "metadata": {},
   "outputs": [],
   "source": [
    "url = \"https://people.sc.fsu.edu/~jburkardt/data/csv/zillow.csv\"\n",
    "df = pd.read_csv(url, index_col=0)"
   ]
  },
  {
   "cell_type": "code",
   "execution_count": 3,
   "metadata": {},
   "outputs": [],
   "source": [
    "# don't worry about this step for now, it's just to fix extra \"\" in the columns names from the data source\n",
    "df.columns = [ x[2:-1] for x in df.columns ]"
   ]
  },
  {
   "cell_type": "code",
   "execution_count": 4,
   "metadata": {},
   "outputs": [
    {
     "data": {
      "text/html": [
       "<div>\n",
       "<style scoped>\n",
       "    .dataframe tbody tr th:only-of-type {\n",
       "        vertical-align: middle;\n",
       "    }\n",
       "\n",
       "    .dataframe tbody tr th {\n",
       "        vertical-align: top;\n",
       "    }\n",
       "\n",
       "    .dataframe thead th {\n",
       "        text-align: right;\n",
       "    }\n",
       "</style>\n",
       "<table border=\"1\" class=\"dataframe\">\n",
       "  <thead>\n",
       "    <tr style=\"text-align: right;\">\n",
       "      <th></th>\n",
       "      <th>Living Space (sq ft)</th>\n",
       "      <th>Beds</th>\n",
       "      <th>Baths</th>\n",
       "      <th>Zip</th>\n",
       "      <th>Year</th>\n",
       "      <th>List Price ($)</th>\n",
       "    </tr>\n",
       "    <tr>\n",
       "      <th>Index</th>\n",
       "      <th></th>\n",
       "      <th></th>\n",
       "      <th></th>\n",
       "      <th></th>\n",
       "      <th></th>\n",
       "      <th></th>\n",
       "    </tr>\n",
       "  </thead>\n",
       "  <tbody>\n",
       "    <tr>\n",
       "      <th>1</th>\n",
       "      <td>2222</td>\n",
       "      <td>3</td>\n",
       "      <td>3.5</td>\n",
       "      <td>32312</td>\n",
       "      <td>1981</td>\n",
       "      <td>250000</td>\n",
       "    </tr>\n",
       "    <tr>\n",
       "      <th>2</th>\n",
       "      <td>1628</td>\n",
       "      <td>3</td>\n",
       "      <td>2.0</td>\n",
       "      <td>32308</td>\n",
       "      <td>2009</td>\n",
       "      <td>185000</td>\n",
       "    </tr>\n",
       "    <tr>\n",
       "      <th>3</th>\n",
       "      <td>3824</td>\n",
       "      <td>5</td>\n",
       "      <td>4.0</td>\n",
       "      <td>32312</td>\n",
       "      <td>1954</td>\n",
       "      <td>399000</td>\n",
       "    </tr>\n",
       "    <tr>\n",
       "      <th>4</th>\n",
       "      <td>1137</td>\n",
       "      <td>3</td>\n",
       "      <td>2.0</td>\n",
       "      <td>32309</td>\n",
       "      <td>1993</td>\n",
       "      <td>150000</td>\n",
       "    </tr>\n",
       "    <tr>\n",
       "      <th>5</th>\n",
       "      <td>3560</td>\n",
       "      <td>6</td>\n",
       "      <td>4.0</td>\n",
       "      <td>32309</td>\n",
       "      <td>1973</td>\n",
       "      <td>315000</td>\n",
       "    </tr>\n",
       "    <tr>\n",
       "      <th>6</th>\n",
       "      <td>2893</td>\n",
       "      <td>4</td>\n",
       "      <td>3.0</td>\n",
       "      <td>32312</td>\n",
       "      <td>1994</td>\n",
       "      <td>699000</td>\n",
       "    </tr>\n",
       "    <tr>\n",
       "      <th>7</th>\n",
       "      <td>3631</td>\n",
       "      <td>4</td>\n",
       "      <td>3.0</td>\n",
       "      <td>32309</td>\n",
       "      <td>1996</td>\n",
       "      <td>649000</td>\n",
       "    </tr>\n",
       "    <tr>\n",
       "      <th>8</th>\n",
       "      <td>2483</td>\n",
       "      <td>4</td>\n",
       "      <td>3.0</td>\n",
       "      <td>32312</td>\n",
       "      <td>2016</td>\n",
       "      <td>399000</td>\n",
       "    </tr>\n",
       "    <tr>\n",
       "      <th>9</th>\n",
       "      <td>2400</td>\n",
       "      <td>4</td>\n",
       "      <td>4.0</td>\n",
       "      <td>32312</td>\n",
       "      <td>2002</td>\n",
       "      <td>613000</td>\n",
       "    </tr>\n",
       "    <tr>\n",
       "      <th>10</th>\n",
       "      <td>1997</td>\n",
       "      <td>3</td>\n",
       "      <td>3.0</td>\n",
       "      <td>32311</td>\n",
       "      <td>2006</td>\n",
       "      <td>295000</td>\n",
       "    </tr>\n",
       "    <tr>\n",
       "      <th>11</th>\n",
       "      <td>2097</td>\n",
       "      <td>4</td>\n",
       "      <td>3.0</td>\n",
       "      <td>32311</td>\n",
       "      <td>2016</td>\n",
       "      <td>290000</td>\n",
       "    </tr>\n",
       "    <tr>\n",
       "      <th>12</th>\n",
       "      <td>3200</td>\n",
       "      <td>5</td>\n",
       "      <td>4.0</td>\n",
       "      <td>32312</td>\n",
       "      <td>1964</td>\n",
       "      <td>465000</td>\n",
       "    </tr>\n",
       "    <tr>\n",
       "      <th>13</th>\n",
       "      <td>4892</td>\n",
       "      <td>5</td>\n",
       "      <td>6.0</td>\n",
       "      <td>32311</td>\n",
       "      <td>2005</td>\n",
       "      <td>799900</td>\n",
       "    </tr>\n",
       "    <tr>\n",
       "      <th>14</th>\n",
       "      <td>1128</td>\n",
       "      <td>2</td>\n",
       "      <td>1.0</td>\n",
       "      <td>32303</td>\n",
       "      <td>1955</td>\n",
       "      <td>89000</td>\n",
       "    </tr>\n",
       "    <tr>\n",
       "      <th>15</th>\n",
       "      <td>1381</td>\n",
       "      <td>3</td>\n",
       "      <td>2.0</td>\n",
       "      <td>32301</td>\n",
       "      <td>2006</td>\n",
       "      <td>143000</td>\n",
       "    </tr>\n",
       "    <tr>\n",
       "      <th>16</th>\n",
       "      <td>4242</td>\n",
       "      <td>4</td>\n",
       "      <td>5.0</td>\n",
       "      <td>32303</td>\n",
       "      <td>2007</td>\n",
       "      <td>569000</td>\n",
       "    </tr>\n",
       "    <tr>\n",
       "      <th>17</th>\n",
       "      <td>2533</td>\n",
       "      <td>3</td>\n",
       "      <td>2.0</td>\n",
       "      <td>32310</td>\n",
       "      <td>1991</td>\n",
       "      <td>365000</td>\n",
       "    </tr>\n",
       "    <tr>\n",
       "      <th>18</th>\n",
       "      <td>1158</td>\n",
       "      <td>3</td>\n",
       "      <td>2.0</td>\n",
       "      <td>32303</td>\n",
       "      <td>1993</td>\n",
       "      <td>155000</td>\n",
       "    </tr>\n",
       "    <tr>\n",
       "      <th>19</th>\n",
       "      <td>2497</td>\n",
       "      <td>4</td>\n",
       "      <td>4.0</td>\n",
       "      <td>32309</td>\n",
       "      <td>1990</td>\n",
       "      <td>289000</td>\n",
       "    </tr>\n",
       "    <tr>\n",
       "      <th>20</th>\n",
       "      <td>4010</td>\n",
       "      <td>5</td>\n",
       "      <td>3.0</td>\n",
       "      <td>32309</td>\n",
       "      <td>2002</td>\n",
       "      <td>549900</td>\n",
       "    </tr>\n",
       "  </tbody>\n",
       "</table>\n",
       "</div>"
      ],
      "text/plain": [
       "       Living Space (sq ft)  Beds  Baths    Zip  Year  List Price ($)\n",
       "Index                                                                \n",
       "1                      2222     3    3.5  32312  1981          250000\n",
       "2                      1628     3    2.0  32308  2009          185000\n",
       "3                      3824     5    4.0  32312  1954          399000\n",
       "4                      1137     3    2.0  32309  1993          150000\n",
       "5                      3560     6    4.0  32309  1973          315000\n",
       "6                      2893     4    3.0  32312  1994          699000\n",
       "7                      3631     4    3.0  32309  1996          649000\n",
       "8                      2483     4    3.0  32312  2016          399000\n",
       "9                      2400     4    4.0  32312  2002          613000\n",
       "10                     1997     3    3.0  32311  2006          295000\n",
       "11                     2097     4    3.0  32311  2016          290000\n",
       "12                     3200     5    4.0  32312  1964          465000\n",
       "13                     4892     5    6.0  32311  2005          799900\n",
       "14                     1128     2    1.0  32303  1955           89000\n",
       "15                     1381     3    2.0  32301  2006          143000\n",
       "16                     4242     4    5.0  32303  2007          569000\n",
       "17                     2533     3    2.0  32310  1991          365000\n",
       "18                     1158     3    2.0  32303  1993          155000\n",
       "19                     2497     4    4.0  32309  1990          289000\n",
       "20                     4010     5    3.0  32309  2002          549900"
      ]
     },
     "execution_count": 4,
     "metadata": {},
     "output_type": "execute_result"
    }
   ],
   "source": [
    "df"
   ]
  },
  {
   "cell_type": "code",
   "execution_count": 5,
   "metadata": {},
   "outputs": [
    {
     "data": {
      "text/plain": [
       "Beds\n",
       "2     89000.000000\n",
       "3    220428.571429\n",
       "4    501142.857143\n",
       "5    553450.000000\n",
       "6    315000.000000\n",
       "Name: List Price ($), dtype: float64"
      ]
     },
     "execution_count": 5,
     "metadata": {},
     "output_type": "execute_result"
    }
   ],
   "source": [
    "df.groupby('Beds')['List Price ($)'].mean()"
   ]
  },
  {
   "cell_type": "code",
   "execution_count": null,
   "metadata": {},
   "outputs": [],
   "source": []
  },
  {
   "cell_type": "code",
   "execution_count": 6,
   "metadata": {},
   "outputs": [
    {
     "data": {
      "text/plain": [
       "<AxesSubplot:xlabel='Living Space (sq ft)', ylabel='List Price ($)'>"
      ]
     },
     "execution_count": 6,
     "metadata": {},
     "output_type": "execute_result"
    },
    {
     "data": {
      "image/png": "[encoded data removed]",
      "text/plain": [
       "<Figure size 432x288 with 1 Axes>"
      ]
     },
     "metadata": {
      "needs_background": "light"
     },
     "output_type": "display_data"
    }
   ],
   "source": [
    "df.plot.scatter(x=\"Living Space (sq ft)\", y=\"List Price ($)\")"
   ]
  },
  {
   "cell_type": "markdown",
   "metadata": {},
   "source": [
    "# Scikit-learn"
   ]
  },
  {
   "cell_type": "markdown",
   "metadata": {},
   "source": [
    "## Example 1"
   ]
  },
  {
   "cell_type": "code",
   "execution_count": 8,
   "metadata": {},
   "outputs": [
    {
     "data": {
      "text/plain": [
       "array([[2222],\n",
       "       [1628],\n",
       "       [3824],\n",
       "       [1137],\n",
       "       [3560],\n",
       "       [2893],\n",
       "       [3631],\n",
       "       [2483],\n",
       "       [2400],\n",
       "       [1997],\n",
       "       [2097],\n",
       "       [3200],\n",
       "       [4892],\n",
       "       [1128],\n",
       "       [1381],\n",
       "       [4242],\n",
       "       [2533],\n",
       "       [1158],\n",
       "       [2497],\n",
       "       [4010]])"
      ]
     },
     "execution_count": 8,
     "metadata": {},
     "output_type": "execute_result"
    }
   ],
   "source": [
    "from sklearn import linear_model\n",
    "reg = linear_model.LinearRegression(fit_intercept=True)\n",
    "\n",
    "X = df[[\"Living Space (sq ft)\"]].values\n",
    "X"
   ]
  },
  {
   "cell_type": "code",
   "execution_count": 9,
   "metadata": {
    "scrolled": false
   },
   "outputs": [
    {
     "data": {
      "text/plain": [
       "array([250000, 185000, 399000, 150000, 315000, 699000, 649000, 399000,\n",
       "       613000, 295000, 290000, 465000, 799900,  89000, 143000, 569000,\n",
       "       365000, 155000, 289000, 549900])"
      ]
     },
     "execution_count": 9,
     "metadata": {},
     "output_type": "execute_result"
    }
   ],
   "source": [
    "y = df[\"List Price ($)\"].values\n",
    "y"
   ]
  },
  {
   "cell_type": "code",
   "execution_count": 10,
   "metadata": {},
   "outputs": [
    {
     "data": {
      "text/plain": [
       "array([151.97213992])"
      ]
     },
     "execution_count": 10,
     "metadata": {},
     "output_type": "execute_result"
    }
   ],
   "source": [
    "reg.fit(X, y)\n",
    "\n",
    "reg.coef_"
   ]
  },
  {
   "cell_type": "code",
   "execution_count": null,
   "metadata": {},
   "outputs": [],
   "source": []
  },
  {
   "cell_type": "code",
   "execution_count": 11,
   "metadata": {},
   "outputs": [
    {
     "name": "stdout",
     "output_type": "stream",
     "text": [
      "1128 4892\n"
     ]
    }
   ],
   "source": [
    "ls_min = df[\"Living Space (sq ft)\"].min()\n",
    "ls_max = df[\"Living Space (sq ft)\"].max()\n",
    "\n",
    "print(ls_min, ls_max)"
   ]
  },
  {
   "cell_type": "code",
   "execution_count": 12,
   "metadata": {},
   "outputs": [],
   "source": [
    "x_vals = [ [x] for x in list(range(1000, 5000)) ]\n"
   ]
  },
  {
   "cell_type": "code",
   "execution_count": 13,
   "metadata": {},
   "outputs": [
    {
     "data": {
      "text/plain": [
       "array([133347.04793344, 133499.02007336, 133650.99221329, ...,\n",
       "       740779.6912112 , 740931.66335112, 741083.63549105])"
      ]
     },
     "execution_count": 13,
     "metadata": {},
     "output_type": "execute_result"
    }
   ],
   "source": [
    "pred = reg.predict( x_vals )\n",
    "pred"
   ]
  },
  {
   "cell_type": "code",
   "execution_count": 14,
   "metadata": {},
   "outputs": [
    {
     "data": {
      "text/html": [
       "<div>\n",
       "<style scoped>\n",
       "    .dataframe tbody tr th:only-of-type {\n",
       "        vertical-align: middle;\n",
       "    }\n",
       "\n",
       "    .dataframe tbody tr th {\n",
       "        vertical-align: top;\n",
       "    }\n",
       "\n",
       "    .dataframe thead th {\n",
       "        text-align: right;\n",
       "    }\n",
       "</style>\n",
       "<table border=\"1\" class=\"dataframe\">\n",
       "  <thead>\n",
       "    <tr style=\"text-align: right;\">\n",
       "      <th></th>\n",
       "      <th>Living_space (sq ft)</th>\n",
       "      <th>predicted price</th>\n",
       "    </tr>\n",
       "  </thead>\n",
       "  <tbody>\n",
       "    <tr>\n",
       "      <th>0</th>\n",
       "      <td>1000</td>\n",
       "      <td>133347.047933</td>\n",
       "    </tr>\n",
       "    <tr>\n",
       "      <th>1</th>\n",
       "      <td>1001</td>\n",
       "      <td>133499.020073</td>\n",
       "    </tr>\n",
       "    <tr>\n",
       "      <th>2</th>\n",
       "      <td>1002</td>\n",
       "      <td>133650.992213</td>\n",
       "    </tr>\n",
       "    <tr>\n",
       "      <th>3</th>\n",
       "      <td>1003</td>\n",
       "      <td>133802.964353</td>\n",
       "    </tr>\n",
       "    <tr>\n",
       "      <th>4</th>\n",
       "      <td>1004</td>\n",
       "      <td>133954.936493</td>\n",
       "    </tr>\n",
       "    <tr>\n",
       "      <th>...</th>\n",
       "      <td>...</td>\n",
       "      <td>...</td>\n",
       "    </tr>\n",
       "    <tr>\n",
       "      <th>3995</th>\n",
       "      <td>4995</td>\n",
       "      <td>740475.746931</td>\n",
       "    </tr>\n",
       "    <tr>\n",
       "      <th>3996</th>\n",
       "      <td>4996</td>\n",
       "      <td>740627.719071</td>\n",
       "    </tr>\n",
       "    <tr>\n",
       "      <th>3997</th>\n",
       "      <td>4997</td>\n",
       "      <td>740779.691211</td>\n",
       "    </tr>\n",
       "    <tr>\n",
       "      <th>3998</th>\n",
       "      <td>4998</td>\n",
       "      <td>740931.663351</td>\n",
       "    </tr>\n",
       "    <tr>\n",
       "      <th>3999</th>\n",
       "      <td>4999</td>\n",
       "      <td>741083.635491</td>\n",
       "    </tr>\n",
       "  </tbody>\n",
       "</table>\n",
       "<p>4000 rows × 2 columns</p>\n",
       "</div>"
      ],
      "text/plain": [
       "      Living_space (sq ft)  predicted price\n",
       "0                     1000    133347.047933\n",
       "1                     1001    133499.020073\n",
       "2                     1002    133650.992213\n",
       "3                     1003    133802.964353\n",
       "4                     1004    133954.936493\n",
       "...                    ...              ...\n",
       "3995                  4995    740475.746931\n",
       "3996                  4996    740627.719071\n",
       "3997                  4997    740779.691211\n",
       "3998                  4998    740931.663351\n",
       "3999                  4999    741083.635491\n",
       "\n",
       "[4000 rows x 2 columns]"
      ]
     },
     "execution_count": 14,
     "metadata": {},
     "output_type": "execute_result"
    }
   ],
   "source": [
    "res_df = pd.DataFrame( data = list( zip([x[0] for x in x_vals], pred) ), columns=[\"Living_space (sq ft)\", \"predicted price\"] )\n",
    "res_df"
   ]
  },
  {
   "cell_type": "code",
   "execution_count": 15,
   "metadata": {},
   "outputs": [
    {
     "data": {
      "text/plain": [
       "<AxesSubplot:xlabel='Living_space (sq ft)'>"
      ]
     },
     "execution_count": 15,
     "metadata": {},
     "output_type": "execute_result"
    },
    {
     "data": {
      "image/png": "[encoded data removed]",
      "text/plain": [
       "<Figure size 432x288 with 1 Axes>"
      ]
     },
     "metadata": {
      "needs_background": "light"
     },
     "output_type": "display_data"
    }
   ],
   "source": [
    "res_df.plot(x=\"Living_space (sq ft)\", y=\"predicted price\")"
   ]
  },
  {
   "cell_type": "markdown",
   "metadata": {},
   "source": [
    "## Example 2"
   ]
  },
  {
   "cell_type": "code",
   "execution_count": 16,
   "metadata": {},
   "outputs": [
    {
     "name": "stdout",
     "output_type": "stream",
     "text": [
      "[   179.54393123 -38816.59840219] 57873.502186312806\n"
     ]
    }
   ],
   "source": [
    "from sklearn import linear_model\n",
    "reg = linear_model.LinearRegression(fit_intercept=True)\n",
    "\n",
    "X = df[[\"Living Space (sq ft)\", \"Beds\"]].values\n",
    "y = df[\"List Price ($)\"].values\n",
    "\n",
    "reg.fit(X, y)\n",
    "print(reg.coef_, reg.intercept_)"
   ]
  },
  {
   "cell_type": "code",
   "execution_count": null,
   "metadata": {},
   "outputs": [],
   "source": []
  }
 ],
 "metadata": {
  "kernelspec": {
   "display_name": "Python 3 (ipykernel)",
   "language": "python",
   "name": "python3"
  },
  "language_info": {
   "codemirror_mode": {
    "name": "ipython",
    "version": 3
   },
   "file_extension": ".py",
   "mimetype": "text/x-python",
   "name": "python",
   "nbconvert_exporter": "python",
   "pygments_lexer": "ipython3",
   "version": "3.8.12"
  }
 },
 "nbformat": 4,
 "nbformat_minor": 4
}
