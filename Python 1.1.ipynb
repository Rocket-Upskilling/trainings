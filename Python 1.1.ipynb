{
 "cells": [
  {
   "cell_type": "markdown",
   "id": "7a4c35f2",
   "metadata": {},
   "source": [
    "# Day 1 Challenges \n",
    "## Variables and Sequences\n",
    "\n",
    "1. Create a variable.\n",
    "    - Store a string and print it.\n",
    "    - Store a number and print it.\n",
    "2. Create a list of numbers.\n",
    "    - Practice selecting using `[]` each part of the list.\n",
    "3. Create a string.\n",
    "    - Practice selecting using `[]` each part of the string.\n",
    "4. Create a tuple of numbers.\n",
    "    - Practice selecting using `[]` each part of the tuple."
   ]
  },
  {
   "cell_type": "code",
   "execution_count": null,
   "id": "4e43d84a",
   "metadata": {},
   "outputs": [],
   "source": []
  }
 ],
 "metadata": {
  "kernelspec": {
   "display_name": "Python 3",
   "language": "python",
   "name": "python3"
  },
  "language_info": {
   "codemirror_mode": {
    "name": "ipython",
    "version": 3
   },
   "file_extension": ".py",
   "mimetype": "text/x-python",
   "name": "python",
   "nbconvert_exporter": "python",
   "pygments_lexer": "ipython3",
   "version": "3.9.4"
  }
 },
 "nbformat": 4,
 "nbformat_minor": 5
}
