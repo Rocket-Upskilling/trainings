{
 "cells": [
  {
   "cell_type": "markdown",
   "id": "c7c18f04",
   "metadata": {},
   "source": [
    "# Day 2 Challenges \n",
    "## Lists and Dictionaries"
   ]
  },
  {
   "cell_type": "markdown",
   "id": "550e7777",
   "metadata": {},
   "source": [
    "1. Create a lists of lists\n",
    "    - Practice selecting each list\n",
    "    - Practice selecting each element of each list\n",
    "    - Practice selecting elements with negative indexing\n",
    "    - Practice creating list slices with negative indexing\n",
    "    - Practice creating list slices with different steps"
   ]
  },
  {
   "cell_type": "markdown",
   "id": "5d61e5c9",
   "metadata": {},
   "source": [
    "2. Create a dictionary\n",
    "    - Practice selecting dictionary values using each key\n",
    "    - Practice appending two dictionaries"
   ]
  },
  {
   "cell_type": "markdown",
   "id": "bbc9cc1b",
   "metadata": {},
   "source": [
    "3. Practice appending to the nested lists you created."
   ]
  },
  {
   "cell_type": "markdown",
   "id": "b735255f",
   "metadata": {},
   "source": [
    "4. Practice removing elements from the nested lists."
   ]
  },
  {
   "cell_type": "markdown",
   "id": "684de8e2",
   "metadata": {},
   "source": [
    "5. What happens if you try to update a dictionary with something that is not a dictionary?"
   ]
  },
  {
   "cell_type": "markdown",
   "id": "e5c2aa6f",
   "metadata": {},
   "source": [
    "6. What happens if you try to sort a dictionary?"
   ]
  },
  {
   "cell_type": "markdown",
   "id": "0a531b84",
   "metadata": {},
   "source": [
    "7. (research needed) Try unpacking from a dictionary.\n",
    "    - Does it do what you expect?\n",
    "    - See if you can work out the correct way of doing this."
   ]
  }
 ],
 "metadata": {
  "kernelspec": {
   "display_name": "Python 3",
   "language": "python",
   "name": "python3"
  },
  "language_info": {
   "codemirror_mode": {
    "name": "ipython",
    "version": 3
   },
   "file_extension": ".py",
   "mimetype": "text/x-python",
   "name": "python",
   "nbconvert_exporter": "python",
   "pygments_lexer": "ipython3",
   "version": "3.9.4"
  }
 },
 "nbformat": 4,
 "nbformat_minor": 5
}
