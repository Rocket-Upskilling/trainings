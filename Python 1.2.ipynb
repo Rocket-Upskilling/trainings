{
 "cells": [
  {
   "cell_type": "markdown",
   "id": "c7c18f04",
   "metadata": {},
   "source": [
    "# Day 2 Challenges \n",
    "## Lists and Dictionaries\n",
    "\n",
    "1. Create a lists of lists\n",
    "    - Practice selecting each list\n",
    "    - Practice selecting each element of each list\n",
    "    - Practice selecting elements with negative indexing\n",
    "    - Practice creating list slices with negative indexing\n",
    "    - Practice creating list slices with different steps\n",
    "2. Create a dictionary\n",
    "    - Practice selecting dictionary values using each key\n",
    "    - Practice appending two dictionaries\n",
    "3. Practice appending to the nested lists you created.\n",
    "4. Practice removing elements from the nested lists.\n",
    "5. What happens if you try to update a dictionary with something that is not a dictionary?\n",
    "6. What happens if you try to sort a dictionary?\n",
    "7. (research needed) Try unpacking from a dictionary.\n",
    "    - Does it do what you expect?"
   ]
  }
 ],
 "metadata": {
  "kernelspec": {
   "display_name": "Python 3",
   "language": "python",
   "name": "python3"
  },
  "language_info": {
   "codemirror_mode": {
    "name": "ipython",
    "version": 3
   },
   "file_extension": ".py",
   "mimetype": "text/x-python",
   "name": "python",
   "nbconvert_exporter": "python",
   "pygments_lexer": "ipython3",
   "version": "3.9.4"
  }
 },
 "nbformat": 4,
 "nbformat_minor": 5
}
