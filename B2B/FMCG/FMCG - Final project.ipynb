{
 "cells": [
  {
   "cell_type": "code",
   "execution_count": 1,
   "metadata": {},
   "outputs": [],
   "source": [
    "import pandas as pd"
   ]
  },
  {
   "cell_type": "code",
   "execution_count": 2,
   "metadata": {},
   "outputs": [],
   "source": [
    "suppliers = pd.read_csv(\"https://www.dropbox.com/s/jjbacrux6bc1b4s/suppliers.csv?dl=1\")\n",
    "demand = pd.read_csv(\"https://www.dropbox.com/s/0yikq3pugq87vl9/demand_forecasts.csv?dl=1\")\n",
    "recipes = pd.read_csv(\"https://www.dropbox.com/s/az97voeh6i8x3i2/recipes.csv?dl=1\")"
   ]
  },
  {
   "cell_type": "code",
   "execution_count": 3,
   "metadata": {
    "scrolled": true
   },
   "outputs": [
    {
     "data": {
      "text/html": [
       "<div>\n",
       "<style scoped>\n",
       "    .dataframe tbody tr th:only-of-type {\n",
       "        vertical-align: middle;\n",
       "    }\n",
       "\n",
       "    .dataframe tbody tr th {\n",
       "        vertical-align: top;\n",
       "    }\n",
       "\n",
       "    .dataframe thead th {\n",
       "        text-align: right;\n",
       "    }\n",
       "</style>\n",
       "<table border=\"1\" class=\"dataframe\">\n",
       "  <thead>\n",
       "    <tr style=\"text-align: right;\">\n",
       "      <th></th>\n",
       "      <th>supp_id</th>\n",
       "      <th>ingredient_uuid</th>\n",
       "      <th>cost_per_unit</th>\n",
       "      <th>unit_name</th>\n",
       "      <th>country_of_origin</th>\n",
       "      <th>total_tax_per_unit</th>\n",
       "      <th>time_to_deliver</th>\n",
       "    </tr>\n",
       "  </thead>\n",
       "  <tbody>\n",
       "    <tr>\n",
       "      <th>0</th>\n",
       "      <td>megacorp</td>\n",
       "      <td>cocoa</td>\n",
       "      <td>2500.0</td>\n",
       "      <td>tonne</td>\n",
       "      <td>ghana</td>\n",
       "      <td>14</td>\n",
       "      <td>12</td>\n",
       "    </tr>\n",
       "    <tr>\n",
       "      <th>1</th>\n",
       "      <td>megacorp</td>\n",
       "      <td>milk_powder</td>\n",
       "      <td>3200.0</td>\n",
       "      <td>tonne</td>\n",
       "      <td>france</td>\n",
       "      <td>12</td>\n",
       "      <td>3</td>\n",
       "    </tr>\n",
       "    <tr>\n",
       "      <th>2</th>\n",
       "      <td>megacorp</td>\n",
       "      <td>hazelnut</td>\n",
       "      <td>1918.0</td>\n",
       "      <td>tonne</td>\n",
       "      <td>turkey</td>\n",
       "      <td>12</td>\n",
       "      <td>4</td>\n",
       "    </tr>\n",
       "    <tr>\n",
       "      <th>3</th>\n",
       "      <td>megacorp</td>\n",
       "      <td>sugar</td>\n",
       "      <td>457.0</td>\n",
       "      <td>tonne</td>\n",
       "      <td>brazil</td>\n",
       "      <td>5</td>\n",
       "      <td>9</td>\n",
       "    </tr>\n",
       "    <tr>\n",
       "      <th>4</th>\n",
       "      <td>megacorp</td>\n",
       "      <td>vanilla</td>\n",
       "      <td>237.0</td>\n",
       "      <td>tonne</td>\n",
       "      <td>china</td>\n",
       "      <td>3</td>\n",
       "      <td>10</td>\n",
       "    </tr>\n",
       "    <tr>\n",
       "      <th>5</th>\n",
       "      <td>omni_inc</td>\n",
       "      <td>cocoa</td>\n",
       "      <td>2400.0</td>\n",
       "      <td>tonne</td>\n",
       "      <td>cote d'ivoire</td>\n",
       "      <td>14</td>\n",
       "      <td>12</td>\n",
       "    </tr>\n",
       "    <tr>\n",
       "      <th>6</th>\n",
       "      <td>omni_inc</td>\n",
       "      <td>milk_powder</td>\n",
       "      <td>3120.0</td>\n",
       "      <td>tonne</td>\n",
       "      <td>switzerland</td>\n",
       "      <td>0</td>\n",
       "      <td>2</td>\n",
       "    </tr>\n",
       "    <tr>\n",
       "      <th>7</th>\n",
       "      <td>omni_inc</td>\n",
       "      <td>hazelnut</td>\n",
       "      <td>1925.0</td>\n",
       "      <td>tonne</td>\n",
       "      <td>italy</td>\n",
       "      <td>12</td>\n",
       "      <td>3</td>\n",
       "    </tr>\n",
       "    <tr>\n",
       "      <th>8</th>\n",
       "      <td>omni_inc</td>\n",
       "      <td>sugar</td>\n",
       "      <td>465.0</td>\n",
       "      <td>tonne</td>\n",
       "      <td>india</td>\n",
       "      <td>5</td>\n",
       "      <td>12</td>\n",
       "    </tr>\n",
       "    <tr>\n",
       "      <th>9</th>\n",
       "      <td>omni_inc</td>\n",
       "      <td>vanilla</td>\n",
       "      <td>201.0</td>\n",
       "      <td>tonne</td>\n",
       "      <td>indonesia</td>\n",
       "      <td>3</td>\n",
       "      <td>12</td>\n",
       "    </tr>\n",
       "    <tr>\n",
       "      <th>10</th>\n",
       "      <td>acme_inc</td>\n",
       "      <td>cocoa</td>\n",
       "      <td>2370.0</td>\n",
       "      <td>tonne</td>\n",
       "      <td>indonesia</td>\n",
       "      <td>14</td>\n",
       "      <td>12</td>\n",
       "    </tr>\n",
       "    <tr>\n",
       "      <th>11</th>\n",
       "      <td>acme_inc</td>\n",
       "      <td>milk_powder</td>\n",
       "      <td>3190.0</td>\n",
       "      <td>tonne</td>\n",
       "      <td>denmark</td>\n",
       "      <td>12</td>\n",
       "      <td>3</td>\n",
       "    </tr>\n",
       "    <tr>\n",
       "      <th>12</th>\n",
       "      <td>acme_inc</td>\n",
       "      <td>hazelnut</td>\n",
       "      <td>1817.0</td>\n",
       "      <td>tonne</td>\n",
       "      <td>usa</td>\n",
       "      <td>12</td>\n",
       "      <td>8</td>\n",
       "    </tr>\n",
       "    <tr>\n",
       "      <th>13</th>\n",
       "      <td>acme_inc</td>\n",
       "      <td>sugar</td>\n",
       "      <td>476.0</td>\n",
       "      <td>tonne</td>\n",
       "      <td>china</td>\n",
       "      <td>5</td>\n",
       "      <td>10</td>\n",
       "    </tr>\n",
       "    <tr>\n",
       "      <th>14</th>\n",
       "      <td>acme_inc</td>\n",
       "      <td>vanilla</td>\n",
       "      <td>185.0</td>\n",
       "      <td>tonne</td>\n",
       "      <td>madagascar</td>\n",
       "      <td>3</td>\n",
       "      <td>12</td>\n",
       "    </tr>\n",
       "  </tbody>\n",
       "</table>\n",
       "</div>"
      ],
      "text/plain": [
       "     supp_id ingredient_uuid  cost_per_unit unit_name country_of_origin  \\\n",
       "0   megacorp           cocoa         2500.0     tonne             ghana   \n",
       "1   megacorp     milk_powder         3200.0     tonne            france   \n",
       "2   megacorp        hazelnut         1918.0     tonne            turkey   \n",
       "3   megacorp           sugar          457.0     tonne            brazil   \n",
       "4   megacorp         vanilla          237.0     tonne             china   \n",
       "5   omni_inc           cocoa         2400.0     tonne     cote d'ivoire   \n",
       "6   omni_inc     milk_powder         3120.0     tonne       switzerland   \n",
       "7   omni_inc        hazelnut         1925.0     tonne             italy   \n",
       "8   omni_inc           sugar          465.0     tonne             india   \n",
       "9   omni_inc         vanilla          201.0     tonne         indonesia   \n",
       "10  acme_inc           cocoa         2370.0     tonne         indonesia   \n",
       "11  acme_inc     milk_powder         3190.0     tonne           denmark   \n",
       "12  acme_inc        hazelnut         1817.0     tonne               usa   \n",
       "13  acme_inc           sugar          476.0     tonne             china   \n",
       "14  acme_inc         vanilla          185.0     tonne        madagascar   \n",
       "\n",
       "    total_tax_per_unit  time_to_deliver  \n",
       "0                   14               12  \n",
       "1                   12                3  \n",
       "2                   12                4  \n",
       "3                    5                9  \n",
       "4                    3               10  \n",
       "5                   14               12  \n",
       "6                    0                2  \n",
       "7                   12                3  \n",
       "8                    5               12  \n",
       "9                    3               12  \n",
       "10                  14               12  \n",
       "11                  12                3  \n",
       "12                  12                8  \n",
       "13                   5               10  \n",
       "14                   3               12  "
      ]
     },
     "execution_count": 3,
     "metadata": {},
     "output_type": "execute_result"
    }
   ],
   "source": [
    "suppliers"
   ]
  },
  {
   "cell_type": "code",
   "execution_count": 4,
   "metadata": {
    "scrolled": true
   },
   "outputs": [
    {
     "data": {
      "text/html": [
       "<div>\n",
       "<style scoped>\n",
       "    .dataframe tbody tr th:only-of-type {\n",
       "        vertical-align: middle;\n",
       "    }\n",
       "\n",
       "    .dataframe tbody tr th {\n",
       "        vertical-align: top;\n",
       "    }\n",
       "\n",
       "    .dataframe thead th {\n",
       "        text-align: right;\n",
       "    }\n",
       "</style>\n",
       "<table border=\"1\" class=\"dataframe\">\n",
       "  <thead>\n",
       "    <tr style=\"text-align: right;\">\n",
       "      <th></th>\n",
       "      <th>rec_id</th>\n",
       "      <th>month</th>\n",
       "      <th>demand</th>\n",
       "    </tr>\n",
       "  </thead>\n",
       "  <tbody>\n",
       "    <tr>\n",
       "      <th>0</th>\n",
       "      <td>1</td>\n",
       "      <td>jan</td>\n",
       "      <td>16443</td>\n",
       "    </tr>\n",
       "    <tr>\n",
       "      <th>1</th>\n",
       "      <td>1</td>\n",
       "      <td>feb</td>\n",
       "      <td>18943</td>\n",
       "    </tr>\n",
       "    <tr>\n",
       "      <th>2</th>\n",
       "      <td>1</td>\n",
       "      <td>mar</td>\n",
       "      <td>19727</td>\n",
       "    </tr>\n",
       "    <tr>\n",
       "      <th>3</th>\n",
       "      <td>1</td>\n",
       "      <td>apr</td>\n",
       "      <td>10368</td>\n",
       "    </tr>\n",
       "    <tr>\n",
       "      <th>4</th>\n",
       "      <td>1</td>\n",
       "      <td>may</td>\n",
       "      <td>15125</td>\n",
       "    </tr>\n",
       "    <tr>\n",
       "      <th>5</th>\n",
       "      <td>1</td>\n",
       "      <td>jun</td>\n",
       "      <td>18413</td>\n",
       "    </tr>\n",
       "    <tr>\n",
       "      <th>6</th>\n",
       "      <td>1</td>\n",
       "      <td>jul</td>\n",
       "      <td>17442</td>\n",
       "    </tr>\n",
       "    <tr>\n",
       "      <th>7</th>\n",
       "      <td>1</td>\n",
       "      <td>aug</td>\n",
       "      <td>19986</td>\n",
       "    </tr>\n",
       "    <tr>\n",
       "      <th>8</th>\n",
       "      <td>1</td>\n",
       "      <td>sep</td>\n",
       "      <td>15302</td>\n",
       "    </tr>\n",
       "    <tr>\n",
       "      <th>9</th>\n",
       "      <td>1</td>\n",
       "      <td>oct</td>\n",
       "      <td>13637</td>\n",
       "    </tr>\n",
       "    <tr>\n",
       "      <th>10</th>\n",
       "      <td>1</td>\n",
       "      <td>nov</td>\n",
       "      <td>16877</td>\n",
       "    </tr>\n",
       "    <tr>\n",
       "      <th>11</th>\n",
       "      <td>1</td>\n",
       "      <td>dec</td>\n",
       "      <td>15290</td>\n",
       "    </tr>\n",
       "    <tr>\n",
       "      <th>12</th>\n",
       "      <td>2</td>\n",
       "      <td>jan</td>\n",
       "      <td>14779</td>\n",
       "    </tr>\n",
       "    <tr>\n",
       "      <th>13</th>\n",
       "      <td>2</td>\n",
       "      <td>feb</td>\n",
       "      <td>14568</td>\n",
       "    </tr>\n",
       "    <tr>\n",
       "      <th>14</th>\n",
       "      <td>2</td>\n",
       "      <td>mar</td>\n",
       "      <td>11552</td>\n",
       "    </tr>\n",
       "    <tr>\n",
       "      <th>15</th>\n",
       "      <td>2</td>\n",
       "      <td>apr</td>\n",
       "      <td>10552</td>\n",
       "    </tr>\n",
       "    <tr>\n",
       "      <th>16</th>\n",
       "      <td>2</td>\n",
       "      <td>may</td>\n",
       "      <td>13765</td>\n",
       "    </tr>\n",
       "    <tr>\n",
       "      <th>17</th>\n",
       "      <td>2</td>\n",
       "      <td>jun</td>\n",
       "      <td>14758</td>\n",
       "    </tr>\n",
       "    <tr>\n",
       "      <th>18</th>\n",
       "      <td>2</td>\n",
       "      <td>jul</td>\n",
       "      <td>11285</td>\n",
       "    </tr>\n",
       "    <tr>\n",
       "      <th>19</th>\n",
       "      <td>2</td>\n",
       "      <td>aug</td>\n",
       "      <td>10799</td>\n",
       "    </tr>\n",
       "    <tr>\n",
       "      <th>20</th>\n",
       "      <td>2</td>\n",
       "      <td>sep</td>\n",
       "      <td>13370</td>\n",
       "    </tr>\n",
       "    <tr>\n",
       "      <th>21</th>\n",
       "      <td>2</td>\n",
       "      <td>oct</td>\n",
       "      <td>13686</td>\n",
       "    </tr>\n",
       "    <tr>\n",
       "      <th>22</th>\n",
       "      <td>2</td>\n",
       "      <td>nov</td>\n",
       "      <td>11628</td>\n",
       "    </tr>\n",
       "    <tr>\n",
       "      <th>23</th>\n",
       "      <td>2</td>\n",
       "      <td>dec</td>\n",
       "      <td>11724</td>\n",
       "    </tr>\n",
       "    <tr>\n",
       "      <th>24</th>\n",
       "      <td>3</td>\n",
       "      <td>jan</td>\n",
       "      <td>12356</td>\n",
       "    </tr>\n",
       "    <tr>\n",
       "      <th>25</th>\n",
       "      <td>3</td>\n",
       "      <td>feb</td>\n",
       "      <td>14191</td>\n",
       "    </tr>\n",
       "    <tr>\n",
       "      <th>26</th>\n",
       "      <td>3</td>\n",
       "      <td>mar</td>\n",
       "      <td>10613</td>\n",
       "    </tr>\n",
       "    <tr>\n",
       "      <th>27</th>\n",
       "      <td>3</td>\n",
       "      <td>apr</td>\n",
       "      <td>10261</td>\n",
       "    </tr>\n",
       "    <tr>\n",
       "      <th>28</th>\n",
       "      <td>3</td>\n",
       "      <td>may</td>\n",
       "      <td>10111</td>\n",
       "    </tr>\n",
       "    <tr>\n",
       "      <th>29</th>\n",
       "      <td>3</td>\n",
       "      <td>jun</td>\n",
       "      <td>16552</td>\n",
       "    </tr>\n",
       "    <tr>\n",
       "      <th>30</th>\n",
       "      <td>3</td>\n",
       "      <td>jul</td>\n",
       "      <td>12428</td>\n",
       "    </tr>\n",
       "    <tr>\n",
       "      <th>31</th>\n",
       "      <td>3</td>\n",
       "      <td>aug</td>\n",
       "      <td>19101</td>\n",
       "    </tr>\n",
       "    <tr>\n",
       "      <th>32</th>\n",
       "      <td>3</td>\n",
       "      <td>sep</td>\n",
       "      <td>10577</td>\n",
       "    </tr>\n",
       "    <tr>\n",
       "      <th>33</th>\n",
       "      <td>3</td>\n",
       "      <td>oct</td>\n",
       "      <td>10309</td>\n",
       "    </tr>\n",
       "    <tr>\n",
       "      <th>34</th>\n",
       "      <td>3</td>\n",
       "      <td>nov</td>\n",
       "      <td>15003</td>\n",
       "    </tr>\n",
       "    <tr>\n",
       "      <th>35</th>\n",
       "      <td>3</td>\n",
       "      <td>dec</td>\n",
       "      <td>13065</td>\n",
       "    </tr>\n",
       "  </tbody>\n",
       "</table>\n",
       "</div>"
      ],
      "text/plain": [
       "    rec_id month  demand\n",
       "0        1   jan   16443\n",
       "1        1   feb   18943\n",
       "2        1   mar   19727\n",
       "3        1   apr   10368\n",
       "4        1   may   15125\n",
       "5        1   jun   18413\n",
       "6        1   jul   17442\n",
       "7        1   aug   19986\n",
       "8        1   sep   15302\n",
       "9        1   oct   13637\n",
       "10       1   nov   16877\n",
       "11       1   dec   15290\n",
       "12       2   jan   14779\n",
       "13       2   feb   14568\n",
       "14       2   mar   11552\n",
       "15       2   apr   10552\n",
       "16       2   may   13765\n",
       "17       2   jun   14758\n",
       "18       2   jul   11285\n",
       "19       2   aug   10799\n",
       "20       2   sep   13370\n",
       "21       2   oct   13686\n",
       "22       2   nov   11628\n",
       "23       2   dec   11724\n",
       "24       3   jan   12356\n",
       "25       3   feb   14191\n",
       "26       3   mar   10613\n",
       "27       3   apr   10261\n",
       "28       3   may   10111\n",
       "29       3   jun   16552\n",
       "30       3   jul   12428\n",
       "31       3   aug   19101\n",
       "32       3   sep   10577\n",
       "33       3   oct   10309\n",
       "34       3   nov   15003\n",
       "35       3   dec   13065"
      ]
     },
     "execution_count": 4,
     "metadata": {},
     "output_type": "execute_result"
    }
   ],
   "source": [
    "months = [\"jan\", \"feb\", \"mar\", \"apr\", \"may\", \"jun\", \n",
    "          \"jul\", \"aug\", \"sep\", \"oct\", \"nov\", \"dec\"]\n",
    "\n",
    "demand['month'] = pd.Categorical(demand['month'], categories=months, ordered=True)\n",
    "demand\n"
   ]
  },
  {
   "cell_type": "code",
   "execution_count": 5,
   "metadata": {},
   "outputs": [
    {
     "data": {
      "text/html": [
       "<div>\n",
       "<style scoped>\n",
       "    .dataframe tbody tr th:only-of-type {\n",
       "        vertical-align: middle;\n",
       "    }\n",
       "\n",
       "    .dataframe tbody tr th {\n",
       "        vertical-align: top;\n",
       "    }\n",
       "\n",
       "    .dataframe thead th {\n",
       "        text-align: right;\n",
       "    }\n",
       "</style>\n",
       "<table border=\"1\" class=\"dataframe\">\n",
       "  <thead>\n",
       "    <tr style=\"text-align: right;\">\n",
       "      <th></th>\n",
       "      <th>rec_id</th>\n",
       "      <th>ingredient_uuid</th>\n",
       "      <th>cost_to_process</th>\n",
       "      <th>time_to_process</th>\n",
       "      <th>qty</th>\n",
       "    </tr>\n",
       "  </thead>\n",
       "  <tbody>\n",
       "    <tr>\n",
       "      <th>0</th>\n",
       "      <td>1</td>\n",
       "      <td>cocoa</td>\n",
       "      <td>0.20</td>\n",
       "      <td>120</td>\n",
       "      <td>13</td>\n",
       "    </tr>\n",
       "    <tr>\n",
       "      <th>1</th>\n",
       "      <td>1</td>\n",
       "      <td>milk_powder</td>\n",
       "      <td>0.03</td>\n",
       "      <td>110</td>\n",
       "      <td>12</td>\n",
       "    </tr>\n",
       "    <tr>\n",
       "      <th>2</th>\n",
       "      <td>1</td>\n",
       "      <td>hazelnut</td>\n",
       "      <td>0.08</td>\n",
       "      <td>45</td>\n",
       "      <td>4</td>\n",
       "    </tr>\n",
       "    <tr>\n",
       "      <th>3</th>\n",
       "      <td>1</td>\n",
       "      <td>sugar</td>\n",
       "      <td>0.40</td>\n",
       "      <td>80</td>\n",
       "      <td>5</td>\n",
       "    </tr>\n",
       "    <tr>\n",
       "      <th>4</th>\n",
       "      <td>2</td>\n",
       "      <td>vanilla</td>\n",
       "      <td>0.10</td>\n",
       "      <td>34</td>\n",
       "      <td>3</td>\n",
       "    </tr>\n",
       "    <tr>\n",
       "      <th>5</th>\n",
       "      <td>2</td>\n",
       "      <td>cocoa</td>\n",
       "      <td>0.20</td>\n",
       "      <td>120</td>\n",
       "      <td>12</td>\n",
       "    </tr>\n",
       "    <tr>\n",
       "      <th>6</th>\n",
       "      <td>2</td>\n",
       "      <td>milk_powder</td>\n",
       "      <td>0.03</td>\n",
       "      <td>110</td>\n",
       "      <td>11</td>\n",
       "    </tr>\n",
       "    <tr>\n",
       "      <th>7</th>\n",
       "      <td>2</td>\n",
       "      <td>sugar</td>\n",
       "      <td>0.40</td>\n",
       "      <td>80</td>\n",
       "      <td>4</td>\n",
       "    </tr>\n",
       "    <tr>\n",
       "      <th>8</th>\n",
       "      <td>3</td>\n",
       "      <td>hazelnut</td>\n",
       "      <td>0.08</td>\n",
       "      <td>45</td>\n",
       "      <td>3</td>\n",
       "    </tr>\n",
       "    <tr>\n",
       "      <th>9</th>\n",
       "      <td>3</td>\n",
       "      <td>vanilla</td>\n",
       "      <td>0.10</td>\n",
       "      <td>34</td>\n",
       "      <td>2</td>\n",
       "    </tr>\n",
       "    <tr>\n",
       "      <th>10</th>\n",
       "      <td>3</td>\n",
       "      <td>cocoa</td>\n",
       "      <td>0.20</td>\n",
       "      <td>120</td>\n",
       "      <td>12</td>\n",
       "    </tr>\n",
       "    <tr>\n",
       "      <th>11</th>\n",
       "      <td>3</td>\n",
       "      <td>milk_powder</td>\n",
       "      <td>0.03</td>\n",
       "      <td>11</td>\n",
       "      <td>12</td>\n",
       "    </tr>\n",
       "    <tr>\n",
       "      <th>12</th>\n",
       "      <td>3</td>\n",
       "      <td>sugar</td>\n",
       "      <td>0.40</td>\n",
       "      <td>80</td>\n",
       "      <td>4</td>\n",
       "    </tr>\n",
       "  </tbody>\n",
       "</table>\n",
       "</div>"
      ],
      "text/plain": [
       "    rec_id ingredient_uuid  cost_to_process  time_to_process  qty\n",
       "0        1           cocoa             0.20              120   13\n",
       "1        1     milk_powder             0.03              110   12\n",
       "2        1        hazelnut             0.08               45    4\n",
       "3        1           sugar             0.40               80    5\n",
       "4        2         vanilla             0.10               34    3\n",
       "5        2           cocoa             0.20              120   12\n",
       "6        2     milk_powder             0.03              110   11\n",
       "7        2           sugar             0.40               80    4\n",
       "8        3        hazelnut             0.08               45    3\n",
       "9        3         vanilla             0.10               34    2\n",
       "10       3           cocoa             0.20              120   12\n",
       "11       3     milk_powder             0.03               11   12\n",
       "12       3           sugar             0.40               80    4"
      ]
     },
     "execution_count": 5,
     "metadata": {},
     "output_type": "execute_result"
    }
   ],
   "source": [
    "recipes"
   ]
  },
  {
   "cell_type": "code",
   "execution_count": 6,
   "metadata": {},
   "outputs": [
    {
     "data": {
      "text/plain": [
       "<matplotlib.axes._subplots.AxesSubplot at 0x7fdd044be590>"
      ]
     },
     "execution_count": 6,
     "metadata": {},
     "output_type": "execute_result"
    },
    {
     "data": {
      "image/png": "[encoded data removed]",
      "text/plain": [
       "<Figure size 432x288 with 1 Axes>"
      ]
     },
     "metadata": {
      "needs_background": "light"
     },
     "output_type": "display_data"
    }
   ],
   "source": [
    "recipes.plot.scatter(y='ingredient_uuid', x='time_to_process')"
   ]
  },
  {
   "cell_type": "code",
   "execution_count": 7,
   "metadata": {},
   "outputs": [
    {
     "data": {
      "text/plain": [
       "<matplotlib.axes._subplots.AxesSubplot at 0x7fdcfc421b90>"
      ]
     },
     "execution_count": 7,
     "metadata": {},
     "output_type": "execute_result"
    },
    {
     "data": {
      "image/png": "[encoded data removed]",
      "text/plain": [
       "<Figure size 720x720 with 1 Axes>"
      ]
     },
     "metadata": {
      "needs_background": "light"
     },
     "output_type": "display_data"
    }
   ],
   "source": [
    "suppliers.plot(x=\"supp_id\", y=\"cost_per_unit\", rot=45, figsize=(10,10))"
   ]
  },
  {
   "cell_type": "code",
   "execution_count": 8,
   "metadata": {},
   "outputs": [
    {
     "data": {
      "text/plain": [
       "<matplotlib.axes._subplots.AxesSubplot at 0x7fdcfc2f9590>"
      ]
     },
     "execution_count": 8,
     "metadata": {},
     "output_type": "execute_result"
    },
    {
     "data": {
      "image/png": "[encoded data removed]",
      "text/plain": [
       "<Figure size 720x720 with 1 Axes>"
      ]
     },
     "metadata": {},
     "output_type": "display_data"
    }
   ],
   "source": [
    "#nb pie needs only a \"series\", i.e. one col\n",
    "\n",
    "recipes['time_to_process'].plot.pie( labels = recipes['ingredient_uuid'], figsize=(10,10) )"
   ]
  },
  {
   "cell_type": "code",
   "execution_count": 9,
   "metadata": {},
   "outputs": [
    {
     "data": {
      "text/html": [
       "<div>\n",
       "<style scoped>\n",
       "    .dataframe tbody tr th:only-of-type {\n",
       "        vertical-align: middle;\n",
       "    }\n",
       "\n",
       "    .dataframe tbody tr th {\n",
       "        vertical-align: top;\n",
       "    }\n",
       "\n",
       "    .dataframe thead th {\n",
       "        text-align: right;\n",
       "    }\n",
       "</style>\n",
       "<table border=\"1\" class=\"dataframe\">\n",
       "  <thead>\n",
       "    <tr style=\"text-align: right;\">\n",
       "      <th></th>\n",
       "      <th></th>\n",
       "      <th>cost_per_unit</th>\n",
       "      <th>unit_name</th>\n",
       "      <th>country_of_origin</th>\n",
       "      <th>total_tax_per_unit</th>\n",
       "      <th>time_to_deliver</th>\n",
       "    </tr>\n",
       "    <tr>\n",
       "      <th>supp_id</th>\n",
       "      <th>ingredient_uuid</th>\n",
       "      <th></th>\n",
       "      <th></th>\n",
       "      <th></th>\n",
       "      <th></th>\n",
       "      <th></th>\n",
       "    </tr>\n",
       "  </thead>\n",
       "  <tbody>\n",
       "    <tr>\n",
       "      <th rowspan=\"5\" valign=\"top\">megacorp</th>\n",
       "      <th>cocoa</th>\n",
       "      <td>2500.0</td>\n",
       "      <td>tonne</td>\n",
       "      <td>ghana</td>\n",
       "      <td>14</td>\n",
       "      <td>12</td>\n",
       "    </tr>\n",
       "    <tr>\n",
       "      <th>milk_powder</th>\n",
       "      <td>3200.0</td>\n",
       "      <td>tonne</td>\n",
       "      <td>france</td>\n",
       "      <td>12</td>\n",
       "      <td>3</td>\n",
       "    </tr>\n",
       "    <tr>\n",
       "      <th>hazelnut</th>\n",
       "      <td>1918.0</td>\n",
       "      <td>tonne</td>\n",
       "      <td>turkey</td>\n",
       "      <td>12</td>\n",
       "      <td>4</td>\n",
       "    </tr>\n",
       "    <tr>\n",
       "      <th>sugar</th>\n",
       "      <td>457.0</td>\n",
       "      <td>tonne</td>\n",
       "      <td>brazil</td>\n",
       "      <td>5</td>\n",
       "      <td>9</td>\n",
       "    </tr>\n",
       "    <tr>\n",
       "      <th>vanilla</th>\n",
       "      <td>237.0</td>\n",
       "      <td>tonne</td>\n",
       "      <td>china</td>\n",
       "      <td>3</td>\n",
       "      <td>10</td>\n",
       "    </tr>\n",
       "    <tr>\n",
       "      <th rowspan=\"5\" valign=\"top\">omni_inc</th>\n",
       "      <th>cocoa</th>\n",
       "      <td>2400.0</td>\n",
       "      <td>tonne</td>\n",
       "      <td>cote d'ivoire</td>\n",
       "      <td>14</td>\n",
       "      <td>12</td>\n",
       "    </tr>\n",
       "    <tr>\n",
       "      <th>milk_powder</th>\n",
       "      <td>3120.0</td>\n",
       "      <td>tonne</td>\n",
       "      <td>switzerland</td>\n",
       "      <td>0</td>\n",
       "      <td>2</td>\n",
       "    </tr>\n",
       "    <tr>\n",
       "      <th>hazelnut</th>\n",
       "      <td>1925.0</td>\n",
       "      <td>tonne</td>\n",
       "      <td>italy</td>\n",
       "      <td>12</td>\n",
       "      <td>3</td>\n",
       "    </tr>\n",
       "    <tr>\n",
       "      <th>sugar</th>\n",
       "      <td>465.0</td>\n",
       "      <td>tonne</td>\n",
       "      <td>india</td>\n",
       "      <td>5</td>\n",
       "      <td>12</td>\n",
       "    </tr>\n",
       "    <tr>\n",
       "      <th>vanilla</th>\n",
       "      <td>201.0</td>\n",
       "      <td>tonne</td>\n",
       "      <td>indonesia</td>\n",
       "      <td>3</td>\n",
       "      <td>12</td>\n",
       "    </tr>\n",
       "    <tr>\n",
       "      <th rowspan=\"5\" valign=\"top\">acme_inc</th>\n",
       "      <th>cocoa</th>\n",
       "      <td>2370.0</td>\n",
       "      <td>tonne</td>\n",
       "      <td>indonesia</td>\n",
       "      <td>14</td>\n",
       "      <td>12</td>\n",
       "    </tr>\n",
       "    <tr>\n",
       "      <th>milk_powder</th>\n",
       "      <td>3190.0</td>\n",
       "      <td>tonne</td>\n",
       "      <td>denmark</td>\n",
       "      <td>12</td>\n",
       "      <td>3</td>\n",
       "    </tr>\n",
       "    <tr>\n",
       "      <th>hazelnut</th>\n",
       "      <td>1817.0</td>\n",
       "      <td>tonne</td>\n",
       "      <td>usa</td>\n",
       "      <td>12</td>\n",
       "      <td>8</td>\n",
       "    </tr>\n",
       "    <tr>\n",
       "      <th>sugar</th>\n",
       "      <td>476.0</td>\n",
       "      <td>tonne</td>\n",
       "      <td>china</td>\n",
       "      <td>5</td>\n",
       "      <td>10</td>\n",
       "    </tr>\n",
       "    <tr>\n",
       "      <th>vanilla</th>\n",
       "      <td>185.0</td>\n",
       "      <td>tonne</td>\n",
       "      <td>madagascar</td>\n",
       "      <td>3</td>\n",
       "      <td>12</td>\n",
       "    </tr>\n",
       "  </tbody>\n",
       "</table>\n",
       "</div>"
      ],
      "text/plain": [
       "                          cost_per_unit unit_name country_of_origin  \\\n",
       "supp_id  ingredient_uuid                                              \n",
       "megacorp cocoa                   2500.0     tonne             ghana   \n",
       "         milk_powder             3200.0     tonne            france   \n",
       "         hazelnut                1918.0     tonne            turkey   \n",
       "         sugar                    457.0     tonne            brazil   \n",
       "         vanilla                  237.0     tonne             china   \n",
       "omni_inc cocoa                   2400.0     tonne     cote d'ivoire   \n",
       "         milk_powder             3120.0     tonne       switzerland   \n",
       "         hazelnut                1925.0     tonne             italy   \n",
       "         sugar                    465.0     tonne             india   \n",
       "         vanilla                  201.0     tonne         indonesia   \n",
       "acme_inc cocoa                   2370.0     tonne         indonesia   \n",
       "         milk_powder             3190.0     tonne           denmark   \n",
       "         hazelnut                1817.0     tonne               usa   \n",
       "         sugar                    476.0     tonne             china   \n",
       "         vanilla                  185.0     tonne        madagascar   \n",
       "\n",
       "                          total_tax_per_unit  time_to_deliver  \n",
       "supp_id  ingredient_uuid                                       \n",
       "megacorp cocoa                            14               12  \n",
       "         milk_powder                      12                3  \n",
       "         hazelnut                         12                4  \n",
       "         sugar                             5                9  \n",
       "         vanilla                           3               10  \n",
       "omni_inc cocoa                            14               12  \n",
       "         milk_powder                       0                2  \n",
       "         hazelnut                         12                3  \n",
       "         sugar                             5               12  \n",
       "         vanilla                           3               12  \n",
       "acme_inc cocoa                            14               12  \n",
       "         milk_powder                      12                3  \n",
       "         hazelnut                         12                8  \n",
       "         sugar                             5               10  \n",
       "         vanilla                           3               12  "
      ]
     },
     "execution_count": 9,
     "metadata": {},
     "output_type": "execute_result"
    }
   ],
   "source": [
    "suppliers.set_index(['supp_id', \"ingredient_uuid\"])"
   ]
  },
  {
   "cell_type": "code",
   "execution_count": 10,
   "metadata": {},
   "outputs": [
    {
     "data": {
      "text/plain": [
       "<matplotlib.axes._subplots.AxesSubplot at 0x7fdcfc31e090>"
      ]
     },
     "execution_count": 10,
     "metadata": {},
     "output_type": "execute_result"
    },
    {
     "data": {
      "image/png": "[encoded data removed]",
      "text/plain": [
       "<Figure size 720x720 with 1 Axes>"
      ]
     },
     "metadata": {
      "needs_background": "light"
     },
     "output_type": "display_data"
    }
   ],
   "source": [
    "#if you don't specify x, you'll get the index values\n",
    "suppliers.set_index(['supp_id', \"ingredient_uuid\"]).plot.bar(y=\"cost_per_unit\", rot=90, figsize=(10,10))"
   ]
  },
  {
   "cell_type": "code",
   "execution_count": 11,
   "metadata": {},
   "outputs": [
    {
     "data": {
      "text/plain": [
       "<matplotlib.axes._subplots.AxesSubplot at 0x7fdcfc1b5dd0>"
      ]
     },
     "execution_count": 11,
     "metadata": {},
     "output_type": "execute_result"
    },
    {
     "data": {
      "image/png": "[encoded data removed]",
      "text/plain": [
       "<Figure size 432x288 with 1 Axes>"
      ]
     },
     "metadata": {
      "needs_background": "light"
     },
     "output_type": "display_data"
    }
   ],
   "source": [
    "demand.groupby([\"month\", \"rec_id\"]).sum().plot.bar()"
   ]
  },
  {
   "cell_type": "code",
   "execution_count": 12,
   "metadata": {
    "scrolled": true
   },
   "outputs": [
    {
     "data": {
      "text/html": [
       "<div>\n",
       "<style scoped>\n",
       "    .dataframe tbody tr th:only-of-type {\n",
       "        vertical-align: middle;\n",
       "    }\n",
       "\n",
       "    .dataframe tbody tr th {\n",
       "        vertical-align: top;\n",
       "    }\n",
       "\n",
       "    .dataframe thead th {\n",
       "        text-align: right;\n",
       "    }\n",
       "</style>\n",
       "<table border=\"1\" class=\"dataframe\">\n",
       "  <thead>\n",
       "    <tr style=\"text-align: right;\">\n",
       "      <th></th>\n",
       "      <th></th>\n",
       "      <th>demand</th>\n",
       "    </tr>\n",
       "    <tr>\n",
       "      <th>month</th>\n",
       "      <th>rec_id</th>\n",
       "      <th></th>\n",
       "    </tr>\n",
       "  </thead>\n",
       "  <tbody>\n",
       "    <tr>\n",
       "      <th rowspan=\"3\" valign=\"top\">jan</th>\n",
       "      <th>1</th>\n",
       "      <td>16443</td>\n",
       "    </tr>\n",
       "    <tr>\n",
       "      <th>2</th>\n",
       "      <td>14779</td>\n",
       "    </tr>\n",
       "    <tr>\n",
       "      <th>3</th>\n",
       "      <td>12356</td>\n",
       "    </tr>\n",
       "    <tr>\n",
       "      <th rowspan=\"3\" valign=\"top\">feb</th>\n",
       "      <th>1</th>\n",
       "      <td>18943</td>\n",
       "    </tr>\n",
       "    <tr>\n",
       "      <th>2</th>\n",
       "      <td>14568</td>\n",
       "    </tr>\n",
       "    <tr>\n",
       "      <th>3</th>\n",
       "      <td>14191</td>\n",
       "    </tr>\n",
       "    <tr>\n",
       "      <th rowspan=\"3\" valign=\"top\">mar</th>\n",
       "      <th>1</th>\n",
       "      <td>19727</td>\n",
       "    </tr>\n",
       "    <tr>\n",
       "      <th>2</th>\n",
       "      <td>11552</td>\n",
       "    </tr>\n",
       "    <tr>\n",
       "      <th>3</th>\n",
       "      <td>10613</td>\n",
       "    </tr>\n",
       "    <tr>\n",
       "      <th rowspan=\"3\" valign=\"top\">apr</th>\n",
       "      <th>1</th>\n",
       "      <td>10368</td>\n",
       "    </tr>\n",
       "    <tr>\n",
       "      <th>2</th>\n",
       "      <td>10552</td>\n",
       "    </tr>\n",
       "    <tr>\n",
       "      <th>3</th>\n",
       "      <td>10261</td>\n",
       "    </tr>\n",
       "    <tr>\n",
       "      <th rowspan=\"3\" valign=\"top\">may</th>\n",
       "      <th>1</th>\n",
       "      <td>15125</td>\n",
       "    </tr>\n",
       "    <tr>\n",
       "      <th>2</th>\n",
       "      <td>13765</td>\n",
       "    </tr>\n",
       "    <tr>\n",
       "      <th>3</th>\n",
       "      <td>10111</td>\n",
       "    </tr>\n",
       "    <tr>\n",
       "      <th rowspan=\"3\" valign=\"top\">jun</th>\n",
       "      <th>1</th>\n",
       "      <td>18413</td>\n",
       "    </tr>\n",
       "    <tr>\n",
       "      <th>2</th>\n",
       "      <td>14758</td>\n",
       "    </tr>\n",
       "    <tr>\n",
       "      <th>3</th>\n",
       "      <td>16552</td>\n",
       "    </tr>\n",
       "    <tr>\n",
       "      <th rowspan=\"3\" valign=\"top\">jul</th>\n",
       "      <th>1</th>\n",
       "      <td>17442</td>\n",
       "    </tr>\n",
       "    <tr>\n",
       "      <th>2</th>\n",
       "      <td>11285</td>\n",
       "    </tr>\n",
       "    <tr>\n",
       "      <th>3</th>\n",
       "      <td>12428</td>\n",
       "    </tr>\n",
       "    <tr>\n",
       "      <th rowspan=\"3\" valign=\"top\">aug</th>\n",
       "      <th>1</th>\n",
       "      <td>19986</td>\n",
       "    </tr>\n",
       "    <tr>\n",
       "      <th>2</th>\n",
       "      <td>10799</td>\n",
       "    </tr>\n",
       "    <tr>\n",
       "      <th>3</th>\n",
       "      <td>19101</td>\n",
       "    </tr>\n",
       "    <tr>\n",
       "      <th rowspan=\"3\" valign=\"top\">sep</th>\n",
       "      <th>1</th>\n",
       "      <td>15302</td>\n",
       "    </tr>\n",
       "    <tr>\n",
       "      <th>2</th>\n",
       "      <td>13370</td>\n",
       "    </tr>\n",
       "    <tr>\n",
       "      <th>3</th>\n",
       "      <td>10577</td>\n",
       "    </tr>\n",
       "    <tr>\n",
       "      <th rowspan=\"3\" valign=\"top\">oct</th>\n",
       "      <th>1</th>\n",
       "      <td>13637</td>\n",
       "    </tr>\n",
       "    <tr>\n",
       "      <th>2</th>\n",
       "      <td>13686</td>\n",
       "    </tr>\n",
       "    <tr>\n",
       "      <th>3</th>\n",
       "      <td>10309</td>\n",
       "    </tr>\n",
       "    <tr>\n",
       "      <th rowspan=\"3\" valign=\"top\">nov</th>\n",
       "      <th>1</th>\n",
       "      <td>16877</td>\n",
       "    </tr>\n",
       "    <tr>\n",
       "      <th>2</th>\n",
       "      <td>11628</td>\n",
       "    </tr>\n",
       "    <tr>\n",
       "      <th>3</th>\n",
       "      <td>15003</td>\n",
       "    </tr>\n",
       "    <tr>\n",
       "      <th rowspan=\"3\" valign=\"top\">dec</th>\n",
       "      <th>1</th>\n",
       "      <td>15290</td>\n",
       "    </tr>\n",
       "    <tr>\n",
       "      <th>2</th>\n",
       "      <td>11724</td>\n",
       "    </tr>\n",
       "    <tr>\n",
       "      <th>3</th>\n",
       "      <td>13065</td>\n",
       "    </tr>\n",
       "  </tbody>\n",
       "</table>\n",
       "</div>"
      ],
      "text/plain": [
       "              demand\n",
       "month rec_id        \n",
       "jan   1        16443\n",
       "      2        14779\n",
       "      3        12356\n",
       "feb   1        18943\n",
       "      2        14568\n",
       "      3        14191\n",
       "mar   1        19727\n",
       "      2        11552\n",
       "      3        10613\n",
       "apr   1        10368\n",
       "      2        10552\n",
       "      3        10261\n",
       "may   1        15125\n",
       "      2        13765\n",
       "      3        10111\n",
       "jun   1        18413\n",
       "      2        14758\n",
       "      3        16552\n",
       "jul   1        17442\n",
       "      2        11285\n",
       "      3        12428\n",
       "aug   1        19986\n",
       "      2        10799\n",
       "      3        19101\n",
       "sep   1        15302\n",
       "      2        13370\n",
       "      3        10577\n",
       "oct   1        13637\n",
       "      2        13686\n",
       "      3        10309\n",
       "nov   1        16877\n",
       "      2        11628\n",
       "      3        15003\n",
       "dec   1        15290\n",
       "      2        11724\n",
       "      3        13065"
      ]
     },
     "execution_count": 12,
     "metadata": {},
     "output_type": "execute_result"
    }
   ],
   "source": [
    "demand.groupby([\"month\", \"rec_id\"]).sum()"
   ]
  },
  {
   "cell_type": "code",
   "execution_count": 13,
   "metadata": {},
   "outputs": [
    {
     "data": {
      "text/html": [
       "<div>\n",
       "<style scoped>\n",
       "    .dataframe tbody tr th:only-of-type {\n",
       "        vertical-align: middle;\n",
       "    }\n",
       "\n",
       "    .dataframe tbody tr th {\n",
       "        vertical-align: top;\n",
       "    }\n",
       "\n",
       "    .dataframe thead th {\n",
       "        text-align: right;\n",
       "    }\n",
       "</style>\n",
       "<table border=\"1\" class=\"dataframe\">\n",
       "  <thead>\n",
       "    <tr style=\"text-align: right;\">\n",
       "      <th>rec_id</th>\n",
       "      <th>1</th>\n",
       "      <th>2</th>\n",
       "      <th>3</th>\n",
       "    </tr>\n",
       "    <tr>\n",
       "      <th>month</th>\n",
       "      <th></th>\n",
       "      <th></th>\n",
       "      <th></th>\n",
       "    </tr>\n",
       "  </thead>\n",
       "  <tbody>\n",
       "    <tr>\n",
       "      <th>jan</th>\n",
       "      <td>16443</td>\n",
       "      <td>14779</td>\n",
       "      <td>12356</td>\n",
       "    </tr>\n",
       "    <tr>\n",
       "      <th>feb</th>\n",
       "      <td>18943</td>\n",
       "      <td>14568</td>\n",
       "      <td>14191</td>\n",
       "    </tr>\n",
       "    <tr>\n",
       "      <th>mar</th>\n",
       "      <td>19727</td>\n",
       "      <td>11552</td>\n",
       "      <td>10613</td>\n",
       "    </tr>\n",
       "    <tr>\n",
       "      <th>apr</th>\n",
       "      <td>10368</td>\n",
       "      <td>10552</td>\n",
       "      <td>10261</td>\n",
       "    </tr>\n",
       "    <tr>\n",
       "      <th>may</th>\n",
       "      <td>15125</td>\n",
       "      <td>13765</td>\n",
       "      <td>10111</td>\n",
       "    </tr>\n",
       "    <tr>\n",
       "      <th>jun</th>\n",
       "      <td>18413</td>\n",
       "      <td>14758</td>\n",
       "      <td>16552</td>\n",
       "    </tr>\n",
       "    <tr>\n",
       "      <th>jul</th>\n",
       "      <td>17442</td>\n",
       "      <td>11285</td>\n",
       "      <td>12428</td>\n",
       "    </tr>\n",
       "    <tr>\n",
       "      <th>aug</th>\n",
       "      <td>19986</td>\n",
       "      <td>10799</td>\n",
       "      <td>19101</td>\n",
       "    </tr>\n",
       "    <tr>\n",
       "      <th>sep</th>\n",
       "      <td>15302</td>\n",
       "      <td>13370</td>\n",
       "      <td>10577</td>\n",
       "    </tr>\n",
       "    <tr>\n",
       "      <th>oct</th>\n",
       "      <td>13637</td>\n",
       "      <td>13686</td>\n",
       "      <td>10309</td>\n",
       "    </tr>\n",
       "    <tr>\n",
       "      <th>nov</th>\n",
       "      <td>16877</td>\n",
       "      <td>11628</td>\n",
       "      <td>15003</td>\n",
       "    </tr>\n",
       "    <tr>\n",
       "      <th>dec</th>\n",
       "      <td>15290</td>\n",
       "      <td>11724</td>\n",
       "      <td>13065</td>\n",
       "    </tr>\n",
       "  </tbody>\n",
       "</table>\n",
       "</div>"
      ],
      "text/plain": [
       "rec_id      1      2      3\n",
       "month                      \n",
       "jan     16443  14779  12356\n",
       "feb     18943  14568  14191\n",
       "mar     19727  11552  10613\n",
       "apr     10368  10552  10261\n",
       "may     15125  13765  10111\n",
       "jun     18413  14758  16552\n",
       "jul     17442  11285  12428\n",
       "aug     19986  10799  19101\n",
       "sep     15302  13370  10577\n",
       "oct     13637  13686  10309\n",
       "nov     16877  11628  15003\n",
       "dec     15290  11724  13065"
      ]
     },
     "execution_count": 13,
     "metadata": {},
     "output_type": "execute_result"
    }
   ],
   "source": [
    "demand.groupby([\"month\", \"rec_id\"]).sum().pivot_table(index=\"month\", columns='rec_id', values='demand')"
   ]
  },
  {
   "cell_type": "code",
   "execution_count": 14,
   "metadata": {},
   "outputs": [
    {
     "data": {
      "text/plain": [
       "<matplotlib.axes._subplots.AxesSubplot at 0x7fdcfc467210>"
      ]
     },
     "execution_count": 14,
     "metadata": {},
     "output_type": "execute_result"
    },
    {
     "data": {
      "image/png": "[encoded data removed]",
      "text/plain": [
       "<Figure size 432x288 with 1 Axes>"
      ]
     },
     "metadata": {
      "needs_background": "light"
     },
     "output_type": "display_data"
    }
   ],
   "source": [
    "#nb, this will give you one line per col\n",
    "demand.groupby([\"month\", \"rec_id\"]).sum().pivot_table(index=\"month\", columns='rec_id').plot()"
   ]
  },
  {
   "cell_type": "code",
   "execution_count": 15,
   "metadata": {},
   "outputs": [
    {
     "ename": "NameError",
     "evalue": "name 'np' is not defined",
     "output_type": "error",
     "traceback": [
      "\u001b[0;31m---------------------------------------------------------------------------\u001b[0m",
      "\u001b[0;31mNameError\u001b[0m                                 Traceback (most recent call last)",
      "\u001b[0;32m<ipython-input-15-5a09365a2d7b>\u001b[0m in \u001b[0;36m<module>\u001b[0;34m\u001b[0m\n\u001b[0;32m----> 1\u001b[0;31m \u001b[0mdata\u001b[0m \u001b[0;34m=\u001b[0m \u001b[0mpd\u001b[0m\u001b[0;34m.\u001b[0m\u001b[0mSeries\u001b[0m\u001b[0;34m(\u001b[0m\u001b[0mnp\u001b[0m\u001b[0;34m.\u001b[0m\u001b[0mrandom\u001b[0m\u001b[0;34m.\u001b[0m\u001b[0mrandn\u001b[0m\u001b[0;34m(\u001b[0m\u001b[0;36m1000\u001b[0m\u001b[0;34m)\u001b[0m\u001b[0;34m)\u001b[0m\u001b[0;34m\u001b[0m\u001b[0;34m\u001b[0m\u001b[0m\n\u001b[0m\u001b[1;32m      2\u001b[0m \u001b[0mdata\u001b[0m\u001b[0;34m\u001b[0m\u001b[0;34m\u001b[0m\u001b[0m\n",
      "\u001b[0;31mNameError\u001b[0m: name 'np' is not defined"
     ]
    }
   ],
   "source": [
    "data = pd.Series(np.random.randn(1000))\n",
    "data"
   ]
  },
  {
   "cell_type": "code",
   "execution_count": null,
   "metadata": {},
   "outputs": [],
   "source": [
    "data.hist(figsize=(6, 4), bins=5)"
   ]
  },
  {
   "cell_type": "code",
   "execution_count": null,
   "metadata": {
    "scrolled": false
   },
   "outputs": [],
   "source": [
    "data.hist(figsize=(6, 4), bins=100)"
   ]
  },
  {
   "cell_type": "code",
   "execution_count": null,
   "metadata": {},
   "outputs": [],
   "source": [
    "#Review project \n",
    "#no need to save query results anywhere unless stated to"
   ]
  },
  {
   "cell_type": "markdown",
   "metadata": {},
   "source": [
    "select the supplier_id col from suppliers table"
   ]
  },
  {
   "cell_type": "code",
   "execution_count": null,
   "metadata": {},
   "outputs": [],
   "source": []
  },
  {
   "cell_type": "markdown",
   "metadata": {},
   "source": [
    "Select the supplier_id and ingredient_uuid col from suppliers table.\n",
    "\n",
    "Remember its the weird looking double square brackets to select a list of cols.\n",
    "The first brackets select, the second (inside ones) are for the list."
   ]
  },
  {
   "cell_type": "code",
   "execution_count": null,
   "metadata": {},
   "outputs": [],
   "source": []
  },
  {
   "cell_type": "markdown",
   "metadata": {},
   "source": [
    "what happens if you select them in the opposite order?\n",
    "\n",
    "df[['cola', 'colb']] vs df[['colb', 'cola']]"
   ]
  },
  {
   "cell_type": "code",
   "execution_count": null,
   "metadata": {},
   "outputs": [],
   "source": []
  },
  {
   "cell_type": "markdown",
   "metadata": {},
   "source": [
    "select row with index 3 from suppliers table"
   ]
  },
  {
   "cell_type": "code",
   "execution_count": null,
   "metadata": {},
   "outputs": [],
   "source": []
  },
  {
   "cell_type": "markdown",
   "metadata": {},
   "source": [
    "sort the supplies table on the country_of_origin col in decending order, and save result in original variable"
   ]
  },
  {
   "cell_type": "code",
   "execution_count": null,
   "metadata": {},
   "outputs": [],
   "source": []
  },
  {
   "cell_type": "markdown",
   "metadata": {},
   "source": [
    "select row with index 3 from suppliers table"
   ]
  },
  {
   "cell_type": "code",
   "execution_count": null,
   "metadata": {},
   "outputs": [],
   "source": []
  },
  {
   "cell_type": "markdown",
   "metadata": {},
   "source": [
    "select row in position 3 from suppliers table"
   ]
  },
  {
   "cell_type": "code",
   "execution_count": null,
   "metadata": {},
   "outputs": [],
   "source": []
  },
  {
   "cell_type": "code",
   "execution_count": null,
   "metadata": {},
   "outputs": [],
   "source": [
    "#given this dict\n",
    "\n",
    "d = {'supp_id': 'belize',\n",
    " 'ingredient_uuid': 'cocoa',\n",
    " 'cost_per_unit': 2200,\n",
    " 'unit_name': 'tonne',\n",
    " 'country_of_origin': 'ghana',\n",
    " 'total_tax_per_unit': 14,\n",
    " 'time_to_deliver': 12}\n",
    "\n",
    "#use append to add a new row to the supplies table, and remember to save the result\n",
    "#remember to use ignore_index=True when you append like this, or it won't know where to add your row and will complain.\n",
    "#using ignore_index=True means it will add it to the \"bottom\" of your df, with a new index value pandas will create."
   ]
  },
  {
   "cell_type": "markdown",
   "metadata": {},
   "source": [
    "select all the demand in the month of may"
   ]
  },
  {
   "cell_type": "code",
   "execution_count": null,
   "metadata": {},
   "outputs": [],
   "source": []
  },
  {
   "cell_type": "markdown",
   "metadata": {},
   "source": [
    "select all the rows of demand with demand greater that 17442"
   ]
  },
  {
   "cell_type": "code",
   "execution_count": null,
   "metadata": {},
   "outputs": [],
   "source": []
  },
  {
   "cell_type": "markdown",
   "metadata": {},
   "source": [
    "Is demand ever greater that 17442 in may, june or july?"
   ]
  },
  {
   "cell_type": "code",
   "execution_count": null,
   "metadata": {},
   "outputs": [],
   "source": []
  },
  {
   "cell_type": "markdown",
   "metadata": {},
   "source": [
    "using idxmin, find the cheapest supplier of cocoa"
   ]
  },
  {
   "cell_type": "code",
   "execution_count": null,
   "metadata": {},
   "outputs": [],
   "source": []
  },
  {
   "cell_type": "markdown",
   "metadata": {},
   "source": [
    "use groupby and idxmin to find the index of the cheapest supplier of each ingredient\n",
    "\n",
    "then select these rows from the original table using loc and save it into a new table called cheapest_suppliers\n"
   ]
  },
  {
   "cell_type": "code",
   "execution_count": null,
   "metadata": {},
   "outputs": [],
   "source": []
  },
  {
   "cell_type": "markdown",
   "metadata": {},
   "source": [
    "create a histogram of price distribution for all ingredients (one plot for all ingredients together)"
   ]
  },
  {
   "cell_type": "code",
   "execution_count": null,
   "metadata": {},
   "outputs": [],
   "source": []
  },
  {
   "cell_type": "markdown",
   "metadata": {},
   "source": [
    "what is the variance of demand in each month for each recipe?\n",
    "take demand and groupby month and rec_id then find the variance ( use df.groupby( \"something\" ).var() )\n",
    "\n",
    "now make a bar plot to show the variance in each month"
   ]
  },
  {
   "cell_type": "code",
   "execution_count": null,
   "metadata": {},
   "outputs": [],
   "source": []
  },
  {
   "cell_type": "markdown",
   "metadata": {},
   "source": [
    "create a 3 pie plots each showing demand for a rec_id each month. One segment of the plot should be for each month.\n",
    "\n",
    "hint: groupby rec_id first, see what happens if you run plot directly on your groupby?"
   ]
  },
  {
   "cell_type": "code",
   "execution_count": null,
   "metadata": {},
   "outputs": [],
   "source": []
  },
  {
   "cell_type": "markdown",
   "metadata": {},
   "source": [
    "merge recipe table into demand on \"rec_id\" to find demand for each recipe. Create a line plot for each recipe."
   ]
  },
  {
   "cell_type": "code",
   "execution_count": null,
   "metadata": {},
   "outputs": [],
   "source": []
  },
  {
   "cell_type": "markdown",
   "metadata": {},
   "source": [
    "merge recipe table into suppliers on \"ingredient_uuid\", then find the highest tax ingredient in each recipe.\n",
    "\n",
    "create a bar plot of ingredient_uuid vs highest tax rate"
   ]
  },
  {
   "cell_type": "code",
   "execution_count": null,
   "metadata": {},
   "outputs": [],
   "source": []
  },
  {
   "cell_type": "markdown",
   "metadata": {},
   "source": [
    "merge recipe table into suppliers on \"ingredient_uuid\", then find the highest delivery time ingredient in each recipe.\n",
    "\n",
    "create a bar plot of ingredient_uuid vs highest delivery time"
   ]
  },
  {
   "cell_type": "code",
   "execution_count": null,
   "metadata": {},
   "outputs": [],
   "source": []
  },
  {
   "cell_type": "code",
   "execution_count": null,
   "metadata": {},
   "outputs": [],
   "source": [
    "#load this file\n",
    "flavors = pd.read_csv(\"https://www.dropbox.com/s/lix81ov5ut6fobb/flavours_of_cocoa.csv?dl=1\")\n",
    "flavors"
   ]
  },
  {
   "cell_type": "markdown",
   "metadata": {},
   "source": [
    "drop any nan from the above table using dropna.\n",
    "how many rows were dropped?"
   ]
  },
  {
   "cell_type": "code",
   "execution_count": null,
   "metadata": {},
   "outputs": [],
   "source": []
  },
  {
   "cell_type": "markdown",
   "metadata": {},
   "source": [
    "groupby company, and plot in a bar plot the average rating"
   ]
  },
  {
   "cell_type": "code",
   "execution_count": null,
   "metadata": {},
   "outputs": [],
   "source": []
  },
  {
   "cell_type": "markdown",
   "metadata": {},
   "source": [
    "convert the cocoa percent col into a float, currently it is a string (called \"object\" in pandas). you can check using flavors.dtypes\n",
    "\n",
    "superhint: flavors['Cocoa Percent'] = flavors['Cocoa Percent'].apply(lambda x : float(x.rstrip(\"%\")) )\n",
    "the usual astype trick won't work due to the % symbol"
   ]
  },
  {
   "cell_type": "code",
   "execution_count": null,
   "metadata": {},
   "outputs": [],
   "source": []
  },
  {
   "cell_type": "markdown",
   "metadata": {},
   "source": [
    "now groupby bean origin, and plot in a bar plot the average rating (you'll need a 20,20 size plot at least ;) )"
   ]
  },
  {
   "cell_type": "code",
   "execution_count": null,
   "metadata": {},
   "outputs": [],
   "source": []
  },
  {
   "cell_type": "markdown",
   "metadata": {},
   "source": [
    "now groupby \"Company Location\", and plot in a bar plot the max rating per group (you'll need a 20,20 size plot at least ;) )"
   ]
  },
  {
   "cell_type": "code",
   "execution_count": null,
   "metadata": {},
   "outputs": [],
   "source": []
  },
  {
   "cell_type": "markdown",
   "metadata": {},
   "source": [
    "create a scatter plot of \"Cocoa Percent\" vs rating (use rot=90 option to stop the labels schmooshing up)"
   ]
  },
  {
   "cell_type": "code",
   "execution_count": null,
   "metadata": {},
   "outputs": [],
   "source": []
  },
  {
   "cell_type": "markdown",
   "metadata": {},
   "source": [
    "create a histogram of \"Rating\" col values with 3 bins, 5 bins and 100 bins"
   ]
  },
  {
   "cell_type": "code",
   "execution_count": null,
   "metadata": {},
   "outputs": [],
   "source": []
  },
  {
   "cell_type": "markdown",
   "metadata": {},
   "source": [
    "find the higest rated row using sort_values and head (rather than idxmax)"
   ]
  },
  {
   "cell_type": "code",
   "execution_count": null,
   "metadata": {},
   "outputs": [],
   "source": []
  },
  {
   "cell_type": "markdown",
   "metadata": {},
   "source": [
    "find the higest rated row using idxmax and loc"
   ]
  },
  {
   "cell_type": "code",
   "execution_count": null,
   "metadata": {},
   "outputs": [],
   "source": []
  },
  {
   "cell_type": "markdown",
   "metadata": {},
   "source": []
  },
  {
   "cell_type": "code",
   "execution_count": null,
   "metadata": {},
   "outputs": [],
   "source": []
  },
  {
   "cell_type": "code",
   "execution_count": null,
   "metadata": {},
   "outputs": [],
   "source": []
  }
 ],
 "metadata": {
  "kernelspec": {
   "display_name": "Python 3 (ipykernel)",
   "language": "python",
   "name": "python3"
  },
  "language_info": {
   "codemirror_mode": {
    "name": "ipython",
    "version": 3
   },
   "file_extension": ".py",
   "mimetype": "text/x-python",
   "name": "python",
   "nbconvert_exporter": "python",
   "pygments_lexer": "ipython3",
   "version": "3.8.12"
  }
 },
 "nbformat": 4,
 "nbformat_minor": 4
}
