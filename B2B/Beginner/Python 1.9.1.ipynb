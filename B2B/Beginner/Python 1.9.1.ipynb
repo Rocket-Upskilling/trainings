{
 "cells": [
  {
   "cell_type": "code",
   "execution_count": null,
   "metadata": {},
   "outputs": [],
   "source": [
    "import pandas as pd"
   ]
  },
  {
   "cell_type": "code",
   "execution_count": null,
   "metadata": {},
   "outputs": [],
   "source": [
    "suppliers = pd.read_csv(\"https://www.dropbox.com/s/jjbacrux6bc1b4s/suppliers.csv?dl=1\")\n",
    "demand = pd.read_csv(\"https://www.dropbox.com/s/0yikq3pugq87vl9/demand_forecasts.csv?dl=1\")\n",
    "recipes = pd.read_csv(\"https://www.dropbox.com/s/az97voeh6i8x3i2/recipes.csv?dl=1\")"
   ]
  },
  {
   "cell_type": "code",
   "execution_count": null,
   "metadata": {
    "scrolled": true
   },
   "outputs": [],
   "source": [
    "suppliers"
   ]
  },
  {
   "cell_type": "code",
   "execution_count": null,
   "metadata": {
    "scrolled": true
   },
   "outputs": [],
   "source": [
    "months = [\"jan\", \"feb\", \"mar\", \"apr\", \"may\", \"jun\", \n",
    "          \"jul\", \"aug\", \"sep\", \"oct\", \"nov\", \"dec\"]\n",
    "\n",
    "demand['month'] = pd.Categorical(demand['month'], categories=months, ordered=True)\n",
    "demand\n"
   ]
  },
  {
   "cell_type": "code",
   "execution_count": null,
   "metadata": {},
   "outputs": [],
   "source": [
    "recipes"
   ]
  },
  {
   "cell_type": "code",
   "execution_count": null,
   "metadata": {},
   "outputs": [],
   "source": [
    "recipes.plot.scatter(y='ingredient_uuid', x='time_to_process')"
   ]
  },
  {
   "cell_type": "code",
   "execution_count": null,
   "metadata": {},
   "outputs": [],
   "source": [
    "suppliers.plot(x=\"supp_id\", y=\"cost_per_unit\", rot=45, figsize=(10,10))"
   ]
  },
  {
   "cell_type": "code",
   "execution_count": null,
   "metadata": {},
   "outputs": [],
   "source": [
    "#nb pie needs only a \"series\", i.e. one col\n",
    "\n",
    "recipes['time_to_process'].plot.pie( labels = recipes['ingredient_uuid'], figsize=(10,10) )"
   ]
  },
  {
   "cell_type": "code",
   "execution_count": null,
   "metadata": {},
   "outputs": [],
   "source": [
    "suppliers.set_index(['supp_id', \"ingredient_uuid\"])"
   ]
  },
  {
   "cell_type": "code",
   "execution_count": null,
   "metadata": {},
   "outputs": [],
   "source": [
    "#if you don't specify x, you'll get the index values\n",
    "suppliers.set_index(['supp_id', \"ingredient_uuid\"]).plot.bar(y=\"cost_per_unit\", rot=90, figsize=(10,10))"
   ]
  },
  {
   "cell_type": "code",
   "execution_count": null,
   "metadata": {},
   "outputs": [],
   "source": [
    "demand.groupby([\"month\", \"rec_id\"]).sum().plot.bar()"
   ]
  },
  {
   "cell_type": "code",
   "execution_count": null,
   "metadata": {
    "scrolled": true
   },
   "outputs": [],
   "source": [
    "demand.groupby([\"month\", \"rec_id\"]).sum()"
   ]
  },
  {
   "cell_type": "code",
   "execution_count": null,
   "metadata": {},
   "outputs": [],
   "source": [
    "demand.groupby([\"month\", \"rec_id\"]).sum().pivot_table(index=\"month\", columns='rec_id', values='demand')"
   ]
  },
  {
   "cell_type": "code",
   "execution_count": null,
   "metadata": {},
   "outputs": [],
   "source": [
    "#nb, this will give you one line per col\n",
    "demand.groupby([\"month\", \"rec_id\"]).sum().pivot_table(index=\"month\", columns='rec_id').plot()"
   ]
  },
  {
   "cell_type": "code",
   "execution_count": null,
   "metadata": {},
   "outputs": [],
   "source": [
    "data = pd.Series(np.random.randn(1000))\n",
    "data"
   ]
  },
  {
   "cell_type": "code",
   "execution_count": null,
   "metadata": {},
   "outputs": [],
   "source": [
    "data.hist(figsize=(6, 4), bins=5)"
   ]
  },
  {
   "cell_type": "code",
   "execution_count": null,
   "metadata": {
    "scrolled": false
   },
   "outputs": [],
   "source": [
    "data.hist(figsize=(6, 4), bins=100)"
   ]
  },
  {
   "cell_type": "code",
   "execution_count": null,
   "metadata": {},
   "outputs": [],
   "source": [
    "#Review project \n",
    "#no need to save query results anywhere unless stated to"
   ]
  },
  {
   "cell_type": "markdown",
   "metadata": {},
   "source": [
    "select the supplier_id col from suppliers table"
   ]
  },
  {
   "cell_type": "code",
   "execution_count": null,
   "metadata": {},
   "outputs": [],
   "source": []
  },
  {
   "cell_type": "markdown",
   "metadata": {},
   "source": [
    "Select the supplier_id and ingredient_uuid col from suppliers table.\n",
    "\n",
    "Remember its the weird looking double square brackets to select a list of cols.\n",
    "The first brackets select, the second (inside ones) are for the list."
   ]
  },
  {
   "cell_type": "code",
   "execution_count": null,
   "metadata": {},
   "outputs": [],
   "source": []
  },
  {
   "cell_type": "markdown",
   "metadata": {},
   "source": [
    "what happens if you select them in the opposite order?\n",
    "\n",
    "df[['cola', 'colb']] vs df[['colb', 'cola']]"
   ]
  },
  {
   "cell_type": "code",
   "execution_count": null,
   "metadata": {},
   "outputs": [],
   "source": []
  },
  {
   "cell_type": "markdown",
   "metadata": {},
   "source": [
    "select row with index 3 from suppliers table"
   ]
  },
  {
   "cell_type": "code",
   "execution_count": null,
   "metadata": {},
   "outputs": [],
   "source": []
  },
  {
   "cell_type": "markdown",
   "metadata": {},
   "source": [
    "sort the supplies table on the country_of_origin col in decending order, and save result in original variable"
   ]
  },
  {
   "cell_type": "code",
   "execution_count": null,
   "metadata": {},
   "outputs": [],
   "source": []
  },
  {
   "cell_type": "markdown",
   "metadata": {},
   "source": [
    "select row with index 3 from suppliers table"
   ]
  },
  {
   "cell_type": "code",
   "execution_count": null,
   "metadata": {},
   "outputs": [],
   "source": []
  },
  {
   "cell_type": "markdown",
   "metadata": {},
   "source": [
    "select row in position 3 from suppliers table"
   ]
  },
  {
   "cell_type": "code",
   "execution_count": null,
   "metadata": {},
   "outputs": [],
   "source": []
  },
  {
   "cell_type": "code",
   "execution_count": null,
   "metadata": {},
   "outputs": [],
   "source": [
    "#given this dict\n",
    "\n",
    "d = {'supp_id': 'belize',\n",
    " 'ingredient_uuid': 'cocoa',\n",
    " 'cost_per_unit': 2200,\n",
    " 'unit_name': 'tonne',\n",
    " 'country_of_origin': 'ghana',\n",
    " 'total_tax_per_unit': 14,\n",
    " 'time_to_deliver': 12}\n",
    "\n",
    "#use append to add a new row to the supplies table, and remember to save the result\n",
    "#remember to use ignore_index=True when you append like this, or it won't know where to add your row and will complain.\n",
    "#using ignore_index=True means it will add it to the \"bottom\" of your df, with a new index value pandas will create."
   ]
  },
  {
   "cell_type": "markdown",
   "metadata": {},
   "source": [
    "select all the demand in the month of may"
   ]
  },
  {
   "cell_type": "code",
   "execution_count": null,
   "metadata": {},
   "outputs": [],
   "source": []
  },
  {
   "cell_type": "markdown",
   "metadata": {},
   "source": [
    "select all the rows of demand with demand greater that 17442"
   ]
  },
  {
   "cell_type": "code",
   "execution_count": null,
   "metadata": {},
   "outputs": [],
   "source": []
  },
  {
   "cell_type": "markdown",
   "metadata": {},
   "source": [
    "Is demand ever greater that 17442 in may, june or july?"
   ]
  },
  {
   "cell_type": "code",
   "execution_count": null,
   "metadata": {},
   "outputs": [],
   "source": []
  },
  {
   "cell_type": "markdown",
   "metadata": {},
   "source": [
    "using idxmin, find the cheapest supplier of cocoa"
   ]
  },
  {
   "cell_type": "code",
   "execution_count": null,
   "metadata": {},
   "outputs": [],
   "source": []
  },
  {
   "cell_type": "markdown",
   "metadata": {},
   "source": [
    "use groupby and idxmin to find the index of the cheapest supplier of each ingredient\n",
    "\n",
    "then select these rows from the original table using loc and save it into a new table called cheapest_suppliers\n"
   ]
  },
  {
   "cell_type": "code",
   "execution_count": null,
   "metadata": {},
   "outputs": [],
   "source": []
  },
  {
   "cell_type": "markdown",
   "metadata": {},
   "source": [
    "create a histogram of price distribution for all ingredients (one plot for all ingredients together)"
   ]
  },
  {
   "cell_type": "code",
   "execution_count": null,
   "metadata": {},
   "outputs": [],
   "source": []
  },
  {
   "cell_type": "markdown",
   "metadata": {},
   "source": [
    "what is the variance of demand in each month for each recipe?\n",
    "take demand and groupby month and rec_id then find the variance ( use df.groupby( \"something\" ).var() )\n",
    "\n",
    "now make a bar plot to show the variance in each month"
   ]
  },
  {
   "cell_type": "code",
   "execution_count": null,
   "metadata": {},
   "outputs": [],
   "source": []
  },
  {
   "cell_type": "markdown",
   "metadata": {},
   "source": [
    "create a 3 pie plots each showing demand for a rec_id each month. One segment of the plot should be for each month.\n",
    "\n",
    "hint: groupby rec_id first, see what happens if you run plot directly on your groupby?"
   ]
  },
  {
   "cell_type": "code",
   "execution_count": null,
   "metadata": {},
   "outputs": [],
   "source": []
  },
  {
   "cell_type": "markdown",
   "metadata": {},
   "source": [
    "merge recipe table into demand on \"rec_id\" to find demand for each recipe. Create a line plot for each recipe."
   ]
  },
  {
   "cell_type": "code",
   "execution_count": null,
   "metadata": {},
   "outputs": [],
   "source": []
  },
  {
   "cell_type": "markdown",
   "metadata": {},
   "source": [
    "merge recipe table into suppliers on \"ingredient_uuid\", then find the highest tax ingredient in each recipe.\n",
    "\n",
    "create a bar plot of ingredient_uuid vs highest tax rate"
   ]
  },
  {
   "cell_type": "code",
   "execution_count": null,
   "metadata": {},
   "outputs": [],
   "source": []
  },
  {
   "cell_type": "markdown",
   "metadata": {},
   "source": [
    "merge recipe table into suppliers on \"ingredient_uuid\", then find the highest delivery time ingredient in each recipe.\n",
    "\n",
    "create a bar plot of ingredient_uuid vs highest delivery time"
   ]
  },
  {
   "cell_type": "code",
   "execution_count": null,
   "metadata": {},
   "outputs": [],
   "source": []
  },
  {
   "cell_type": "code",
   "execution_count": null,
   "metadata": {},
   "outputs": [],
   "source": [
    "#load this file\n",
    "flavors = pd.read_csv(\"https://www.dropbox.com/s/lix81ov5ut6fobb/flavours_of_cocoa.csv?dl=1\")\n",
    "flavors"
   ]
  },
  {
   "cell_type": "markdown",
   "metadata": {},
   "source": [
    "drop any nan from the above table using dropna.\n",
    "how many rows were dropped?"
   ]
  },
  {
   "cell_type": "code",
   "execution_count": null,
   "metadata": {},
   "outputs": [],
   "source": []
  },
  {
   "cell_type": "markdown",
   "metadata": {},
   "source": [
    "groupby company, and plot in a bar plot the average rating"
   ]
  },
  {
   "cell_type": "code",
   "execution_count": null,
   "metadata": {},
   "outputs": [],
   "source": []
  },
  {
   "cell_type": "markdown",
   "metadata": {},
   "source": [
    "convert the cocoa percent col into a float, currently it is a string (called \"object\" in pandas). you can check using flavors.dtypes\n",
    "\n",
    "superhint: flavors['Cocoa Percent'] = flavors['Cocoa Percent'].apply(lambda x : float(x.rstrip(\"%\")) )\n",
    "the usual astype trick won't work due to the % symbol"
   ]
  },
  {
   "cell_type": "code",
   "execution_count": null,
   "metadata": {},
   "outputs": [],
   "source": []
  },
  {
   "cell_type": "markdown",
   "metadata": {},
   "source": [
    "now groupby bean origin, and plot in a bar plot the average rating (you'll need a 20,20 size plot at least ;) )"
   ]
  },
  {
   "cell_type": "code",
   "execution_count": null,
   "metadata": {},
   "outputs": [],
   "source": []
  },
  {
   "cell_type": "markdown",
   "metadata": {},
   "source": [
    "now groupby \"Company Location\", and plot in a bar plot the max rating per group (you'll need a 20,20 size plot at least ;) )"
   ]
  },
  {
   "cell_type": "code",
   "execution_count": null,
   "metadata": {},
   "outputs": [],
   "source": []
  },
  {
   "cell_type": "markdown",
   "metadata": {},
   "source": [
    "create a scatter plot of \"Cocoa Percent\" vs rating (use rot=90 option to stop the labels schmooshing up)"
   ]
  },
  {
   "cell_type": "code",
   "execution_count": null,
   "metadata": {},
   "outputs": [],
   "source": []
  },
  {
   "cell_type": "markdown",
   "metadata": {},
   "source": [
    "create a histogram of \"Rating\" col values with 3 bins, 5 bins and 100 bins"
   ]
  },
  {
   "cell_type": "code",
   "execution_count": null,
   "metadata": {},
   "outputs": [],
   "source": []
  },
  {
   "cell_type": "markdown",
   "metadata": {},
   "source": [
    "find the higest rated row using sort_values and head (rather than idxmax)"
   ]
  },
  {
   "cell_type": "code",
   "execution_count": null,
   "metadata": {},
   "outputs": [],
   "source": []
  },
  {
   "cell_type": "markdown",
   "metadata": {},
   "source": [
    "find the higest rated row using idxmax and loc"
   ]
  },
  {
   "cell_type": "code",
   "execution_count": null,
   "metadata": {},
   "outputs": [],
   "source": []
  },
  {
   "cell_type": "markdown",
   "metadata": {},
   "source": []
  }
 ],
 "metadata": {
  "kernelspec": {
   "display_name": "Python 3",
   "language": "python",
   "name": "python3"
  },
  "language_info": {
   "codemirror_mode": {
    "name": "ipython",
    "version": 3
   },
   "file_extension": ".py",
   "mimetype": "text/x-python",
   "name": "python",
   "nbconvert_exporter": "python",
   "pygments_lexer": "ipython3",
   "version": "3.8.10"
  }
 },
 "nbformat": 4,
 "nbformat_minor": 4
}
