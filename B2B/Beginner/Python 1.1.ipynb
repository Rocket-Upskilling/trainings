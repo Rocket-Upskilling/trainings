{
 "cells": [
  {
   "cell_type": "markdown",
   "id": "5183323c",
   "metadata": {},
   "source": [
    "# Day 1 Challenges \n",
    "## Variables and Sequences"
   ]
  },
  {
   "cell_type": "markdown",
   "id": "5d73fe78",
   "metadata": {},
   "source": [
    "1. Create a Code cell.\n",
    "    - Select exercise 2.\n",
    "    - Click on the `+` button or type `B`."
   ]
  },
  {
   "cell_type": "markdown",
   "id": "b799e791",
   "metadata": {},
   "source": [
    "2. Create a variable.\n",
    "    - Store a string and print it.\n",
    "    - Store a number and print it."
   ]
  },
  {
   "cell_type": "markdown",
   "id": "954afdd7",
   "metadata": {},
   "source": [
    "3. Create a list of numbers.\n",
    "    - Practice selecting using `[]` each part of the list."
   ]
  },
  {
   "cell_type": "markdown",
   "id": "791b5132",
   "metadata": {},
   "source": [
    "4. Create a string.\n",
    "    - Practice selecting using `[]` each part of the string."
   ]
  },
  {
   "cell_type": "markdown",
   "id": "62a393fa",
   "metadata": {},
   "source": [
    "5. Create a tuple of numbers.\n",
    "    - Practice selecting using `[]` each part of the tuple."
   ]
  }
 ],
 "metadata": {
  "kernelspec": {
   "display_name": "Python 3 (ipykernel)",
   "language": "python",
   "name": "python3"
  },
  "language_info": {
   "codemirror_mode": {
    "name": "ipython",
    "version": 3
   },
   "file_extension": ".py",
   "mimetype": "text/x-python",
   "name": "python",
   "nbconvert_exporter": "python",
   "pygments_lexer": "ipython3",
   "version": "3.8.11"
  }
 },
 "nbformat": 4,
 "nbformat_minor": 5
}
