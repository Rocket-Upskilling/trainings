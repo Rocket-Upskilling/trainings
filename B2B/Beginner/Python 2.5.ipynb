{
 "cells": [
  {
   "cell_type": "code",
   "execution_count": null,
   "id": "0b0995a8",
   "metadata": {},
   "outputs": [],
   "source": [
    "import pandas as pd\n",
    "import numpy as np\n",
    "import random\n",
    "from sklearn import preprocessing\n",
    "from sklearn.ensemble import RandomForestClassifier\n",
    "from sklearn.metrics import accuracy_score\n",
    "from sklearn.metrics import confusion_matrix\n",
    "from sklearn.model_selection import ShuffleSplit\n",
    "from sklearn.model_selection import train_test_split"
   ]
  },
  {
   "cell_type": "code",
   "execution_count": null,
   "id": "265a2dd6",
   "metadata": {},
   "outputs": [],
   "source": [
    "churn_2_classes = pd.read_csv('https://www.dropbox.com/s/4l8l5u9k5bpbk77/churn_2_classes.csv?dl=1', index_col=0)\n",
    "churn_3_classes = pd.read_csv('https://www.dropbox.com/s/6lzrfy4afncpcta/churn_3_classes.csv?dl=1', index_col=0)"
   ]
  },
  {
   "cell_type": "code",
   "execution_count": null,
   "id": "63d80bdd",
   "metadata": {},
   "outputs": [],
   "source": [
    "churn_2_classes"
   ]
  },
  {
   "cell_type": "code",
   "execution_count": null,
   "id": "d8b39f71",
   "metadata": {},
   "outputs": [],
   "source": [
    "df1 = churn_2_classes[churn_2_classes['status'] == 'active']\n",
    "df2 = churn_2_classes[churn_2_classes['status'] == 'cancelled']"
   ]
  },
  {
   "cell_type": "code",
   "execution_count": null,
   "id": "405bb3e0",
   "metadata": {},
   "outputs": [],
   "source": [
    "df1 = df1.sample(frac=0.1) # frac = len(df2)/len(df1)"
   ]
  },
  {
   "cell_type": "code",
   "execution_count": null,
   "id": "9b096017",
   "metadata": {},
   "outputs": [],
   "source": [
    "#now the classes are the same size\n",
    "len(df1) == len(df2)"
   ]
  },
  {
   "cell_type": "code",
   "execution_count": null,
   "id": "30f418da",
   "metadata": {},
   "outputs": [],
   "source": [
    "df = pd.concat([df1,df2], ignore_index=True)\n",
    "df"
   ]
  },
  {
   "cell_type": "code",
   "execution_count": null,
   "id": "6d74b0a0",
   "metadata": {},
   "outputs": [],
   "source": [
    "churn_3_classes"
   ]
  },
  {
   "cell_type": "code",
   "execution_count": null,
   "id": "eeda278a",
   "metadata": {},
   "outputs": [],
   "source": [
    "churn_3_classes['status'].value_counts()"
   ]
  },
  {
   "cell_type": "code",
   "execution_count": null,
   "id": "47322a05",
   "metadata": {},
   "outputs": [],
   "source": [
    "#harder with 3 classes\n",
    "\n",
    "df1 = churn_3_classes[churn_3_classes['status'] == 'active']\n",
    "df2 = churn_3_classes[churn_3_classes['status'] == 'cancelled']\n",
    "df3 = churn_3_classes[churn_3_classes['status'] == 'paused']"
   ]
  },
  {
   "cell_type": "code",
   "execution_count": null,
   "id": "b7225495",
   "metadata": {},
   "outputs": [],
   "source": [
    "df1.shape[0], df2.shape[0], df3.shape[0]"
   ]
  },
  {
   "cell_type": "code",
   "execution_count": null,
   "id": "c63c9c1d",
   "metadata": {},
   "outputs": [],
   "source": [
    "#in this case \n",
    "df1 = df1.sample(frac=0.1)\n",
    "#also works..."
   ]
  },
  {
   "cell_type": "code",
   "execution_count": null,
   "id": "98c5ddb1",
   "metadata": {},
   "outputs": [],
   "source": [
    "df = pd.concat([df1,df2,df3], ignore_index=True)\n",
    "df"
   ]
  },
  {
   "cell_type": "code",
   "execution_count": null,
   "id": "b2dca89b",
   "metadata": {},
   "outputs": [],
   "source": [
    "df['status'].value_counts()"
   ]
  },
  {
   "cell_type": "code",
   "execution_count": null,
   "id": "bc86b4a4",
   "metadata": {},
   "outputs": [],
   "source": [
    "rfc = RandomForestClassifier(max_depth=10, n_estimators=100)"
   ]
  },
  {
   "cell_type": "code",
   "execution_count": null,
   "id": "98f6b92c",
   "metadata": {},
   "outputs": [],
   "source": [
    "y = df['status']\n",
    "le = preprocessing.LabelEncoder()\n",
    "le.fit(y)"
   ]
  },
  {
   "cell_type": "code",
   "execution_count": null,
   "id": "7f02c146",
   "metadata": {},
   "outputs": [],
   "source": [
    "df.loc[:,'status'] = le.transform(df['status'])\n",
    "df"
   ]
  },
  {
   "cell_type": "code",
   "execution_count": null,
   "id": "b8838c77",
   "metadata": {},
   "outputs": [],
   "source": [
    "X = df.drop(['status', 'median_order_type'], axis=1)"
   ]
  },
  {
   "cell_type": "code",
   "execution_count": null,
   "id": "5dc454ce",
   "metadata": {},
   "outputs": [],
   "source": [
    "rfc.fit( X,y )"
   ]
  },
  {
   "cell_type": "code",
   "execution_count": null,
   "id": "152d06d8",
   "metadata": {},
   "outputs": [],
   "source": [
    "y = churn_2_classes['status']\n",
    "le = preprocessing.LabelEncoder()\n",
    "le.fit(y)\n",
    "\n",
    "churn_2_classes.loc[:,'status'] = le.transform(churn_2_classes['status'])\n",
    "churn_2_classes"
   ]
  },
  {
   "cell_type": "code",
   "execution_count": null,
   "id": "b94f77c9",
   "metadata": {},
   "outputs": [],
   "source": [
    "X = churn_2_classes.drop(['status', 'median_order_type'], axis=1)"
   ]
  },
  {
   "cell_type": "code",
   "execution_count": null,
   "id": "9e42fb52",
   "metadata": {},
   "outputs": [],
   "source": [
    "rfc = RandomForestClassifier(max_depth=10, n_estimators=10, class_weight=\"balanced\")\n",
    "rfc.fit( X, y )"
   ]
  },
  {
   "cell_type": "code",
   "execution_count": null,
   "id": "11cdb021",
   "metadata": {},
   "outputs": [],
   "source": [
    "scores = []\n",
    "ss = ShuffleSplit(n_splits=3, test_size=0.25)\n",
    "\n",
    "for train_index, test_index in ss.split(X):\n",
    "    X_train, X_test = X.iloc[train_index], X.iloc[test_index]\n",
    "    y_train, y_test = y.iloc[train_index], y.iloc[test_index]\n",
    "    \n",
    "    rfc.fit(X_train, y_train)\n",
    "    \n",
    "    preds = rfc.predict( X_test )\n",
    "\n",
    "    scores.append(accuracy_score(preds, y_test))"
   ]
  },
  {
   "cell_type": "code",
   "execution_count": null,
   "id": "80f19aff",
   "metadata": {},
   "outputs": [],
   "source": [
    "#more valid, but harder to interpret\n",
    "scores"
   ]
  },
  {
   "cell_type": "code",
   "execution_count": null,
   "id": "74b12183",
   "metadata": {},
   "outputs": [],
   "source": [
    "rfc = RandomForestClassifier(max_depth=100, n_estimators=100, class_weight=\"balanced\")\n",
    "rfc.fit( X, y )"
   ]
  },
  {
   "cell_type": "code",
   "execution_count": null,
   "id": "e4696b4d",
   "metadata": {},
   "outputs": [],
   "source": [
    "scores = []\n",
    "ss = ShuffleSplit(n_splits=3, test_size=0.25)\n",
    "\n",
    "for train_index, test_index in ss.split(X):\n",
    "    X_train, X_test = X.iloc[train_index], X.iloc[test_index]\n",
    "    y_train, y_test = y.iloc[train_index], y.iloc[test_index]\n",
    "    \n",
    "    rfc.fit(X_train, y_train)\n",
    "    \n",
    "    preds = rfc.predict( X_test )\n",
    "\n",
    "    scores.append(accuracy_score(preds, y_test))"
   ]
  },
  {
   "cell_type": "code",
   "execution_count": null,
   "id": "564a33b3",
   "metadata": {},
   "outputs": [],
   "source": [
    "# better scores with more params\n",
    "scores"
   ]
  },
  {
   "cell_type": "code",
   "execution_count": null,
   "id": "0cf0ee92",
   "metadata": {},
   "outputs": [],
   "source": [
    "#pivot tables"
   ]
  },
  {
   "cell_type": "code",
   "execution_count": null,
   "id": "fff5f96e",
   "metadata": {},
   "outputs": [],
   "source": [
    "suppliers = pd.read_csv(\"https://www.dropbox.com/s/jjbacrux6bc1b4s/suppliers.csv?dl=1\")\n",
    "# demand = pd.read_csv(\"https://www.dropbox.com/s/0yikq3pugq87vl9/demand_forecasts.csv?dl=1\")\n",
    "# recipes = pd.read_csv(\"https://www.dropbox.com/s/az97voeh6i8x3i2/recipes.csv?dl=1\")"
   ]
  },
  {
   "cell_type": "code",
   "execution_count": null,
   "id": "eef688bd",
   "metadata": {},
   "outputs": [],
   "source": [
    "suppliers"
   ]
  },
  {
   "cell_type": "code",
   "execution_count": null,
   "id": "b4787883",
   "metadata": {},
   "outputs": [],
   "source": [
    "pd.pivot(suppliers, values=\"ingredient_uuid\", columns=['supp_id'])"
   ]
  },
  {
   "cell_type": "code",
   "execution_count": null,
   "id": "252c0411",
   "metadata": {},
   "outputs": [],
   "source": [
    "pd.pivot(suppliers, values=\"total_tax_per_unit\", columns=['supp_id'])"
   ]
  },
  {
   "cell_type": "code",
   "execution_count": null,
   "id": "f3080a71",
   "metadata": {},
   "outputs": [],
   "source": [
    "pd.pivot(suppliers,index=\"ingredient_uuid\", values=\"total_tax_per_unit\", columns=['supp_id'])"
   ]
  },
  {
   "cell_type": "code",
   "execution_count": null,
   "id": "29b80cf5",
   "metadata": {},
   "outputs": [],
   "source": [
    "#THIS LINE!!!!\n",
    "pd.pivot(suppliers, index=\"ingredient_uuid\", values=\"total_tax_per_unit\", columns=['supp_id', 'country_of_origin'])"
   ]
  },
  {
   "cell_type": "code",
   "execution_count": null,
   "id": "94c8e634",
   "metadata": {},
   "outputs": [],
   "source": [
    "pd.pivot(suppliers, index=\"ingredient_uuid\", values=\"time_to_deliver\", columns=['supp_id'])"
   ]
  },
  {
   "cell_type": "code",
   "execution_count": null,
   "id": "52a7808b",
   "metadata": {},
   "outputs": [],
   "source": [
    "pd.pivot(suppliers, values=\"ingredient_uuid\", columns=['supp_id'])"
   ]
  },
  {
   "cell_type": "code",
   "execution_count": null,
   "id": "ab72c1c1",
   "metadata": {},
   "outputs": [],
   "source": [
    "pd.pivot_table(suppliers, values=\"total_tax_per_unit\", columns=['supp_id'], aggfunc=np.mean)"
   ]
  },
  {
   "cell_type": "code",
   "execution_count": null,
   "id": "2dd64db6",
   "metadata": {},
   "outputs": [],
   "source": [
    "pd.pivot_table(suppliers, values=\"total_tax_per_unit\", columns=['supp_id'], aggfunc=np.max)"
   ]
  },
  {
   "cell_type": "code",
   "execution_count": null,
   "id": "d83056d1",
   "metadata": {},
   "outputs": [],
   "source": [
    "pd.pivot_table(suppliers, values=\"total_tax_per_unit\", columns=['supp_id'], aggfunc=np.min)"
   ]
  },
  {
   "cell_type": "code",
   "execution_count": null,
   "id": "e290294c",
   "metadata": {},
   "outputs": [],
   "source": [
    "pd.pivot(suppliers, values=\"total_tax_per_unit\", columns=['ingredient_uuid'])"
   ]
  },
  {
   "cell_type": "code",
   "execution_count": null,
   "id": "cdd887ba",
   "metadata": {},
   "outputs": [],
   "source": [
    "pd.pivot_table(suppliers, values=\"total_tax_per_unit\", columns=['ingredient_uuid'], aggfunc=np.min)"
   ]
  },
  {
   "cell_type": "code",
   "execution_count": null,
   "id": "4d6bb171",
   "metadata": {},
   "outputs": [],
   "source": [
    "pd.pivot_table(suppliers, values=[\"total_tax_per_unit\", \"time_to_deliver\"], columns=['supp_id'], aggfunc=np.min)"
   ]
  },
  {
   "cell_type": "code",
   "execution_count": null,
   "id": "24abba49",
   "metadata": {},
   "outputs": [],
   "source": [
    "pd.pivot_table(suppliers, values=[\"total_tax_per_unit\"], columns=['supp_id', 'ingredient_uuid'], aggfunc=np.min)"
   ]
  },
  {
   "cell_type": "code",
   "execution_count": null,
   "id": "c91b03c1",
   "metadata": {},
   "outputs": [],
   "source": [
    "pd.pivot(suppliers, values=[\"total_tax_per_unit\"], columns=['supp_id', 'ingredient_uuid'])"
   ]
  },
  {
   "cell_type": "code",
   "execution_count": null,
   "id": "41d415d4",
   "metadata": {},
   "outputs": [],
   "source": [
    "p=pd.pivot_table(suppliers, values=[\"total_tax_per_unit\"], columns=['supp_id', 'ingredient_uuid'], aggfunc=np.min)"
   ]
  },
  {
   "cell_type": "code",
   "execution_count": null,
   "id": "6bb20170",
   "metadata": {},
   "outputs": [],
   "source": [
    "p.T"
   ]
  },
  {
   "cell_type": "code",
   "execution_count": null,
   "id": "ede9110c",
   "metadata": {},
   "outputs": [],
   "source": [
    "q=suppliers.set_index(['supp_id', 'ingredient_uuid'])\n",
    "q"
   ]
  },
  {
   "cell_type": "code",
   "execution_count": null,
   "id": "c901f138",
   "metadata": {},
   "outputs": [],
   "source": [
    "q.unstack()"
   ]
  },
  {
   "cell_type": "code",
   "execution_count": null,
   "id": "b6640fb9",
   "metadata": {},
   "outputs": [],
   "source": [
    "q.stack().to_frame(name=\"some new name\")"
   ]
  },
  {
   "cell_type": "code",
   "execution_count": null,
   "id": "35a6465f",
   "metadata": {},
   "outputs": [],
   "source": [
    "q.unstack(0)"
   ]
  },
  {
   "cell_type": "code",
   "execution_count": null,
   "id": "6bceb656",
   "metadata": {},
   "outputs": [],
   "source": [
    "q.unstack(1)"
   ]
  },
  {
   "cell_type": "code",
   "execution_count": null,
   "id": "c18a1e21",
   "metadata": {},
   "outputs": [],
   "source": [
    "q.melt()"
   ]
  },
  {
   "cell_type": "code",
   "execution_count": null,
   "id": "1136e521",
   "metadata": {},
   "outputs": [],
   "source": [
    "suppliers.melt()"
   ]
  },
  {
   "cell_type": "code",
   "execution_count": null,
   "id": "03856265",
   "metadata": {},
   "outputs": [],
   "source": [
    "suppliers.melt(id_vars=['supp_id'])"
   ]
  },
  {
   "cell_type": "code",
   "execution_count": null,
   "id": "92cf5ffd",
   "metadata": {},
   "outputs": [],
   "source": [
    "suppliers.melt(id_vars=['supp_id', 'ingredient_uuid'])"
   ]
  },
  {
   "cell_type": "code",
   "execution_count": null,
   "id": "89a28e18",
   "metadata": {},
   "outputs": [],
   "source": [
    "suppliers.melt(id_vars=['supp_id', 'ingredient_uuid']).T"
   ]
  }
 ],
 "metadata": {
  "kernelspec": {
   "display_name": "Python 3",
   "language": "python",
   "name": "python3"
  },
  "language_info": {
   "codemirror_mode": {
    "name": "ipython",
    "version": 3
   },
   "file_extension": ".py",
   "mimetype": "text/x-python",
   "name": "python",
   "nbconvert_exporter": "python",
   "pygments_lexer": "ipython3",
   "version": "3.9.4"
  }
 },
 "nbformat": 4,
 "nbformat_minor": 5
}
